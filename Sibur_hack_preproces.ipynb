{
 "cells": [
  {
   "cell_type": "code",
   "execution_count": 211,
   "metadata": {},
   "outputs": [],
   "source": [
    "import numpy as np\n",
    "import pandas as pd\n",
    "import datetime\n",
    "from datetime import datetime\n",
    "import time"
   ]
  },
  {
   "cell_type": "code",
   "execution_count": 4,
   "metadata": {},
   "outputs": [],
   "source": [
    "st_data = pd.read_excel(\"Стажи и одинокие родители (1).xlsx\")"
   ]
  },
  {
   "cell_type": "code",
   "execution_count": 5,
   "metadata": {},
   "outputs": [
    {
     "data": {
      "text/html": [
       "<div>\n",
       "<style scoped>\n",
       "    .dataframe tbody tr th:only-of-type {\n",
       "        vertical-align: middle;\n",
       "    }\n",
       "\n",
       "    .dataframe tbody tr th {\n",
       "        vertical-align: top;\n",
       "    }\n",
       "\n",
       "    .dataframe thead th {\n",
       "        text-align: right;\n",
       "    }\n",
       "</style>\n",
       "<table border=\"1\" class=\"dataframe\">\n",
       "  <thead>\n",
       "    <tr style=\"text-align: right;\">\n",
       "      <th></th>\n",
       "      <th>Предприятие</th>\n",
       "      <th>Табельный  №</th>\n",
       "      <th>ФИО</th>\n",
       "      <th>Дата рождения</th>\n",
       "      <th>Семейное положение</th>\n",
       "      <th>Стаж работы в СИБУР</th>\n",
       "    </tr>\n",
       "  </thead>\n",
       "  <tbody>\n",
       "    <tr>\n",
       "      <th>0</th>\n",
       "      <td>Озерный город</td>\n",
       "      <td>433602817.0</td>\n",
       "      <td>Саламатова Алла Иосифовна</td>\n",
       "      <td>1971-08-19 00:00:00</td>\n",
       "      <td>Состоит в зарегистрированном браке</td>\n",
       "      <td>лет: 18 мес: 5 дн:28</td>\n",
       "    </tr>\n",
       "    <tr>\n",
       "      <th>1</th>\n",
       "      <td>Озерный город</td>\n",
       "      <td>433350763.0</td>\n",
       "      <td>Немов Игорь Ипатиевич</td>\n",
       "      <td>1957-01-30 00:00:00</td>\n",
       "      <td>Состоит в зарегистрированном браке</td>\n",
       "      <td>лет: 14 мес:11 дн: 0</td>\n",
       "    </tr>\n",
       "    <tr>\n",
       "      <th>2</th>\n",
       "      <td>Озерный город</td>\n",
       "      <td>433579962.0</td>\n",
       "      <td>Воропаев Никон Демьянович</td>\n",
       "      <td>1984-10-25 00:00:00</td>\n",
       "      <td>Состоит в зарегистрированном браке</td>\n",
       "      <td>лет:  7 мес:10 дн: 1</td>\n",
       "    </tr>\n",
       "    <tr>\n",
       "      <th>3</th>\n",
       "      <td>Озерный город</td>\n",
       "      <td>NaN</td>\n",
       "      <td>Вакансия</td>\n",
       "      <td>NaN</td>\n",
       "      <td>NaN</td>\n",
       "      <td>лет:  0 мес: 0 дн: 0</td>\n",
       "    </tr>\n",
       "    <tr>\n",
       "      <th>4</th>\n",
       "      <td>Озерный город</td>\n",
       "      <td>433602516.0</td>\n",
       "      <td>Шуличенко Каролина Анатолиевна</td>\n",
       "      <td>1970-06-12 00:00:00</td>\n",
       "      <td>Состоит в зарегистрированном браке</td>\n",
       "      <td>лет:  0 мес: 1 дн:21</td>\n",
       "    </tr>\n",
       "  </tbody>\n",
       "</table>\n",
       "</div>"
      ],
      "text/plain": [
       "     Предприятие  Табельный  №                               ФИО  \\\n",
       "0  Озерный город   433602817.0        Саламатова Алла Иосифовна    \n",
       "1  Озерный город   433350763.0            Немов Игорь Ипатиевич    \n",
       "2  Озерный город   433579962.0        Воропаев Никон Демьянович    \n",
       "3  Озерный город           NaN                          Вакансия   \n",
       "4  Озерный город   433602516.0   Шуличенко Каролина Анатолиевна    \n",
       "\n",
       "         Дата рождения                  Семейное положение  \\\n",
       "0  1971-08-19 00:00:00  Состоит в зарегистрированном браке   \n",
       "1  1957-01-30 00:00:00  Состоит в зарегистрированном браке   \n",
       "2  1984-10-25 00:00:00  Состоит в зарегистрированном браке   \n",
       "3                  NaN                                 NaN   \n",
       "4  1970-06-12 00:00:00  Состоит в зарегистрированном браке   \n",
       "\n",
       "    Стаж работы в СИБУР  \n",
       "0  лет: 18 мес: 5 дн:28  \n",
       "1  лет: 14 мес:11 дн: 0  \n",
       "2  лет:  7 мес:10 дн: 1  \n",
       "3  лет:  0 мес: 0 дн: 0  \n",
       "4  лет:  0 мес: 1 дн:21  "
      ]
     },
     "execution_count": 5,
     "metadata": {},
     "output_type": "execute_result"
    }
   ],
   "source": [
    "st_data.head()"
   ]
  },
  {
   "cell_type": "code",
   "execution_count": 6,
   "metadata": {},
   "outputs": [],
   "source": [
    "luch_data = pd.read_excel(\"Лучший по профессии (1).xlsx\")"
   ]
  },
  {
   "cell_type": "code",
   "execution_count": 60,
   "metadata": {},
   "outputs": [
    {
     "data": {
      "text/html": [
       "<div>\n",
       "<style scoped>\n",
       "    .dataframe tbody tr th:only-of-type {\n",
       "        vertical-align: middle;\n",
       "    }\n",
       "\n",
       "    .dataframe tbody tr th {\n",
       "        vertical-align: top;\n",
       "    }\n",
       "\n",
       "    .dataframe thead th {\n",
       "        text-align: right;\n",
       "    }\n",
       "</style>\n",
       "<table border=\"1\" class=\"dataframe\">\n",
       "  <thead>\n",
       "    <tr style=\"text-align: right;\">\n",
       "      <th></th>\n",
       "      <th>user_id</th>\n",
       "      <th>time_prikaz</th>\n",
       "      <th>prize_1</th>\n",
       "      <th>prize_2</th>\n",
       "      <th>prize_3</th>\n",
       "      <th>prize_4</th>\n",
       "      <th>prize_5</th>\n",
       "      <th>prize_6</th>\n",
       "      <th>prize_7</th>\n",
       "    </tr>\n",
       "  </thead>\n",
       "  <tbody>\n",
       "    <tr>\n",
       "      <th>0</th>\n",
       "      <td>683342593</td>\n",
       "      <td>13.11.2017</td>\n",
       "      <td>1</td>\n",
       "      <td>0</td>\n",
       "      <td>0</td>\n",
       "      <td>0</td>\n",
       "      <td>0</td>\n",
       "      <td>0</td>\n",
       "      <td>0</td>\n",
       "    </tr>\n",
       "    <tr>\n",
       "      <th>1</th>\n",
       "      <td>683357532</td>\n",
       "      <td>27.10.2017</td>\n",
       "      <td>0</td>\n",
       "      <td>1</td>\n",
       "      <td>0</td>\n",
       "      <td>0</td>\n",
       "      <td>0</td>\n",
       "      <td>0</td>\n",
       "      <td>0</td>\n",
       "    </tr>\n",
       "    <tr>\n",
       "      <th>2</th>\n",
       "      <td>683387247</td>\n",
       "      <td>27.10.2017</td>\n",
       "      <td>0</td>\n",
       "      <td>1</td>\n",
       "      <td>0</td>\n",
       "      <td>0</td>\n",
       "      <td>0</td>\n",
       "      <td>0</td>\n",
       "      <td>0</td>\n",
       "    </tr>\n",
       "    <tr>\n",
       "      <th>3</th>\n",
       "      <td>683387489</td>\n",
       "      <td>27.10.2017</td>\n",
       "      <td>0</td>\n",
       "      <td>1</td>\n",
       "      <td>0</td>\n",
       "      <td>0</td>\n",
       "      <td>0</td>\n",
       "      <td>0</td>\n",
       "      <td>0</td>\n",
       "    </tr>\n",
       "    <tr>\n",
       "      <th>4</th>\n",
       "      <td>683380914</td>\n",
       "      <td>27.10.2017</td>\n",
       "      <td>0</td>\n",
       "      <td>1</td>\n",
       "      <td>0</td>\n",
       "      <td>0</td>\n",
       "      <td>0</td>\n",
       "      <td>0</td>\n",
       "      <td>0</td>\n",
       "    </tr>\n",
       "  </tbody>\n",
       "</table>\n",
       "</div>"
      ],
      "text/plain": [
       "     user_id time_prikaz  prize_1  prize_2  prize_3  prize_4  prize_5  \\\n",
       "0  683342593  13.11.2017        1        0        0        0        0   \n",
       "1  683357532  27.10.2017        0        1        0        0        0   \n",
       "2  683387247  27.10.2017        0        1        0        0        0   \n",
       "3  683387489  27.10.2017        0        1        0        0        0   \n",
       "4  683380914  27.10.2017        0        1        0        0        0   \n",
       "\n",
       "   prize_6  prize_7  \n",
       "0        0        0  \n",
       "1        0        0  \n",
       "2        0        0  \n",
       "3        0        0  \n",
       "4        0        0  "
      ]
     },
     "execution_count": 60,
     "metadata": {},
     "output_type": "execute_result"
    }
   ],
   "source": [
    "luch_data.head()"
   ]
  },
  {
   "cell_type": "code",
   "execution_count": 8,
   "metadata": {},
   "outputs": [],
   "source": [
    "luch_data = luch_data.rename(columns = {\"Табельный номер\":\"user_id\"})"
   ]
  },
  {
   "cell_type": "code",
   "execution_count": 10,
   "metadata": {},
   "outputs": [],
   "source": [
    "del luch_data[\"ФИО\"]"
   ]
  },
  {
   "cell_type": "code",
   "execution_count": 12,
   "metadata": {},
   "outputs": [],
   "source": [
    "del luch_data[\"Мотив для поощрения\"]"
   ]
  },
  {
   "cell_type": "code",
   "execution_count": 29,
   "metadata": {},
   "outputs": [],
   "source": [
    "del luch_data[\"Приказ \"]"
   ]
  },
  {
   "cell_type": "code",
   "execution_count": 48,
   "metadata": {},
   "outputs": [],
   "source": [
    "del luch_data[\"Период действия С \"]"
   ]
  },
  {
   "cell_type": "code",
   "execution_count": 22,
   "metadata": {},
   "outputs": [],
   "source": [
    "new_values = []"
   ]
  },
  {
   "cell_type": "code",
   "execution_count": 23,
   "metadata": {},
   "outputs": [],
   "source": [
    "for i in luch_data[\"Приказ \"]:\n",
    "    new_values.append(i[:5])"
   ]
  },
  {
   "cell_type": "code",
   "execution_count": 55,
   "metadata": {},
   "outputs": [
    {
     "data": {
      "text/plain": [
       "array(['За участие в конкурсе профмастерства на уровне Холдинга:\\nучастника номинации «Сварочные технологии», занявшего 3-е – Бурнашева Д.А. \\nСотрудник стал призером конкурса Worldskills.',\n",
       "       'протокол заседания комиссии для проведения конкурса профмастерства среди водителей и машинистов спецтехники от 21.10.2017 01/29/ЗСТГ',\n",
       "       'протокол подведения итогов 1 этапа конкурса профмастерства Лучший трубопроводчик линейный\"',\n",
       "       'протоколы работы Комиссии II этапа конкурса проф.мастерства на звание «Лучший по профессии» по всем номинациям ',\n",
       "       'протоколы работы Комиссии I этапа конкурса проф.мастерства на звание «Лучший по профессии» ',\n",
       "       'призер чемпионата Worldskills Hi-Tech 2018',\n",
       "       'протокол заседания комиссии для проведения конкурса профмастерства среди водителей и машинистов спецтехники от 26.10.2018 01/29/ЗСТГ',\n",
       "       'ЗСТГ_1 этап КПМ 2018'], dtype=object)"
      ]
     },
     "execution_count": 55,
     "metadata": {},
     "output_type": "execute_result"
    }
   ],
   "source": [
    "luch_data[\"Доп информация (основание)\"].unique()"
   ]
  },
  {
   "cell_type": "code",
   "execution_count": null,
   "metadata": {},
   "outputs": [],
   "source": [
    "luch_data[\"time_prikaz\"] = np.array(new_values)"
   ]
  },
  {
   "cell_type": "code",
   "execution_count": 46,
   "metadata": {},
   "outputs": [],
   "source": [
    "luch_data['time_prikaz'] = luch_data['time_prikaz'].astype(str) + \".\" + luch_data['Период действия С '].astype(str)"
   ]
  },
  {
   "cell_type": "code",
   "execution_count": 51,
   "metadata": {},
   "outputs": [],
   "source": [
    "luch_data[\"prize_1\"] = np.array([1 if s == \"За участие в конкурсе профмастерства на уровне Холдинга:\\nучастника номинации «Сварочные технологии», занявшего 3-е – Бурнашева Д.А. \\nСотрудник стал призером конкурса Worldskills.\" else 0 for s in luch_data[\"Доп информация (основание)\"]])\n",
    "#data[\"S\"] = np.array([1 if s == \"S\" else 0 for s in data[\"Embarked\"]])\n",
    "#data[\"Q\"] = np.array([1 if s == \"Q\" else 0 for s in data[\"Embarked\"]])"
   ]
  },
  {
   "cell_type": "code",
   "execution_count": 56,
   "metadata": {},
   "outputs": [],
   "source": [
    "luch_data[\"prize_2\"] = np.array([1 if s == \"протокол заседания комиссии для проведения конкурса профмастерства среди водителей и машинистов спецтехники от 21.10.2017 01/29/ЗСТГ\" or s == \"протокол заседания комиссии для проведения конкурса профмастерства среди водителей и машинистов спецтехники от 26.10.2018 01/29/ЗСТГ\" else 0 for s in luch_data[\"Доп информация (основание)\"]])"
   ]
  },
  {
   "cell_type": "code",
   "execution_count": 57,
   "metadata": {},
   "outputs": [],
   "source": [
    "luch_data[\"prize_3\"] = np.array([1 if s == 'протокол подведения итогов 1 этапа конкурса профмастерства Лучший трубопроводчик линейный\"' else 0 for s in luch_data[\"Доп информация (основание)\"]])\n",
    "luch_data[\"prize_4\"] = np.array([1 if s == \"протоколы работы Комиссии II этапа конкурса проф.мастерства на звание «Лучший по профессии» по всем номинациям \" else 0 for s in luch_data[\"Доп информация (основание)\"]])\n",
    "luch_data[\"prize_5\"] = np.array([1 if s == \"протоколы работы Комиссии I этапа конкурса проф.мастерства на звание «Лучший по профессии» \" else 0 for s in luch_data[\"Доп информация (основание)\"]])\n",
    "luch_data[\"prize_6\"] = np.array([1 if s == \"призер чемпионата Worldskills Hi-Tech 2018\" else 0 for s in luch_data[\"Доп информация (основание)\"]])\n",
    "luch_data[\"prize_7\"] = np.array([1 if s == \"ЗСТГ_1 этап КПМ 2018\" else 0 for s in luch_data[\"Доп информация (основание)\"]])"
   ]
  },
  {
   "cell_type": "code",
   "execution_count": 59,
   "metadata": {},
   "outputs": [],
   "source": [
    "del luch_data[\"Доп информация (основание)\"]"
   ]
  },
  {
   "cell_type": "code",
   "execution_count": 61,
   "metadata": {},
   "outputs": [],
   "source": [
    "luch_data.to_csv(\"luch_data.csv\", sep = \",\", index = False)"
   ]
  },
  {
   "cell_type": "code",
   "execution_count": 95,
   "metadata": {},
   "outputs": [],
   "source": [
    "mnogodet_data = pd.read_excel(\"Многодетные (1).xlsx\")"
   ]
  },
  {
   "cell_type": "code",
   "execution_count": 75,
   "metadata": {},
   "outputs": [
    {
     "data": {
      "text/plain": [
       "(34387, 7)"
      ]
     },
     "execution_count": 75,
     "metadata": {},
     "output_type": "execute_result"
    }
   ],
   "source": [
    "mnogodet_data.shape"
   ]
  },
  {
   "cell_type": "code",
   "execution_count": 96,
   "metadata": {},
   "outputs": [],
   "source": [
    "del mnogodet_data[\"N п/п\"]"
   ]
  },
  {
   "cell_type": "code",
   "execution_count": 126,
   "metadata": {},
   "outputs": [],
   "source": [
    "mnogodet_data_1 = mnogodet_data.dropna()"
   ]
  },
  {
   "cell_type": "code",
   "execution_count": 127,
   "metadata": {},
   "outputs": [
    {
     "data": {
      "text/html": [
       "<div>\n",
       "<style scoped>\n",
       "    .dataframe tbody tr th:only-of-type {\n",
       "        vertical-align: middle;\n",
       "    }\n",
       "\n",
       "    .dataframe tbody tr th {\n",
       "        vertical-align: top;\n",
       "    }\n",
       "\n",
       "    .dataframe thead th {\n",
       "        text-align: right;\n",
       "    }\n",
       "</style>\n",
       "<table border=\"1\" class=\"dataframe\">\n",
       "  <thead>\n",
       "    <tr style=\"text-align: right;\">\n",
       "      <th></th>\n",
       "      <th>Предприятие</th>\n",
       "      <th>Таб. номер</th>\n",
       "      <th>ФИО</th>\n",
       "      <th>Дата рождения</th>\n",
       "      <th>Степень родства</th>\n",
       "      <th>ФИ0 ребенка</th>\n",
       "      <th>Дата рождения ребенка</th>\n",
       "    </tr>\n",
       "  </thead>\n",
       "  <tbody>\n",
       "    <tr>\n",
       "      <th>1864</th>\n",
       "      <td>Ба́мблби</td>\n",
       "      <td>633524165.0</td>\n",
       "      <td>Энтский Иннокентий Касьянович</td>\n",
       "      <td>07.09.1951</td>\n",
       "      <td>Дочь</td>\n",
       "      <td>Энтский Ирина</td>\n",
       "      <td>01.01.1975</td>\n",
       "    </tr>\n",
       "    <tr>\n",
       "      <th>1865</th>\n",
       "      <td>Ба́мблби</td>\n",
       "      <td>633524165.0</td>\n",
       "      <td>Энтский Иннокентий Касьянович</td>\n",
       "      <td>07.09.1951</td>\n",
       "      <td>Сын</td>\n",
       "      <td>Энтский Алик</td>\n",
       "      <td>01.01.1980</td>\n",
       "    </tr>\n",
       "    <tr>\n",
       "      <th>1866</th>\n",
       "      <td>Ба́мблби</td>\n",
       "      <td>633380338.0</td>\n",
       "      <td>Шеломов Эмиль Адамович</td>\n",
       "      <td>15.05.1991</td>\n",
       "      <td>Сын</td>\n",
       "      <td>Шеломов Самир Айнурович</td>\n",
       "      <td>01.03.2017</td>\n",
       "    </tr>\n",
       "    <tr>\n",
       "      <th>1867</th>\n",
       "      <td>Ба́мблби</td>\n",
       "      <td>633380338.0</td>\n",
       "      <td>Шеломов Эмиль Адамович</td>\n",
       "      <td>15.05.1991</td>\n",
       "      <td>Сын</td>\n",
       "      <td>Шеломов Амир Айнурович</td>\n",
       "      <td>01.03.2017</td>\n",
       "    </tr>\n",
       "    <tr>\n",
       "      <th>1868</th>\n",
       "      <td>Ба́мблби</td>\n",
       "      <td>633524218.0</td>\n",
       "      <td>Петрухин Аркадий Денисович</td>\n",
       "      <td>01.06.1953</td>\n",
       "      <td>Сын</td>\n",
       "      <td>Петрухин Ринат</td>\n",
       "      <td>04.12.1984</td>\n",
       "    </tr>\n",
       "  </tbody>\n",
       "</table>\n",
       "</div>"
      ],
      "text/plain": [
       "     Предприятие   Таб. номер                              ФИО Дата рождения  \\\n",
       "1864    Ба́мблби  633524165.0   Энтский Иннокентий Касьянович     07.09.1951   \n",
       "1865    Ба́мблби  633524165.0   Энтский Иннокентий Касьянович     07.09.1951   \n",
       "1866    Ба́мблби  633380338.0          Шеломов Эмиль Адамович     15.05.1991   \n",
       "1867    Ба́мблби  633380338.0          Шеломов Эмиль Адамович     15.05.1991   \n",
       "1868    Ба́мблби  633524218.0      Петрухин Аркадий Денисович     01.06.1953   \n",
       "\n",
       "     Степень родства              ФИ0 ребенка Дата рождения ребенка  \n",
       "1864            Дочь           Энтский Ирина             01.01.1975  \n",
       "1865             Сын            Энтский Алик             01.01.1980  \n",
       "1866             Сын  Шеломов Самир Айнурович            01.03.2017  \n",
       "1867             Сын   Шеломов Амир Айнурович            01.03.2017  \n",
       "1868             Сын          Петрухин Ринат             04.12.1984  "
      ]
     },
     "execution_count": 127,
     "metadata": {},
     "output_type": "execute_result"
    }
   ],
   "source": [
    "mnogodet_data_1.head()"
   ]
  },
  {
   "cell_type": "code",
   "execution_count": 128,
   "metadata": {},
   "outputs": [],
   "source": [
    "mnogodet_data_1 = mnogodet_data_1.rename(columns = {\"Таб. номер\":\"user_id\"})"
   ]
  },
  {
   "cell_type": "code",
   "execution_count": 129,
   "metadata": {},
   "outputs": [],
   "source": [
    "mnogodet_data_1 = mnogodet_data_1.rename(columns = {\"Предприятие\":\"dep_id\"})\n",
    "mnogodet_data_1 = mnogodet_data_1.rename(columns = {\"Дата рождения\":\"worker_birth_date\"})\n",
    "mnogodet_data_1 = mnogodet_data_1.rename(columns = {\"Степень родства\":\"child_type\"})\n",
    "mnogodet_data_1 = mnogodet_data_1.rename(columns = {\"Дата рождения ребенка\":\"child_birth_date\"})"
   ]
  },
  {
   "cell_type": "code",
   "execution_count": 130,
   "metadata": {},
   "outputs": [],
   "source": [
    "del mnogodet_data_1[\"ФИО\"]"
   ]
  },
  {
   "cell_type": "code",
   "execution_count": 131,
   "metadata": {},
   "outputs": [],
   "source": [
    "mnogodet_data_1[\"child_type\"] = np.array([1 if s == \"Дочь\" else 0 for s in mnogodet_data_1.child_type])"
   ]
  },
  {
   "cell_type": "code",
   "execution_count": 132,
   "metadata": {},
   "outputs": [],
   "source": [
    "mnogodet_data_1.user_id = mnogodet_data_1.user_id.astype(int)"
   ]
  },
  {
   "cell_type": "code",
   "execution_count": 138,
   "metadata": {},
   "outputs": [
    {
     "data": {
      "text/plain": [
       "array([2164, 2490, 2129,  447, 3741, 1718,  796, 1143,  247,  674,    0,\n",
       "       1033,  520,  861, 1199,  181, 1408,  281,  213, 3500,   24,  155,\n",
       "          5, 1400,   49,   17,   14])"
      ]
     },
     "execution_count": 138,
     "metadata": {},
     "output_type": "execute_result"
    }
   ],
   "source": [
    "mnogodet_data_1.dep_man_num.unique()"
   ]
  },
  {
   "cell_type": "code",
   "execution_count": 134,
   "metadata": {},
   "outputs": [],
   "source": [
    "del mnogodet_data_1[\"ФИ0 ребенка\"]"
   ]
  },
  {
   "cell_type": "code",
   "execution_count": 289,
   "metadata": {},
   "outputs": [],
   "source": [
    "mapper = {'Ба́мблби' : 2164, 'Лориэн' : 2490, 'Лихолесье': 2129, 'Лесные эдьфы': 447, 'Синие горы': 3741,\n",
    "       'Озерный город': 1718, 'Одинокая гора': 796, 'Мория': 1143, 'Хельмова Падь': 247,\n",
    "       'Хоббитон': 674, 'Мегатро́н': 0, 'Империя сов Илопса': 1033, 'Изенгард': 520, 'Рохан': 861,\n",
    "       'Площадь Гриммо': 2490, 'Рэмпейдж': 0, 'Мглистые горы':1199, 'Сен-Мартен':181,\n",
    "       'Татуин': 0, 'Ривенделл':1033, 'Суллуст ': 1408, 'Данстар':281, 'Минас-Тирит': 213,\n",
    "       'Гундабад':3500, 'Сингапур':24, 'Дальние врата':155, 'Квохор':5, 'Фангорн':1400,\n",
    "       'Вайс-Сити':5, 'Бухта Погибших кораблей':49, 'Сайлент Хилл':17, 'Шир':1400,\n",
    "       'Альдераан':14, \"Гринготтс\": 0}"
   ]
  },
  {
   "cell_type": "code",
   "execution_count": 136,
   "metadata": {},
   "outputs": [],
   "source": [
    "mnogodet_data_1[\"dep_man_num\"] = [mapper[v] for v in mnogodet_data_1.dep_id]"
   ]
  },
  {
   "cell_type": "code",
   "execution_count": 288,
   "metadata": {},
   "outputs": [],
   "source": [
    "mapper_2 = {'Ба́мблби' : 897, 'Лориэн' : 758, 'Лихолесье': 489, 'Лесные эдьфы': 123, 'Синие горы': 1233,\n",
    "       'Озерный город': 487, 'Одинокая гора': 208, 'Мория': 374, 'Хельмова Падь': 47,\n",
    "       'Хоббитон': 275, 'Мегатро́н': 0, 'Империя сов Илопса': 379, 'Изенгард': 168, 'Рохан': 337,\n",
    "       'Площадь Гриммо': 758, 'Рэмпейдж': 0, 'Мглистые горы':559, 'Сен-Мартен':44,\n",
    "       'Татуин': 0, 'Ривенделл':379, 'Суллуст ': 555, 'Данстар':0, 'Минас-Тирит': 60,\n",
    "       'Гундабад':843, 'Сингапур':11, 'Дальние врата':11, 'Квохор':0, 'Фангорн':309,\n",
    "       'Вайс-Сити':0, 'Бухта Погибших кораблей':0, 'Сайлент Хилл':0, 'Шир':309,\n",
    "       'Альдераан':0, \"Гринготтс\": 0}"
   ]
  },
  {
   "cell_type": "code",
   "execution_count": 140,
   "metadata": {},
   "outputs": [],
   "source": [
    "mnogodet_data_1[\"dep_child_num\"] = [mapper_2[v] for v in mnogodet_data_1.dep_id]"
   ]
  },
  {
   "cell_type": "code",
   "execution_count": 145,
   "metadata": {},
   "outputs": [],
   "source": [
    "mnogodet_data_1.to_csv(\"mnogodet_data.csv\", sep=\",\", index=False)"
   ]
  },
  {
   "cell_type": "code",
   "execution_count": 146,
   "metadata": {},
   "outputs": [],
   "source": [
    "opekun_data = pd.read_excel(\"Опекуны (1).xlsx\")"
   ]
  },
  {
   "cell_type": "code",
   "execution_count": 169,
   "metadata": {},
   "outputs": [
    {
     "data": {
      "text/html": [
       "<div>\n",
       "<style scoped>\n",
       "    .dataframe tbody tr th:only-of-type {\n",
       "        vertical-align: middle;\n",
       "    }\n",
       "\n",
       "    .dataframe tbody tr th {\n",
       "        vertical-align: top;\n",
       "    }\n",
       "\n",
       "    .dataframe thead th {\n",
       "        text-align: right;\n",
       "    }\n",
       "</style>\n",
       "<table border=\"1\" class=\"dataframe\">\n",
       "  <thead>\n",
       "    <tr style=\"text-align: right;\">\n",
       "      <th></th>\n",
       "      <th>dep_id</th>\n",
       "      <th>user_id</th>\n",
       "      <th>worker_birth_date</th>\n",
       "      <th>child_type</th>\n",
       "      <th>child_birth_date</th>\n",
       "      <th>dep_man_num</th>\n",
       "      <th>dep_child_num</th>\n",
       "    </tr>\n",
       "  </thead>\n",
       "  <tbody>\n",
       "    <tr>\n",
       "      <th>1</th>\n",
       "      <td>Ба́мблби</td>\n",
       "      <td>633380234</td>\n",
       "      <td>1977-02-17</td>\n",
       "      <td>0</td>\n",
       "      <td>2008-12-11</td>\n",
       "      <td>2164</td>\n",
       "      <td>897</td>\n",
       "    </tr>\n",
       "    <tr>\n",
       "      <th>2</th>\n",
       "      <td>Ба́мблби</td>\n",
       "      <td>633380234</td>\n",
       "      <td>1977-02-17</td>\n",
       "      <td>0</td>\n",
       "      <td>2015-09-27</td>\n",
       "      <td>2164</td>\n",
       "      <td>897</td>\n",
       "    </tr>\n",
       "    <tr>\n",
       "      <th>3</th>\n",
       "      <td>Лориэн</td>\n",
       "      <td>217207880</td>\n",
       "      <td>1961-04-16</td>\n",
       "      <td>0</td>\n",
       "      <td>2013-03-24</td>\n",
       "      <td>2490</td>\n",
       "      <td>758</td>\n",
       "    </tr>\n",
       "    <tr>\n",
       "      <th>4</th>\n",
       "      <td>Лориэн</td>\n",
       "      <td>217207880</td>\n",
       "      <td>1961-04-16</td>\n",
       "      <td>0</td>\n",
       "      <td>2002-08-17</td>\n",
       "      <td>2490</td>\n",
       "      <td>758</td>\n",
       "    </tr>\n",
       "    <tr>\n",
       "      <th>5</th>\n",
       "      <td>Лориэн</td>\n",
       "      <td>216677184</td>\n",
       "      <td>1970-06-30</td>\n",
       "      <td>0</td>\n",
       "      <td>2002-01-11</td>\n",
       "      <td>2490</td>\n",
       "      <td>758</td>\n",
       "    </tr>\n",
       "  </tbody>\n",
       "</table>\n",
       "</div>"
      ],
      "text/plain": [
       "     dep_id    user_id worker_birth_date  child_type child_birth_date  \\\n",
       "1  Ба́мблби  633380234        1977-02-17           0       2008-12-11   \n",
       "2  Ба́мблби  633380234        1977-02-17           0       2015-09-27   \n",
       "3    Лориэн  217207880        1961-04-16           0       2013-03-24   \n",
       "4    Лориэн  217207880        1961-04-16           0       2002-08-17   \n",
       "5    Лориэн  216677184        1970-06-30           0       2002-01-11   \n",
       "\n",
       "   dep_man_num  dep_child_num  \n",
       "1         2164            897  \n",
       "2         2164            897  \n",
       "3         2490            758  \n",
       "4         2490            758  \n",
       "5         2490            758  "
      ]
     },
     "execution_count": 169,
     "metadata": {},
     "output_type": "execute_result"
    }
   ],
   "source": [
    "opekun_data.head()"
   ]
  },
  {
   "cell_type": "code",
   "execution_count": 154,
   "metadata": {},
   "outputs": [],
   "source": [
    "opekun_data = opekun_data.dropna()"
   ]
  },
  {
   "cell_type": "code",
   "execution_count": 156,
   "metadata": {},
   "outputs": [],
   "source": [
    "del opekun_data[\"N п/п\"]"
   ]
  },
  {
   "cell_type": "code",
   "execution_count": 157,
   "metadata": {},
   "outputs": [],
   "source": [
    "del opekun_data[\"ФИ0 ребенка\"]\n",
    "del opekun_data[\"ФИО\"]"
   ]
  },
  {
   "cell_type": "code",
   "execution_count": 159,
   "metadata": {},
   "outputs": [],
   "source": [
    "opekun_data = opekun_data.rename(columns = {\"Предприятие\":\"dep_id\"})\n",
    "opekun_data = opekun_data.rename(columns = {\"Дата рождения\":\"worker_birth_date\"})\n",
    "opekun_data = opekun_data.rename(columns = {\"Степень родства\":\"child_type\"})\n",
    "opekun_data = opekun_data.rename(columns = {\"Дата рождения ребенка\":\"child_birth_date\"})"
   ]
  },
  {
   "cell_type": "code",
   "execution_count": 162,
   "metadata": {},
   "outputs": [],
   "source": [
    "opekun_data = opekun_data.rename(columns = {\"Таб. номер\":\"user_id\"})"
   ]
  },
  {
   "cell_type": "code",
   "execution_count": 163,
   "metadata": {},
   "outputs": [],
   "source": [
    "opekun_data.user_id = opekun_data.user_id.astype(int)"
   ]
  },
  {
   "cell_type": "code",
   "execution_count": 165,
   "metadata": {},
   "outputs": [],
   "source": [
    "opekun_data[\"dep_man_num\"] = [mapper[v] for v in opekun_data.dep_id]\n",
    "opekun_data[\"dep_child_num\"] = [mapper_2[v] for v in opekun_data.dep_id]"
   ]
  },
  {
   "cell_type": "code",
   "execution_count": 167,
   "metadata": {},
   "outputs": [
    {
     "data": {
      "text/plain": [
       "array(['Подопечный', 'Подопечная'], dtype=object)"
      ]
     },
     "execution_count": 167,
     "metadata": {},
     "output_type": "execute_result"
    }
   ],
   "source": [
    "opekun_data.child_type.unique()"
   ]
  },
  {
   "cell_type": "code",
   "execution_count": 168,
   "metadata": {},
   "outputs": [],
   "source": [
    "opekun_data[\"child_type\"] = np.array([1 if s == \"Подопечная\" else 0 for s in opekun_data.child_type])"
   ]
  },
  {
   "cell_type": "code",
   "execution_count": 170,
   "metadata": {},
   "outputs": [],
   "source": [
    "opekun_data.to_csv(\"opekun_data.csv\", sep=\",\", index=False)"
   ]
  },
  {
   "cell_type": "code",
   "execution_count": 185,
   "metadata": {},
   "outputs": [
    {
     "data": {
      "text/plain": [
       "(48, 7)"
      ]
     },
     "execution_count": 185,
     "metadata": {},
     "output_type": "execute_result"
    }
   ],
   "source": [
    "opekun_data.shape"
   ]
  },
  {
   "cell_type": "code",
   "execution_count": 242,
   "metadata": {},
   "outputs": [],
   "source": [
    "mnogodet_data = pd.read_csv(\"mnogodet_data.csv\")"
   ]
  },
  {
   "cell_type": "code",
   "execution_count": 243,
   "metadata": {},
   "outputs": [
    {
     "data": {
      "text/html": [
       "<div>\n",
       "<style scoped>\n",
       "    .dataframe tbody tr th:only-of-type {\n",
       "        vertical-align: middle;\n",
       "    }\n",
       "\n",
       "    .dataframe tbody tr th {\n",
       "        vertical-align: top;\n",
       "    }\n",
       "\n",
       "    .dataframe thead th {\n",
       "        text-align: right;\n",
       "    }\n",
       "</style>\n",
       "<table border=\"1\" class=\"dataframe\">\n",
       "  <thead>\n",
       "    <tr style=\"text-align: right;\">\n",
       "      <th></th>\n",
       "      <th>dep_id</th>\n",
       "      <th>user_id</th>\n",
       "      <th>worker_birth_date</th>\n",
       "      <th>child_type</th>\n",
       "      <th>child_birth_date</th>\n",
       "      <th>dep_man_num</th>\n",
       "      <th>dep_child_num</th>\n",
       "    </tr>\n",
       "  </thead>\n",
       "  <tbody>\n",
       "    <tr>\n",
       "      <th>0</th>\n",
       "      <td>Ба́мблби</td>\n",
       "      <td>633524165</td>\n",
       "      <td>07.09.1951</td>\n",
       "      <td>1</td>\n",
       "      <td>01.01.1975</td>\n",
       "      <td>2164</td>\n",
       "      <td>897</td>\n",
       "    </tr>\n",
       "    <tr>\n",
       "      <th>1</th>\n",
       "      <td>Ба́мблби</td>\n",
       "      <td>633524165</td>\n",
       "      <td>07.09.1951</td>\n",
       "      <td>0</td>\n",
       "      <td>01.01.1980</td>\n",
       "      <td>2164</td>\n",
       "      <td>897</td>\n",
       "    </tr>\n",
       "    <tr>\n",
       "      <th>2</th>\n",
       "      <td>Ба́мблби</td>\n",
       "      <td>633380338</td>\n",
       "      <td>15.05.1991</td>\n",
       "      <td>0</td>\n",
       "      <td>01.03.2017</td>\n",
       "      <td>2164</td>\n",
       "      <td>897</td>\n",
       "    </tr>\n",
       "    <tr>\n",
       "      <th>3</th>\n",
       "      <td>Ба́мблби</td>\n",
       "      <td>633380338</td>\n",
       "      <td>15.05.1991</td>\n",
       "      <td>0</td>\n",
       "      <td>01.03.2017</td>\n",
       "      <td>2164</td>\n",
       "      <td>897</td>\n",
       "    </tr>\n",
       "    <tr>\n",
       "      <th>4</th>\n",
       "      <td>Ба́мблби</td>\n",
       "      <td>633524218</td>\n",
       "      <td>01.06.1953</td>\n",
       "      <td>0</td>\n",
       "      <td>04.12.1984</td>\n",
       "      <td>2164</td>\n",
       "      <td>897</td>\n",
       "    </tr>\n",
       "  </tbody>\n",
       "</table>\n",
       "</div>"
      ],
      "text/plain": [
       "     dep_id    user_id worker_birth_date  child_type child_birth_date  \\\n",
       "0  Ба́мблби  633524165        07.09.1951           1       01.01.1975   \n",
       "1  Ба́мблби  633524165        07.09.1951           0       01.01.1980   \n",
       "2  Ба́мблби  633380338        15.05.1991           0       01.03.2017   \n",
       "3  Ба́мблби  633380338        15.05.1991           0       01.03.2017   \n",
       "4  Ба́мблби  633524218        01.06.1953           0       04.12.1984   \n",
       "\n",
       "   dep_man_num  dep_child_num  \n",
       "0         2164            897  \n",
       "1         2164            897  \n",
       "2         2164            897  \n",
       "3         2164            897  \n",
       "4         2164            897  "
      ]
     },
     "execution_count": 243,
     "metadata": {},
     "output_type": "execute_result"
    }
   ],
   "source": [
    "mnogodet_data.head()"
   ]
  },
  {
   "cell_type": "code",
   "execution_count": 182,
   "metadata": {},
   "outputs": [
    {
     "name": "stdout",
     "output_type": "stream",
     "text": [
      "-3762\n"
     ]
    }
   ],
   "source": [
    "print(((opekun_data.child_birth_date[1] - datetime.datetime.now())).days)"
   ]
  },
  {
   "cell_type": "code",
   "execution_count": 179,
   "metadata": {},
   "outputs": [
    {
     "data": {
      "text/plain": [
       "datetime.datetime(2019, 3, 30, 20, 53, 19, 696077)"
      ]
     },
     "execution_count": 179,
     "metadata": {},
     "output_type": "execute_result"
    }
   ],
   "source": [
    "datetime.datetime.now()"
   ]
  },
  {
   "cell_type": "code",
   "execution_count": 222,
   "metadata": {},
   "outputs": [],
   "source": [
    "new_data = pd.read_csv(\"mnogodet_data.csv\")"
   ]
  },
  {
   "cell_type": "code",
   "execution_count": 237,
   "metadata": {},
   "outputs": [
    {
     "data": {
      "text/plain": [
       "(32523, 5)"
      ]
     },
     "execution_count": 237,
     "metadata": {},
     "output_type": "execute_result"
    }
   ],
   "source": [
    "new_data.shape"
   ]
  },
  {
   "cell_type": "code",
   "execution_count": 227,
   "metadata": {},
   "outputs": [
    {
     "data": {
      "text/plain": [
       "datetime.datetime"
      ]
     },
     "execution_count": 227,
     "metadata": {},
     "output_type": "execute_result"
    }
   ],
   "source": [
    "type(new_data.worker_birth_date.values[1])"
   ]
  },
  {
   "cell_type": "code",
   "execution_count": 188,
   "metadata": {},
   "outputs": [],
   "source": [
    "new_data_2 = opekun_data"
   ]
  },
  {
   "cell_type": "code",
   "execution_count": 232,
   "metadata": {},
   "outputs": [
    {
     "data": {
      "text/html": [
       "<div>\n",
       "<style scoped>\n",
       "    .dataframe tbody tr th:only-of-type {\n",
       "        vertical-align: middle;\n",
       "    }\n",
       "\n",
       "    .dataframe tbody tr th {\n",
       "        vertical-align: top;\n",
       "    }\n",
       "\n",
       "    .dataframe thead th {\n",
       "        text-align: right;\n",
       "    }\n",
       "</style>\n",
       "<table border=\"1\" class=\"dataframe\">\n",
       "  <thead>\n",
       "    <tr style=\"text-align: right;\">\n",
       "      <th></th>\n",
       "      <th>dep_id</th>\n",
       "      <th>user_id</th>\n",
       "      <th>worker_birth_date</th>\n",
       "      <th>dep_man_num</th>\n",
       "      <th>dep_child_num</th>\n",
       "    </tr>\n",
       "  </thead>\n",
       "  <tbody>\n",
       "    <tr>\n",
       "      <th>1</th>\n",
       "      <td>Ба́мблби</td>\n",
       "      <td>633380234</td>\n",
       "      <td>1977-02-17</td>\n",
       "      <td>2164</td>\n",
       "      <td>897</td>\n",
       "    </tr>\n",
       "    <tr>\n",
       "      <th>2</th>\n",
       "      <td>Ба́мблби</td>\n",
       "      <td>633380234</td>\n",
       "      <td>1977-02-17</td>\n",
       "      <td>2164</td>\n",
       "      <td>897</td>\n",
       "    </tr>\n",
       "    <tr>\n",
       "      <th>3</th>\n",
       "      <td>Лориэн</td>\n",
       "      <td>217207880</td>\n",
       "      <td>1961-04-16</td>\n",
       "      <td>2490</td>\n",
       "      <td>758</td>\n",
       "    </tr>\n",
       "    <tr>\n",
       "      <th>4</th>\n",
       "      <td>Лориэн</td>\n",
       "      <td>217207880</td>\n",
       "      <td>1961-04-16</td>\n",
       "      <td>2490</td>\n",
       "      <td>758</td>\n",
       "    </tr>\n",
       "    <tr>\n",
       "      <th>5</th>\n",
       "      <td>Лориэн</td>\n",
       "      <td>216677184</td>\n",
       "      <td>1970-06-30</td>\n",
       "      <td>2490</td>\n",
       "      <td>758</td>\n",
       "    </tr>\n",
       "  </tbody>\n",
       "</table>\n",
       "</div>"
      ],
      "text/plain": [
       "     dep_id    user_id worker_birth_date  dep_man_num  dep_child_num\n",
       "1  Ба́мблби  633380234        1977-02-17         2164            897\n",
       "2  Ба́мблби  633380234        1977-02-17         2164            897\n",
       "3    Лориэн  217207880        1961-04-16         2490            758\n",
       "4    Лориэн  217207880        1961-04-16         2490            758\n",
       "5    Лориэн  216677184        1970-06-30         2490            758"
      ]
     },
     "execution_count": 232,
     "metadata": {},
     "output_type": "execute_result"
    }
   ],
   "source": [
    "new_data_2.head()"
   ]
  },
  {
   "cell_type": "code",
   "execution_count": 282,
   "metadata": {},
   "outputs": [
    {
     "data": {
      "text/plain": [
       "(33,)"
      ]
     },
     "execution_count": 282,
     "metadata": {},
     "output_type": "execute_result"
    }
   ],
   "source": [
    "new_data.dep_id.unique().shape"
   ]
  },
  {
   "cell_type": "code",
   "execution_count": 287,
   "metadata": {},
   "outputs": [],
   "source": [
    "am_of_opek_man = {'Ба́мблби' : 2, 'Лориэн' : 5, 'Лихолесье': 3, 'Лесные эдьфы': 2, 'Синие горы': 2,\n",
    "       'Озерный город': 1, 'Одинокая гора': 0, 'Мория': 0, 'Хельмова Падь': 0,\n",
    "       'Хоббитон': 1, 'Мегатро́н': 0, 'Империя сов Илопса': 3, 'Изенгард': 2, 'Рохан': 2,\n",
    "       'Площадь Гриммо': 0, 'Рэмпейдж': 0, 'Мглистые горы':0, 'Сен-Мартен':0,\n",
    "       'Татуин': 0, 'Ривенделл':0, 'Суллуст ': 1, 'Данстар':0, 'Минас-Тирит': 0,\n",
    "       'Гундабад':0, 'Сингапур':0, 'Дальние врата':0, 'Квохор':0, 'Фангорн':0,\n",
    "       'Вайс-Сити':0, 'Бухта Погибших кораблей':0, 'Сайлент Хилл':0, 'Шир':0,\n",
    "       'Альдераан':0, \"Гринготтс\": 0}"
   ]
  },
  {
   "cell_type": "code",
   "execution_count": 286,
   "metadata": {},
   "outputs": [],
   "source": [
    "am_of_opek_girls = {'Ба́мблби' : 1, 'Лориэн' : 1, 'Лихолесье': 5, 'Лесные эдьфы': 1, 'Синие горы': 4,\n",
    "       'Озерный город': 7, 'Одинокая гора': 0, 'Мория': 0, 'Хельмова Падь': 0,\n",
    "       'Хоббитон': 1, 'Мегатро́н': 0, 'Империя сов Илопса': 0, 'Изенгард': 0, 'Рохан': 2,\n",
    "       'Площадь Гриммо': 0, 'Рэмпейдж': 0, 'Мглистые горы':0, 'Сен-Мартен':0,\n",
    "       'Татуин': 0, 'Ривенделл':0, 'Суллуст ': 0, 'Данстар':0, 'Минас-Тирит': 2,\n",
    "       'Гундабад':0, 'Сингапур':0, 'Дальние врата':0, 'Квохор':0, 'Фангорн':0,\n",
    "       'Вайс-Сити':0, 'Бухта Погибших кораблей':0, 'Сайлент Хилл':0, 'Шир':0,\n",
    "       'Альдераан':0, \"Гринготтс\": 0}"
   ]
  },
  {
   "cell_type": "code",
   "execution_count": 284,
   "metadata": {},
   "outputs": [],
   "source": [
    "am_of_own_girls = {'Ба́мблби' : 1931, 'Лориэн' : 1217, 'Лихолесье': 1447, 'Лесные эдьфы': 419, 'Синие горы': 2127,\n",
    "       'Озерный город': 1176, 'Одинокая гора': 546, 'Мория': 791, 'Хельмова Падь': 80,\n",
    "       'Хоббитон': 485, 'Мегатро́н': 3, 'Империя сов Илопса': 502, 'Изенгард': 287, 'Рохан': 630,\n",
    "       'Площадь Гриммо': 22, 'Рэмпейдж': 3, 'Мглистые горы':997, 'Сен-Мартен':71,\n",
    "       'Татуин': 34, 'Ривенделл':48, 'Суллуст ': 619, 'Данстар':109, 'Минас-Тирит': 91,\n",
    "       'Гундабад':1463, 'Сингапур':14, 'Дальние врата':29, 'Квохор':4, 'Фангорн':34,\n",
    "       'Вайс-Сити':5, 'Бухта Погибших кораблей':15, 'Сайлент Хилл':5, 'Шир':494,\n",
    "       'Альдераан':3, \"Гринготтс\": 0}"
   ]
  },
  {
   "cell_type": "code",
   "execution_count": 285,
   "metadata": {},
   "outputs": [],
   "source": [
    "am_of_own_man = {'Ба́мблби' : 2036, 'Лориэн' : 1384, 'Лихолесье': 1489, 'Лесные эдьфы': 362, 'Синие горы': 2227,\n",
    "       'Озерный город': 1387, 'Одинокая гора': 578, 'Мория': 838, 'Хельмова Падь': 123,\n",
    "       'Хоббитон': 518, 'Мегатро́н': 3, 'Империя сов Илопса': 528, 'Изенгард': 318, 'Рохан': 709,\n",
    "       'Площадь Гриммо': 31, 'Рэмпейдж': 6, 'Мглистые горы':1093, 'Сен-Мартен':69,\n",
    "       'Татуин': 34, 'Ривенделл':56, 'Суллуст ': 681, 'Данстар':137, 'Минас-Тирит': 115,\n",
    "       'Гундабад':1450, 'Сингапур':11, 'Дальние врата':23, 'Квохор':2, 'Фангорн':41,\n",
    "       'Вайс-Сити':4, 'Бухта Погибших кораблей':17, 'Сайлент Хилл':1, 'Шир':491,\n",
    "       'Альдераан':10, \"Гринготтс\": 0}"
   ]
  },
  {
   "cell_type": "code",
   "execution_count": 260,
   "metadata": {},
   "outputs": [
    {
     "data": {
      "text/plain": [
       "Синие горы                 2277\n",
       "Ба́мблби                   2036\n",
       "Лихолесье                  1489\n",
       "Гундабад                   1450\n",
       "Озерный город              1387\n",
       "Лориэн                     1384\n",
       "Мглистые горы              1093\n",
       "Мория                       838\n",
       "Рохан                       709\n",
       "Суллуст                     681\n",
       "Одинокая гора               578\n",
       "Империя сов Илопса          528\n",
       "Хоббитон                    518\n",
       "Шир                         491\n",
       "Лесные эдьфы                362\n",
       "Изенгард                    318\n",
       "Данстар                     137\n",
       "Хельмова Падь               123\n",
       "Минас-Тирит                 115\n",
       "Сен-Мартен                   69\n",
       "Ривенделл                    56\n",
       "Фангорн                      41\n",
       "Татуин                       34\n",
       "Площадь Гриммо               31\n",
       "Дальние врата                23\n",
       "Бухта Погибших кораблей      17\n",
       "Сингапур                     11\n",
       "Альдераан                    10\n",
       "Рэмпейдж                      6\n",
       "Вайс-Сити                     4\n",
       "Мегатро́н                     3\n",
       "Квохор                        2\n",
       "Сайлент Хилл                  1\n",
       "Name: dep_id, dtype: int64"
      ]
     },
     "execution_count": 260,
     "metadata": {},
     "output_type": "execute_result"
    }
   ],
   "source": [
    "mnogodet_data[mnogodet_data.child_type == 0].dep_id.value_counts()"
   ]
  },
  {
   "cell_type": "code",
   "execution_count": 231,
   "metadata": {},
   "outputs": [],
   "source": [
    "#del new_data[\"child_birth_date\"]\n",
    "#del new_data[\"child_type\"]\n",
    "\n",
    "#del new_data_2[\"child_birth_date\"]\n",
    "#del new_data_2[\"child_type\"]"
   ]
  },
  {
   "cell_type": "code",
   "execution_count": 225,
   "metadata": {},
   "outputs": [],
   "source": [
    "for i in range(len(new_data.worker_birth_date.values)):\n",
    "    new_data.worker_birth_date.values[i] = datetime.strptime(new_data.worker_birth_date.values[i], \"%d.%M.%Y\")"
   ]
  },
  {
   "cell_type": "code",
   "execution_count": 272,
   "metadata": {},
   "outputs": [],
   "source": [
    "data = pd.read_csv(\"exp_years.csv\")"
   ]
  },
  {
   "cell_type": "code",
   "execution_count": 330,
   "metadata": {},
   "outputs": [
    {
     "data": {
      "text/html": [
       "<div>\n",
       "<style scoped>\n",
       "    .dataframe tbody tr th:only-of-type {\n",
       "        vertical-align: middle;\n",
       "    }\n",
       "\n",
       "    .dataframe tbody tr th {\n",
       "        vertical-align: top;\n",
       "    }\n",
       "\n",
       "    .dataframe thead th {\n",
       "        text-align: right;\n",
       "    }\n",
       "</style>\n",
       "<table border=\"1\" class=\"dataframe\">\n",
       "  <thead>\n",
       "    <tr style=\"text-align: right;\">\n",
       "      <th></th>\n",
       "      <th>sibur_exp_years</th>\n",
       "      <th>department</th>\n",
       "      <th>user_id</th>\n",
       "      <th>birthday</th>\n",
       "      <th>Вдовец (вдова)</th>\n",
       "      <th>Никогда не состоял (не состояла) в браке</th>\n",
       "      <th>Разведен (разведена)</th>\n",
       "      <th>Состоит в зарегистрированном браке</th>\n",
       "      <th>Состоит в незарегистрированном браке</th>\n",
       "      <th>одинокая мать</th>\n",
       "      <th>dep_man_num</th>\n",
       "      <th>dep_child_num</th>\n",
       "      <th>am_of_opek_girls</th>\n",
       "      <th>am_of_opek_man</th>\n",
       "      <th>am_of_own_girls</th>\n",
       "      <th>am_of_own_man</th>\n",
       "      <th>worker_life_days</th>\n",
       "    </tr>\n",
       "  </thead>\n",
       "  <tbody>\n",
       "    <tr>\n",
       "      <th>0</th>\n",
       "      <td>18.493379</td>\n",
       "      <td>Озерный город</td>\n",
       "      <td>433602817</td>\n",
       "      <td>1971-08-19 00:00:00</td>\n",
       "      <td>0</td>\n",
       "      <td>0</td>\n",
       "      <td>0</td>\n",
       "      <td>1</td>\n",
       "      <td>0</td>\n",
       "      <td>0</td>\n",
       "      <td>1718</td>\n",
       "      <td>487</td>\n",
       "      <td>7</td>\n",
       "      <td>1</td>\n",
       "      <td>1176</td>\n",
       "      <td>1387</td>\n",
       "      <td>17390</td>\n",
       "    </tr>\n",
       "    <tr>\n",
       "      <th>1</th>\n",
       "      <td>14.916667</td>\n",
       "      <td>Озерный город</td>\n",
       "      <td>433350763</td>\n",
       "      <td>1957-01-30 00:00:00</td>\n",
       "      <td>0</td>\n",
       "      <td>0</td>\n",
       "      <td>0</td>\n",
       "      <td>1</td>\n",
       "      <td>0</td>\n",
       "      <td>0</td>\n",
       "      <td>1718</td>\n",
       "      <td>487</td>\n",
       "      <td>7</td>\n",
       "      <td>1</td>\n",
       "      <td>1176</td>\n",
       "      <td>1387</td>\n",
       "      <td>22704</td>\n",
       "    </tr>\n",
       "    <tr>\n",
       "      <th>2</th>\n",
       "      <td>7.836073</td>\n",
       "      <td>Озерный город</td>\n",
       "      <td>433579962</td>\n",
       "      <td>1984-10-25 00:00:00</td>\n",
       "      <td>0</td>\n",
       "      <td>0</td>\n",
       "      <td>0</td>\n",
       "      <td>1</td>\n",
       "      <td>0</td>\n",
       "      <td>0</td>\n",
       "      <td>1718</td>\n",
       "      <td>487</td>\n",
       "      <td>7</td>\n",
       "      <td>1</td>\n",
       "      <td>1176</td>\n",
       "      <td>1387</td>\n",
       "      <td>12574</td>\n",
       "    </tr>\n",
       "    <tr>\n",
       "      <th>3</th>\n",
       "      <td>0.140868</td>\n",
       "      <td>Озерный город</td>\n",
       "      <td>433602516</td>\n",
       "      <td>1970-06-12 00:00:00</td>\n",
       "      <td>0</td>\n",
       "      <td>0</td>\n",
       "      <td>0</td>\n",
       "      <td>1</td>\n",
       "      <td>0</td>\n",
       "      <td>0</td>\n",
       "      <td>1718</td>\n",
       "      <td>487</td>\n",
       "      <td>7</td>\n",
       "      <td>1</td>\n",
       "      <td>1176</td>\n",
       "      <td>1387</td>\n",
       "      <td>17823</td>\n",
       "    </tr>\n",
       "    <tr>\n",
       "      <th>4</th>\n",
       "      <td>14.916667</td>\n",
       "      <td>Озерный город</td>\n",
       "      <td>433417399</td>\n",
       "      <td>1975-03-23 00:00:00</td>\n",
       "      <td>0</td>\n",
       "      <td>1</td>\n",
       "      <td>0</td>\n",
       "      <td>0</td>\n",
       "      <td>0</td>\n",
       "      <td>0</td>\n",
       "      <td>1718</td>\n",
       "      <td>487</td>\n",
       "      <td>7</td>\n",
       "      <td>1</td>\n",
       "      <td>1176</td>\n",
       "      <td>1387</td>\n",
       "      <td>16078</td>\n",
       "    </tr>\n",
       "  </tbody>\n",
       "</table>\n",
       "</div>"
      ],
      "text/plain": [
       "   sibur_exp_years     department    user_id             birthday  \\\n",
       "0        18.493379  Озерный город  433602817  1971-08-19 00:00:00   \n",
       "1        14.916667  Озерный город  433350763  1957-01-30 00:00:00   \n",
       "2         7.836073  Озерный город  433579962  1984-10-25 00:00:00   \n",
       "3         0.140868  Озерный город  433602516  1970-06-12 00:00:00   \n",
       "4        14.916667  Озерный город  433417399  1975-03-23 00:00:00   \n",
       "\n",
       "   Вдовец (вдова)  Никогда не состоял (не состояла) в браке  \\\n",
       "0               0                                         0   \n",
       "1               0                                         0   \n",
       "2               0                                         0   \n",
       "3               0                                         0   \n",
       "4               0                                         1   \n",
       "\n",
       "   Разведен (разведена)  Состоит в зарегистрированном браке  \\\n",
       "0                     0                                   1   \n",
       "1                     0                                   1   \n",
       "2                     0                                   1   \n",
       "3                     0                                   1   \n",
       "4                     0                                   0   \n",
       "\n",
       "   Состоит в незарегистрированном браке  одинокая мать  dep_man_num  \\\n",
       "0                                     0              0         1718   \n",
       "1                                     0              0         1718   \n",
       "2                                     0              0         1718   \n",
       "3                                     0              0         1718   \n",
       "4                                     0              0         1718   \n",
       "\n",
       "   dep_child_num  am_of_opek_girls  am_of_opek_man  am_of_own_girls  \\\n",
       "0            487                 7               1             1176   \n",
       "1            487                 7               1             1176   \n",
       "2            487                 7               1             1176   \n",
       "3            487                 7               1             1176   \n",
       "4            487                 7               1             1176   \n",
       "\n",
       "   am_of_own_man  worker_life_days  \n",
       "0           1387             17390  \n",
       "1           1387             22704  \n",
       "2           1387             12574  \n",
       "3           1387             17823  \n",
       "4           1387             16078  "
      ]
     },
     "execution_count": 330,
     "metadata": {},
     "output_type": "execute_result"
    }
   ],
   "source": [
    "data.head()"
   ]
  },
  {
   "cell_type": "code",
   "execution_count": 274,
   "metadata": {},
   "outputs": [],
   "source": [
    "data.user_id = data.user_id.astype(int)"
   ]
  },
  {
   "cell_type": "code",
   "execution_count": 276,
   "metadata": {},
   "outputs": [
    {
     "data": {
      "text/plain": [
       "(26576,)"
      ]
     },
     "execution_count": 276,
     "metadata": {},
     "output_type": "execute_result"
    }
   ],
   "source": [
    "data.user_id.unique().shape"
   ]
  },
  {
   "cell_type": "code",
   "execution_count": 278,
   "metadata": {},
   "outputs": [
    {
     "data": {
      "text/plain": [
       "(26576, 10)"
      ]
     },
     "execution_count": 278,
     "metadata": {},
     "output_type": "execute_result"
    }
   ],
   "source": [
    "data.drop_duplicates().shape"
   ]
  },
  {
   "cell_type": "code",
   "execution_count": 283,
   "metadata": {},
   "outputs": [
    {
     "data": {
      "text/plain": [
       "array(['Озерный город', 'Империя сов Илопса', 'Изенгард', 'Ривенделл',\n",
       "       'Лориэн', 'Лихолесье', 'Лесные эдьфы', 'Одинокая гора', 'Мория',\n",
       "       'Хельмова Падь', 'Рохан', 'Площадь Гриммо', 'Мглистые горы',\n",
       "       'Гундабад', 'Гринготтс', 'Вайс-Сити', 'Сайлент Хилл', 'Сен-Мартен',\n",
       "       'Татуин', 'Суллуст ', 'Данстар', 'Минас-Тирит', 'Сингапур',\n",
       "       'Дальние врата', 'Квохор', 'Фангорн', 'Бухта Погибших кораблей',\n",
       "       'Шир', 'Альдераан', 'Ба́мблби', 'Хоббитон', 'Синие горы'],\n",
       "      dtype=object)"
      ]
     },
     "execution_count": 283,
     "metadata": {},
     "output_type": "execute_result"
    }
   ],
   "source": [
    "data.department.unique()"
   ]
  },
  {
   "cell_type": "code",
   "execution_count": 293,
   "metadata": {},
   "outputs": [],
   "source": [
    "data[\"dep_man_num\"] = [mapper[v] for v in data.department]"
   ]
  },
  {
   "cell_type": "code",
   "execution_count": 294,
   "metadata": {},
   "outputs": [],
   "source": [
    "data[\"dep_child_num\"] = [mapper_2[v] for v in data.department]"
   ]
  },
  {
   "cell_type": "code",
   "execution_count": 296,
   "metadata": {},
   "outputs": [],
   "source": [
    "data[\"am_of_opek_girls\"] = [am_of_opek_girls[v] for v in data.department]"
   ]
  },
  {
   "cell_type": "code",
   "execution_count": 297,
   "metadata": {},
   "outputs": [],
   "source": [
    "data[\"am_of_opek_man\"] = [am_of_opek_man[v] for v in data.department]"
   ]
  },
  {
   "cell_type": "code",
   "execution_count": 298,
   "metadata": {},
   "outputs": [],
   "source": [
    "data[\"am_of_own_girls\"] = [am_of_own_girls[v] for v in data.department]"
   ]
  },
  {
   "cell_type": "code",
   "execution_count": 299,
   "metadata": {},
   "outputs": [],
   "source": [
    "data[\"am_of_own_man\"] = [am_of_own_man[v] for v in data.department]"
   ]
  },
  {
   "cell_type": "code",
   "execution_count": 317,
   "metadata": {
    "scrolled": true
   },
   "outputs": [],
   "source": [
    "x = []\n",
    "\n",
    "for i in data.birthday.values:\n",
    "    x.append(((datetime.now() - i).days)/365)"
   ]
  },
  {
   "cell_type": "code",
   "execution_count": 308,
   "metadata": {},
   "outputs": [
    {
     "data": {
      "text/plain": [
       "array([datetime.datetime(1971, 8, 19, 0, 0),\n",
       "       datetime.datetime(1957, 1, 30, 0, 0),\n",
       "       datetime.datetime(1984, 10, 25, 0, 0), ...,\n",
       "       datetime.datetime(1983, 11, 18, 0, 0),\n",
       "       datetime.datetime(1978, 1, 11, 0, 0),\n",
       "       datetime.datetime(1979, 9, 1, 0, 0)], dtype=object)"
      ]
     },
     "execution_count": 308,
     "metadata": {},
     "output_type": "execute_result"
    }
   ],
   "source": [
    "data.birthday.values"
   ]
  },
  {
   "cell_type": "code",
   "execution_count": 306,
   "metadata": {},
   "outputs": [],
   "source": [
    "for i in range(len(data.birthday.values)):\n",
    "    data.birthday.values[i] = datetime.strptime(data.birthday.values[i], \"%Y-%m-%d %H:%M:%S\")"
   ]
  },
  {
   "cell_type": "code",
   "execution_count": 319,
   "metadata": {},
   "outputs": [],
   "source": [
    "y = []\n",
    "\n",
    "for i in x:\n",
    "    i = int(i)\n",
    "    y.append(i)"
   ]
  },
  {
   "cell_type": "code",
   "execution_count": 321,
   "metadata": {},
   "outputs": [],
   "source": [
    "data[\"worker_life_years\"] = y"
   ]
  },
  {
   "cell_type": "code",
   "execution_count": 323,
   "metadata": {},
   "outputs": [],
   "source": [
    "data[\"sibur_exp_days\"] = data.sibur_exp_years.values*365"
   ]
  },
  {
   "cell_type": "code",
   "execution_count": 329,
   "metadata": {},
   "outputs": [],
   "source": [
    "del data[\"sibur_exp_days\"]\n",
    "del data[\"worker_life_years\"]"
   ]
  },
  {
   "cell_type": "code",
   "execution_count": 339,
   "metadata": {},
   "outputs": [],
   "source": [
    "def get_all_stats(arr):\n",
    "    return [\n",
    "    np.mean(arr),\n",
    "    np.median(arr),\n",
    "    np.min(arr),\n",
    "    np.max(arr),\n",
    "    np.percentile(arr, 25),\n",
    "    np.percentile(arr, 50),\n",
    "    np.percentile(arr, 75),\n",
    "    np.var(arr)\n",
    "    ]"
   ]
  },
  {
   "cell_type": "code",
   "execution_count": 342,
   "metadata": {},
   "outputs": [],
   "source": [
    "dep_features = {}\n",
    "\n",
    "for dep, group in data.groupby('department'):\n",
    "    if dep not in dep_features.keys():\n",
    "        dep_features[dep] = {}\n",
    "        \n",
    "    stats = get_all_stats(group.sibur_exp_years)\n",
    "    \n",
    "    dep_features[dep]['dep_exp_years_mean'] = stats[0]\n",
    "    dep_features[dep]['dep_exp_years_median'] = stats[1]\n",
    "    dep_features[dep]['dep_exp_years_min'] = stats[2]\n",
    "    dep_features[dep]['dep_exp_years_max'] = stats[3]\n",
    "    dep_features[dep]['dep_exp_years_p25'] = stats[4]\n",
    "    dep_features[dep]['dep_exp_years_p50'] = stats[5]\n",
    "    dep_features[dep]['dep_exp_years_p75'] = stats[6]\n",
    "    dep_features[dep]['dep_exp_years_var'] = stats[7]"
   ]
  },
  {
   "cell_type": "code",
   "execution_count": 343,
   "metadata": {},
   "outputs": [
    {
     "data": {
      "text/plain": [
       "{'Альдераан': {'dep_exp_years_mean': 1.5832420091324204,\n",
       "  'dep_exp_years_median': 1.75,\n",
       "  'dep_exp_years_min': 0.41278538812785387,\n",
       "  'dep_exp_years_max': 3.996118721461187,\n",
       "  'dep_exp_years_p25': 1.1885844748858447,\n",
       "  'dep_exp_years_p50': 1.75,\n",
       "  'dep_exp_years_p75': 1.75,\n",
       "  'dep_exp_years_var': 0.6318950452798453},\n",
       " 'Ба́мблби': {'dep_exp_years_mean': 9.007815079211978,\n",
       "  'dep_exp_years_median': 7.218721461187215,\n",
       "  'dep_exp_years_min': 0.0,\n",
       "  'dep_exp_years_max': 43.66666666666666,\n",
       "  'dep_exp_years_p25': 3.3826484018264837,\n",
       "  'dep_exp_years_p50': 7.218721461187215,\n",
       "  'dep_exp_years_p75': 13.1189497716895,\n",
       "  'dep_exp_years_var': 52.027653773446325},\n",
       " 'Бухта Погибших кораблей': {'dep_exp_years_mean': 3.5035558146313024,\n",
       "  'dep_exp_years_median': 1.0794520547945206,\n",
       "  'dep_exp_years_min': 0.16666666666666666,\n",
       "  'dep_exp_years_max': 13.39634703196347,\n",
       "  'dep_exp_years_p25': 0.6627853881278539,\n",
       "  'dep_exp_years_p50': 1.0794520547945206,\n",
       "  'dep_exp_years_p75': 5.494748858447489,\n",
       "  'dep_exp_years_var': 18.01166697663634},\n",
       " 'Вайс-Сити': {'dep_exp_years_mean': 1.4982876712328768,\n",
       "  'dep_exp_years_median': 0.8039954337899544,\n",
       "  'dep_exp_years_min': 0.24337899543378996,\n",
       "  'dep_exp_years_max': 3.419406392694064,\n",
       "  'dep_exp_years_p25': 0.75,\n",
       "  'dep_exp_years_p50': 0.8039954337899544,\n",
       "  'dep_exp_years_p75': 2.5,\n",
       "  'dep_exp_years_var': 0.9750364778442671},\n",
       " 'Гринготтс': {'dep_exp_years_mean': 1.7077625570776254,\n",
       "  'dep_exp_years_median': 1.7077625570776254,\n",
       "  'dep_exp_years_min': 1.7077625570776254,\n",
       "  'dep_exp_years_max': 1.7077625570776254,\n",
       "  'dep_exp_years_p25': 1.7077625570776254,\n",
       "  'dep_exp_years_p50': 1.7077625570776254,\n",
       "  'dep_exp_years_p75': 1.7077625570776254,\n",
       "  'dep_exp_years_var': 0.0},\n",
       " 'Гундабад': {'dep_exp_years_mean': 3.7228865695441185,\n",
       "  'dep_exp_years_median': 2.4073059360730595,\n",
       "  'dep_exp_years_min': 0.010958904109589041,\n",
       "  'dep_exp_years_max': 24.64360730593607,\n",
       "  'dep_exp_years_p25': 0.8936073059360731,\n",
       "  'dep_exp_years_p50': 2.4073059360730595,\n",
       "  'dep_exp_years_p75': 4.995433789954339,\n",
       "  'dep_exp_years_var': 14.612595350715383},\n",
       " 'Дальние врата': {'dep_exp_years_mean': 6.252718970527192,\n",
       "  'dep_exp_years_median': 6.282876712328767,\n",
       "  'dep_exp_years_min': 0.0136986301369863,\n",
       "  'dep_exp_years_max': 14.912785388127856,\n",
       "  'dep_exp_years_p25': 3.4037671232876714,\n",
       "  'dep_exp_years_p50': 6.282876712328767,\n",
       "  'dep_exp_years_p75': 8.503538812785386,\n",
       "  'dep_exp_years_var': 16.37606075252948},\n",
       " 'Данстар': {'dep_exp_years_mean': 3.7778363862208915,\n",
       "  'dep_exp_years_median': 3.7077625570776256,\n",
       "  'dep_exp_years_min': 0.0410958904109589,\n",
       "  'dep_exp_years_max': 20.493378995433787,\n",
       "  'dep_exp_years_p25': 1.4248858447488586,\n",
       "  'dep_exp_years_p50': 3.7077625570776256,\n",
       "  'dep_exp_years_p75': 5.696803652968037,\n",
       "  'dep_exp_years_var': 7.539840494697002},\n",
       " 'Изенгард': {'dep_exp_years_mean': 8.656915975069158,\n",
       "  'dep_exp_years_median': 7.75,\n",
       "  'dep_exp_years_min': 0.0,\n",
       "  'dep_exp_years_max': 21.410045662100455,\n",
       "  'dep_exp_years_p25': 4.370319634703196,\n",
       "  'dep_exp_years_p50': 7.75,\n",
       "  'dep_exp_years_p75': 13.399086757990869,\n",
       "  'dep_exp_years_var': 26.589843078029027},\n",
       " 'Империя сов Илопса': {'dep_exp_years_mean': 6.7974868492158596,\n",
       "  'dep_exp_years_median': 8.024657534246575,\n",
       "  'dep_exp_years_min': 0.0,\n",
       "  'dep_exp_years_max': 23.38538812785388,\n",
       "  'dep_exp_years_p25': 4.885388127853881,\n",
       "  'dep_exp_years_p50': 8.024657534246575,\n",
       "  'dep_exp_years_p75': 9.0,\n",
       "  'dep_exp_years_var': 8.949140392261912},\n",
       " 'Квохор': {'dep_exp_years_mean': 12.646255707762558,\n",
       "  'dep_exp_years_median': 9.774657534246575,\n",
       "  'dep_exp_years_min': 8.174885844748857,\n",
       "  'dep_exp_years_max': 18.72420091324201,\n",
       "  'dep_exp_years_p25': 9.471461187214613,\n",
       "  'dep_exp_years_p50': 9.774657534246575,\n",
       "  'dep_exp_years_p75': 17.086073059360732,\n",
       "  'dep_exp_years_var': 18.994388161214328},\n",
       " 'Лесные эдьфы': {'dep_exp_years_mean': 13.010445066604456,\n",
       "  'dep_exp_years_median': 11.068493150684931,\n",
       "  'dep_exp_years_min': 0.010958904109589041,\n",
       "  'dep_exp_years_max': 43.37168949771689,\n",
       "  'dep_exp_years_p25': 5.345662100456621,\n",
       "  'dep_exp_years_p50': 11.068493150684931,\n",
       "  'dep_exp_years_p75': 18.439383561643833,\n",
       "  'dep_exp_years_var': 101.77842260334944},\n",
       " 'Лихолесье': {'dep_exp_years_mean': 8.876130379869823,\n",
       "  'dep_exp_years_median': 9.576712328767123,\n",
       "  'dep_exp_years_min': 0.024657534246575345,\n",
       "  'dep_exp_years_max': 30.4796803652968,\n",
       "  'dep_exp_years_p25': 5.333333333333333,\n",
       "  'dep_exp_years_p50': 9.576712328767123,\n",
       "  'dep_exp_years_p75': 13.39634703196347,\n",
       "  'dep_exp_years_var': 20.842945969981454},\n",
       " 'Лориэн': {'dep_exp_years_mean': 12.140333611373931,\n",
       "  'dep_exp_years_median': 13.643607305936074,\n",
       "  'dep_exp_years_min': 0.06575342465753424,\n",
       "  'dep_exp_years_max': 46.479680365296794,\n",
       "  'dep_exp_years_p25': 6.138127853881278,\n",
       "  'dep_exp_years_p50': 13.643607305936074,\n",
       "  'dep_exp_years_p75': 18.379908675799086,\n",
       "  'dep_exp_years_var': 42.25101432161913},\n",
       " 'Мглистые горы': {'dep_exp_years_mean': 3.0417962348171805,\n",
       "  'dep_exp_years_median': 1.6107305936073062,\n",
       "  'dep_exp_years_min': 0.0,\n",
       "  'dep_exp_years_max': 30.971461187214608,\n",
       "  'dep_exp_years_p25': 0.4495433789954338,\n",
       "  'dep_exp_years_p50': 1.6107305936073062,\n",
       "  'dep_exp_years_p75': 3.5479452054794525,\n",
       "  'dep_exp_years_var': 14.13247634011884},\n",
       " 'Минас-Тирит': {'dep_exp_years_mean': 6.062995476665163,\n",
       "  'dep_exp_years_median': 4.4100456621004565,\n",
       "  'dep_exp_years_min': 0.010958904109589041,\n",
       "  'dep_exp_years_max': 23.57397260273973,\n",
       "  'dep_exp_years_p25': 1.4961187214611873,\n",
       "  'dep_exp_years_p50': 4.4100456621004565,\n",
       "  'dep_exp_years_p75': 10.246118721461187,\n",
       "  'dep_exp_years_var': 28.887544209101435},\n",
       " 'Мория': {'dep_exp_years_mean': 9.735168867497634,\n",
       "  'dep_exp_years_median': 8.536986301369863,\n",
       "  'dep_exp_years_min': 0.0,\n",
       "  'dep_exp_years_max': 23.360730593607308,\n",
       "  'dep_exp_years_p25': 3.6755707762557077,\n",
       "  'dep_exp_years_p50': 8.536986301369863,\n",
       "  'dep_exp_years_p75': 16.794520547945204,\n",
       "  'dep_exp_years_var': 43.22566383752198},\n",
       " 'Одинокая гора': {'dep_exp_years_mean': 9.330033283820166,\n",
       "  'dep_exp_years_median': 10.674885844748859,\n",
       "  'dep_exp_years_min': 0.052054794520547946,\n",
       "  'dep_exp_years_max': 24.046575342465754,\n",
       "  'dep_exp_years_p25': 6.5,\n",
       "  'dep_exp_years_p50': 10.674885844748859,\n",
       "  'dep_exp_years_p75': 13.39634703196347,\n",
       "  'dep_exp_years_var': 20.598506164255365},\n",
       " 'Озерный город': {'dep_exp_years_mean': 11.181239340534397,\n",
       "  'dep_exp_years_median': 14.291095890410961,\n",
       "  'dep_exp_years_min': 0.03287671232876712,\n",
       "  'dep_exp_years_max': 24.42214611872146,\n",
       "  'dep_exp_years_p25': 7.355251141552511,\n",
       "  'dep_exp_years_p50': 14.291095890410961,\n",
       "  'dep_exp_years_p75': 14.916666666666664,\n",
       "  'dep_exp_years_var': 22.364508628088345},\n",
       " 'Площадь Гриммо': {'dep_exp_years_mean': 9.972907153729071,\n",
       "  'dep_exp_years_median': 8.81906392694064,\n",
       "  'dep_exp_years_min': 1.0465753424657531,\n",
       "  'dep_exp_years_max': 19.27191780821918,\n",
       "  'dep_exp_years_p25': 5.7979452054794525,\n",
       "  'dep_exp_years_p50': 8.81906392694064,\n",
       "  'dep_exp_years_p75': 15.08236301369863,\n",
       "  'dep_exp_years_var': 33.485161345544306},\n",
       " 'Ривенделл': {'dep_exp_years_mean': 5.1587244207678005,\n",
       "  'dep_exp_years_median': 5.195433789954338,\n",
       "  'dep_exp_years_min': 0.13812785388127852,\n",
       "  'dep_exp_years_max': 19.349771689497715,\n",
       "  'dep_exp_years_p25': 2.4644977168949773,\n",
       "  'dep_exp_years_p50': 5.195433789954338,\n",
       "  'dep_exp_years_p75': 5.5465753424657525,\n",
       "  'dep_exp_years_var': 15.793627050036529},\n",
       " 'Рохан': {'dep_exp_years_mean': 7.966754993121319,\n",
       "  'dep_exp_years_median': 10.568493150684931,\n",
       "  'dep_exp_years_min': 0.010958904109589041,\n",
       "  'dep_exp_years_max': 26.860730593607308,\n",
       "  'dep_exp_years_p25': 3.74337899543379,\n",
       "  'dep_exp_years_p50': 10.568493150684931,\n",
       "  'dep_exp_years_p75': 11.65730593607306,\n",
       "  'dep_exp_years_var': 19.934823249092883},\n",
       " 'Сайлент Хилл': {'dep_exp_years_mean': 0.7015068493150685,\n",
       "  'dep_exp_years_median': 0.29109589041095885,\n",
       "  'dep_exp_years_min': 0.1271689497716895,\n",
       "  'dep_exp_years_max': 2.191324200913242,\n",
       "  'dep_exp_years_p25': 0.24337899543378996,\n",
       "  'dep_exp_years_p50': 0.29109589041095885,\n",
       "  'dep_exp_years_p75': 1.1667808219178082,\n",
       "  'dep_exp_years_var': 0.5121095598507122},\n",
       " 'Сен-Мартен': {'dep_exp_years_mean': 3.637593086328951,\n",
       "  'dep_exp_years_median': 2.7214611872146115,\n",
       "  'dep_exp_years_min': 0.0,\n",
       "  'dep_exp_years_max': 34.46872146118721,\n",
       "  'dep_exp_years_p25': 1.4385844748858447,\n",
       "  'dep_exp_years_p50': 2.7214611872146115,\n",
       "  'dep_exp_years_p75': 4.696803652968037,\n",
       "  'dep_exp_years_var': 16.325873483595117},\n",
       " 'Сингапур': {'dep_exp_years_mean': 8.948607305936074,\n",
       "  'dep_exp_years_median': 9.623059360730593,\n",
       "  'dep_exp_years_min': 2.441324200913242,\n",
       "  'dep_exp_years_max': 15.960502283105022,\n",
       "  'dep_exp_years_p25': 6.330422374429224,\n",
       "  'dep_exp_years_p50': 9.623059360730593,\n",
       "  'dep_exp_years_p75': 11.097716894977168,\n",
       "  'dep_exp_years_var': 12.429897157238868},\n",
       " 'Синие горы': {'dep_exp_years_mean': 5.486339410939651,\n",
       "  'dep_exp_years_median': 3.4166666666666665,\n",
       "  'dep_exp_years_min': 0.0,\n",
       "  'dep_exp_years_max': 48.17214611872146,\n",
       "  'dep_exp_years_p25': 1.0027397260273974,\n",
       "  'dep_exp_years_p50': 3.4166666666666665,\n",
       "  'dep_exp_years_p75': 7.113470319634702,\n",
       "  'dep_exp_years_var': 34.573852006610515},\n",
       " 'Суллуст ': {'dep_exp_years_mean': 7.476074183685662,\n",
       "  'dep_exp_years_median': 6.549315068493152,\n",
       "  'dep_exp_years_min': 0.0,\n",
       "  'dep_exp_years_max': 32.260958904109586,\n",
       "  'dep_exp_years_p25': 3.791095890410959,\n",
       "  'dep_exp_years_p50': 6.549315068493152,\n",
       "  'dep_exp_years_p75': 11.6189497716895,\n",
       "  'dep_exp_years_var': 22.66061120554726},\n",
       " 'Татуин': {'dep_exp_years_mean': 3.133481534887447,\n",
       "  'dep_exp_years_median': 2.5013698630136987,\n",
       "  'dep_exp_years_min': 0.0684931506849315,\n",
       "  'dep_exp_years_max': 13.726940639269404,\n",
       "  'dep_exp_years_p25': 1.1131849315068492,\n",
       "  'dep_exp_years_p50': 2.5013698630136987,\n",
       "  'dep_exp_years_p75': 4.449543378995434,\n",
       "  'dep_exp_years_var': 7.4177785660484155},\n",
       " 'Фангорн': {'dep_exp_years_mean': 7.058741030658837,\n",
       "  'dep_exp_years_median': 4.235730593607306,\n",
       "  'dep_exp_years_min': 0.4659817351598174,\n",
       "  'dep_exp_years_max': 29.985159817351605,\n",
       "  'dep_exp_years_p25': 2.8009703196347027,\n",
       "  'dep_exp_years_p50': 4.235730593607306,\n",
       "  'dep_exp_years_p75': 9.68310502283105,\n",
       "  'dep_exp_years_var': 33.97752672132844},\n",
       " 'Хельмова Падь': {'dep_exp_years_mean': 10.59964680170159,\n",
       "  'dep_exp_years_median': 11.235730593607308,\n",
       "  'dep_exp_years_min': 0.046575342465753435,\n",
       "  'dep_exp_years_max': 17.910045662100455,\n",
       "  'dep_exp_years_p25': 6.020547945205479,\n",
       "  'dep_exp_years_p50': 11.235730593607308,\n",
       "  'dep_exp_years_p75': 15.819748858447488,\n",
       "  'dep_exp_years_var': 31.51100437864289},\n",
       " 'Хоббитон': {'dep_exp_years_mean': 7.180984596817343,\n",
       "  'dep_exp_years_median': 5.317123287671233,\n",
       "  'dep_exp_years_min': 0.0,\n",
       "  'dep_exp_years_max': 32.299315068493144,\n",
       "  'dep_exp_years_p25': 3.455022831050228,\n",
       "  'dep_exp_years_p50': 5.317123287671233,\n",
       "  'dep_exp_years_p75': 10.228995433789951,\n",
       "  'dep_exp_years_var': 31.40614388256824},\n",
       " 'Шир': {'dep_exp_years_mean': 4.369012053831034,\n",
       "  'dep_exp_years_median': 2.81027397260274,\n",
       "  'dep_exp_years_min': 0.010958904109589041,\n",
       "  'dep_exp_years_max': 37.22420091324201,\n",
       "  'dep_exp_years_p25': 1.0328767123287672,\n",
       "  'dep_exp_years_p50': 2.81027397260274,\n",
       "  'dep_exp_years_p75': 5.64634703196347,\n",
       "  'dep_exp_years_var': 26.804648445650027}}"
      ]
     },
     "execution_count": 343,
     "metadata": {},
     "output_type": "execute_result"
    }
   ],
   "source": [
    "dep_features"
   ]
  },
  {
   "cell_type": "code",
   "execution_count": 344,
   "metadata": {},
   "outputs": [],
   "source": [
    "data.to_csv(\"dep_features.csv\", sep=\",\", index=False)"
   ]
  },
  {
   "cell_type": "code",
   "execution_count": null,
   "metadata": {},
   "outputs": [],
   "source": []
  }
 ],
 "metadata": {
  "kernelspec": {
   "display_name": "Python 3",
   "language": "python",
   "name": "python3"
  },
  "language_info": {
   "codemirror_mode": {
    "name": "ipython",
    "version": 3
   },
   "file_extension": ".py",
   "mimetype": "text/x-python",
   "name": "python",
   "nbconvert_exporter": "python",
   "pygments_lexer": "ipython3",
   "version": "3.6.5"
  }
 },
 "nbformat": 4,
 "nbformat_minor": 2
}
