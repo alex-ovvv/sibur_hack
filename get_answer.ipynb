{
 "cells": [
  {
   "cell_type": "code",
   "execution_count": 60,
   "metadata": {},
   "outputs": [],
   "source": [
    "import pandas as pd\n",
    "import numpy as np\n",
    "import json\n",
    "import pickle\n",
    "\n",
    "from tqdm import tqdm_notebook\n",
    "\n",
    "from datetime import datetime"
   ]
  },
  {
   "cell_type": "code",
   "execution_count": 61,
   "metadata": {},
   "outputs": [],
   "source": [
    "with open('../data/user_features.json', 'r') as f:\n",
    "    user_features = json.loads(f.read())"
   ]
  },
  {
   "cell_type": "code",
   "execution_count": 138,
   "metadata": {},
   "outputs": [],
   "source": [
    "with open('../models/big_model_scoring', 'rb') as f:\n",
    "    big_model_scoring = pickle.loads(f.read())\n",
    "    \n",
    "with open('../models/small_model_scoring', 'rb') as f:\n",
    "    small_model_scoring = pickle.loads(f.read())"
   ]
  },
  {
   "cell_type": "code",
   "execution_count": 63,
   "metadata": {},
   "outputs": [],
   "source": [
    "skl_dol = pd.read_excel('../data/Реестр СКЛ_ДОЛ.xlsx')"
   ]
  },
  {
   "cell_type": "code",
   "execution_count": 64,
   "metadata": {
    "scrolled": false
   },
   "outputs": [
    {
     "data": {
      "text/html": [
       "<div>\n",
       "<style scoped>\n",
       "    .dataframe tbody tr th:only-of-type {\n",
       "        vertical-align: middle;\n",
       "    }\n",
       "\n",
       "    .dataframe tbody tr th {\n",
       "        vertical-align: top;\n",
       "    }\n",
       "\n",
       "    .dataframe thead th {\n",
       "        text-align: right;\n",
       "    }\n",
       "</style>\n",
       "<table border=\"1\" class=\"dataframe\">\n",
       "  <thead>\n",
       "    <tr style=\"text-align: right;\">\n",
       "      <th></th>\n",
       "      <th>№ п/п</th>\n",
       "      <th>Вид путевки</th>\n",
       "      <th>Предприятие</th>\n",
       "      <th>Таб. номер (заявителя)</th>\n",
       "      <th>ФИО сотрудника (заявителя)</th>\n",
       "      <th>Должность</th>\n",
       "      <th>Подразделение</th>\n",
       "      <th>Город вылета/возвращения</th>\n",
       "      <th>Дисциплинарные взыскания</th>\n",
       "      <th>ФИО гостя</th>\n",
       "      <th>Пол  (м, ж)</th>\n",
       "      <th>Дата рождения</th>\n",
       "      <th>Дата заезда</th>\n",
       "      <th>Дата выезда</th>\n",
       "      <th>№ заявки</th>\n",
       "      <th>Дата подачи</th>\n",
       "    </tr>\n",
       "  </thead>\n",
       "  <tbody>\n",
       "    <tr>\n",
       "      <th>0</th>\n",
       "      <td>1</td>\n",
       "      <td>ДОЛ</td>\n",
       "      <td>Синие горы</td>\n",
       "      <td>3.335899e+08</td>\n",
       "      <td>Сюсин Макар Сократович</td>\n",
       "      <td>Ведущий инженер</td>\n",
       "      <td>Участок по эксплуатации водоподготовительной у...</td>\n",
       "      <td>Тобольск</td>\n",
       "      <td>1</td>\n",
       "      <td>NaN</td>\n",
       "      <td>NaN</td>\n",
       "      <td>NaN</td>\n",
       "      <td>24.06.2019</td>\n",
       "      <td>14.07.2019</td>\n",
       "      <td>174932.0</td>\n",
       "      <td>2018-12-10</td>\n",
       "    </tr>\n",
       "    <tr>\n",
       "      <th>1</th>\n",
       "      <td>2</td>\n",
       "      <td>ДОЛ</td>\n",
       "      <td>Гундабад</td>\n",
       "      <td>1.050101e+09</td>\n",
       "      <td>Задкова Яна Данииловна</td>\n",
       "      <td>Ведущий инженер-проектировщик</td>\n",
       "      <td>Отдел строительного проектирования</td>\n",
       "      <td>Тюмень</td>\n",
       "      <td>0</td>\n",
       "      <td>Задкова Никита Эдуардович</td>\n",
       "      <td>М</td>\n",
       "      <td>2006-12-14 00:00:00</td>\n",
       "      <td>01.06.2019</td>\n",
       "      <td>21.06.2019</td>\n",
       "      <td>175272.0</td>\n",
       "      <td>2018-12-10</td>\n",
       "    </tr>\n",
       "    <tr>\n",
       "      <th>2</th>\n",
       "      <td>3</td>\n",
       "      <td>ДОЛ</td>\n",
       "      <td>Лесные эдьфы</td>\n",
       "      <td>4.000460e+08</td>\n",
       "      <td>Максимушкина Аза Филипповна</td>\n",
       "      <td>Начальник производства</td>\n",
       "      <td>Руководители</td>\n",
       "      <td>Красноярск</td>\n",
       "      <td>0</td>\n",
       "      <td>Максимушкина Владимир Денисович</td>\n",
       "      <td>М</td>\n",
       "      <td>2006-04-05 00:00:00</td>\n",
       "      <td>17.07.2019</td>\n",
       "      <td>06.08.2019</td>\n",
       "      <td>175352.0</td>\n",
       "      <td>2018-12-10</td>\n",
       "    </tr>\n",
       "    <tr>\n",
       "      <th>3</th>\n",
       "      <td>4</td>\n",
       "      <td>ДОЛ</td>\n",
       "      <td>Лесные эдьфы</td>\n",
       "      <td>4.000460e+08</td>\n",
       "      <td>Максимушкина Аза Филипповна</td>\n",
       "      <td>NaN</td>\n",
       "      <td>NaN</td>\n",
       "      <td>NaN</td>\n",
       "      <td>0</td>\n",
       "      <td>Максимушкина Дмитрий Денисович</td>\n",
       "      <td>М</td>\n",
       "      <td>2007-12-08 00:00:00</td>\n",
       "      <td>17.07.2019</td>\n",
       "      <td>06.08.2019</td>\n",
       "      <td>175352.0</td>\n",
       "      <td>2018-12-10</td>\n",
       "    </tr>\n",
       "    <tr>\n",
       "      <th>4</th>\n",
       "      <td>5</td>\n",
       "      <td>ДОЛ</td>\n",
       "      <td>Одинокая гора</td>\n",
       "      <td>3.002830e+08</td>\n",
       "      <td>Погодин Парфен Проклович</td>\n",
       "      <td>Ведущий инженер</td>\n",
       "      <td>Отдел капитального строительства и ремонтов зд...</td>\n",
       "      <td>Нижний Новгород</td>\n",
       "      <td>0</td>\n",
       "      <td>Погодин Юлия Александровна</td>\n",
       "      <td>Ж</td>\n",
       "      <td>2004-11-17 00:00:00</td>\n",
       "      <td>17.07.2019</td>\n",
       "      <td>06.08.2019</td>\n",
       "      <td>175647.0</td>\n",
       "      <td>2018-12-11</td>\n",
       "    </tr>\n",
       "  </tbody>\n",
       "</table>\n",
       "</div>"
      ],
      "text/plain": [
       "   № п/п Вид путевки    Предприятие  Таб. номер (заявителя)  \\\n",
       "0      1         ДОЛ     Синие горы            3.335899e+08   \n",
       "1      2         ДОЛ       Гундабад            1.050101e+09   \n",
       "2      3         ДОЛ   Лесные эдьфы            4.000460e+08   \n",
       "3      4         ДОЛ   Лесные эдьфы            4.000460e+08   \n",
       "4      5         ДОЛ  Одинокая гора            3.002830e+08   \n",
       "\n",
       "      ФИО сотрудника (заявителя)                      Должность  \\\n",
       "0        Сюсин Макар Сократович                 Ведущий инженер   \n",
       "1        Задкова Яна Данииловна   Ведущий инженер-проектировщик   \n",
       "2   Максимушкина Аза Филипповна          Начальник производства   \n",
       "3   Максимушкина Аза Филипповна                             NaN   \n",
       "4      Погодин Парфен Проклович                 Ведущий инженер   \n",
       "\n",
       "                                       Подразделение Город вылета/возвращения  \\\n",
       "0  Участок по эксплуатации водоподготовительной у...                 Тобольск   \n",
       "1                 Отдел строительного проектирования                   Тюмень   \n",
       "2                                       Руководители               Красноярск   \n",
       "3                                                NaN                      NaN   \n",
       "4  Отдел капитального строительства и ремонтов зд...          Нижний Новгород   \n",
       "\n",
       "   Дисциплинарные взыскания                        ФИО гостя Пол  (м, ж)  \\\n",
       "0                         1                              NaN         NaN   \n",
       "1                         0        Задкова Никита Эдуардович           М   \n",
       "2                         0  Максимушкина Владимир Денисович           М   \n",
       "3                         0   Максимушкина Дмитрий Денисович           М   \n",
       "4                         0       Погодин Юлия Александровна           Ж   \n",
       "\n",
       "         Дата рождения Дата заезда  Дата выезда  № заявки Дата подачи  \n",
       "0                  NaN  24.06.2019   14.07.2019  174932.0  2018-12-10  \n",
       "1  2006-12-14 00:00:00  01.06.2019   21.06.2019  175272.0  2018-12-10  \n",
       "2  2006-04-05 00:00:00  17.07.2019   06.08.2019  175352.0  2018-12-10  \n",
       "3  2007-12-08 00:00:00  17.07.2019   06.08.2019  175352.0  2018-12-10  \n",
       "4  2004-11-17 00:00:00  17.07.2019   06.08.2019  175647.0  2018-12-11  "
      ]
     },
     "execution_count": 64,
     "metadata": {},
     "output_type": "execute_result"
    }
   ],
   "source": [
    "skl_dol.head()"
   ]
  },
  {
   "cell_type": "code",
   "execution_count": 65,
   "metadata": {},
   "outputs": [],
   "source": [
    "skl_dol.drop(index=skl_dol[np.isnan(skl_dol['Таб. номер (заявителя)'])].index, inplace=True)"
   ]
  },
  {
   "cell_type": "code",
   "execution_count": 66,
   "metadata": {},
   "outputs": [],
   "source": [
    "skl_dol.sort_values('Дата подачи', inplace=True)"
   ]
  },
  {
   "cell_type": "code",
   "execution_count": 67,
   "metadata": {},
   "outputs": [],
   "source": [
    "skl_dol = skl_dol[skl_dol['Дисциплинарные взыскания'] == 0]"
   ]
  },
  {
   "cell_type": "code",
   "execution_count": 68,
   "metadata": {},
   "outputs": [],
   "source": [
    "skl_dol.drop(index=skl_dol[skl_dol['Дата заезда'] == '24.06.2019'].index, inplace=True)"
   ]
  },
  {
   "cell_type": "code",
   "execution_count": 69,
   "metadata": {},
   "outputs": [],
   "source": [
    "skl_dol[skl_dol['Дата заезда'] == '17.07.2019'] = datetime(2019, 7, 17)"
   ]
  },
  {
   "cell_type": "code",
   "execution_count": 70,
   "metadata": {},
   "outputs": [],
   "source": [
    "skl_dol[skl_dol['Дата заезда'] == '01.06.2019'] = datetime(2019, 6, 1)\n",
    "skl_dol[skl_dol['Дата заезда'] == '09.08.2019'] = datetime(2019, 8, 9)"
   ]
  },
  {
   "cell_type": "code",
   "execution_count": 71,
   "metadata": {},
   "outputs": [
    {
     "data": {
      "text/plain": [
       "2019-09-07    2751\n",
       "2019-05-05    1691\n",
       "2019-07-17    1645\n",
       "2019-08-01    1430\n",
       "2019-06-01    1228\n",
       "2019-08-16     920\n",
       "2019-07-02     901\n",
       "2019-06-16     785\n",
       "2019-10-07     770\n",
       "2019-09-22     766\n",
       "2019-04-20     714\n",
       "2019-03-21     550\n",
       "2019-04-05     482\n",
       "2019-10-22     387\n",
       "2019-08-09     365\n",
       "2019-11-06     188\n",
       "2018-11-07       5\n",
       "Name: Дата заезда, dtype: int64"
      ]
     },
     "execution_count": 71,
     "metadata": {},
     "output_type": "execute_result"
    }
   ],
   "source": [
    "skl_dol['Дата заезда'].value_counts()"
   ]
  },
  {
   "cell_type": "code",
   "execution_count": 72,
   "metadata": {},
   "outputs": [],
   "source": [
    "date_mapper = {\n",
    "    datetime(2019, 9, 7): 11,\n",
    "    datetime(2019, 5, 5): 4,\n",
    "    datetime(2019, 7, 17): 8,\n",
    "    datetime(2019, 8, 1): 9,\n",
    "    datetime(2019, 6, 1): 5,\n",
    "    datetime(2019, 8, 16): 10,\n",
    "    datetime(2019, 7, 2): 7,\n",
    "    datetime(2019, 6, 16): 6,\n",
    "    datetime(2019, 10, 7): 13,\n",
    "    datetime(2019, 9, 22): 12,\n",
    "    datetime(2019, 4, 20): 3,\n",
    "    datetime(2019, 3, 21): 1,\n",
    "    datetime(2019, 4, 5): 5,\n",
    "    datetime(2019, 10, 22): 14,\n",
    "    datetime(2019, 8, 9): 9,\n",
    "    datetime(2019, 11, 6): 15,\n",
    "    datetime(2019, 11, 7): 15,\n",
    "}"
   ]
  },
  {
   "cell_type": "code",
   "execution_count": 88,
   "metadata": {},
   "outputs": [],
   "source": [
    "good_user_ids = list(filter(lambda x: type(x) == np.float, skl_dol['Таб. номер (заявителя)'].unique().tolist()))"
   ]
  },
  {
   "cell_type": "code",
   "execution_count": 89,
   "metadata": {},
   "outputs": [],
   "source": [
    "inter = np.intersect1d(list(user_features.keys()), good_user_ids)"
   ]
  },
  {
   "cell_type": "code",
   "execution_count": 94,
   "metadata": {},
   "outputs": [],
   "source": [
    "inter = inter.astype(np.float)"
   ]
  },
  {
   "cell_type": "code",
   "execution_count": 96,
   "metadata": {},
   "outputs": [
    {
     "data": {
      "application/vnd.jupyter.widget-view+json": {
       "model_id": "b9b66a4f14c74bb983a9d575fac83f32",
       "version_major": 2,
       "version_minor": 0
      },
      "text/html": [
       "<p>Failed to display Jupyter Widget of type <code>HBox</code>.</p>\n",
       "<p>\n",
       "  If you're reading this message in the Jupyter Notebook or JupyterLab Notebook, it may mean\n",
       "  that the widgets JavaScript is still loading. If this message persists, it\n",
       "  likely means that the widgets JavaScript library is either not installed or\n",
       "  not enabled. See the <a href=\"https://ipywidgets.readthedocs.io/en/stable/user_install.html\">Jupyter\n",
       "  Widgets Documentation</a> for setup instructions.\n",
       "</p>\n",
       "<p>\n",
       "  If you're reading this message in another frontend (for example, a static\n",
       "  rendering on GitHub or <a href=\"https://nbviewer.jupyter.org/\">NBViewer</a>),\n",
       "  it may mean that your frontend doesn't currently support widgets.\n",
       "</p>\n"
      ],
      "text/plain": [
       "HBox(children=(IntProgress(value=0, max=4186), HTML(value='')))"
      ]
     },
     "metadata": {},
     "output_type": "display_data"
    }
   ],
   "source": [
    "user_change = {\n",
    "    'user_id': [],\n",
    "    'change_id': []\n",
    "}\n",
    "\n",
    "for user, group in tqdm_notebook(skl_dol[skl_dol['Таб. номер (заявителя)'].isin(inter)].groupby('Таб. номер (заявителя)')):\n",
    "    change_id = None\n",
    "    for d in group['Дата заезда'].values:\n",
    "        try:\n",
    "            change_id = date_mapper[d]\n",
    "        except:\n",
    "            continue\n",
    "            \n",
    "    if change_id != None:\n",
    "        user_change['user_id'].append(user)\n",
    "        user_change['change_id'].append(change_id)"
   ]
  },
  {
   "cell_type": "code",
   "execution_count": 98,
   "metadata": {},
   "outputs": [],
   "source": [
    "user_change = pd.DataFrame(user_change)"
   ]
  },
  {
   "cell_type": "code",
   "execution_count": 102,
   "metadata": {},
   "outputs": [
    {
     "data": {
      "text/plain": [
       "11    848\n",
       "4     511\n",
       "9     389\n",
       "5     369\n",
       "10    252\n",
       "7     247\n",
       "13    241\n",
       "8     238\n",
       "12    237\n",
       "3     224\n",
       "6     224\n",
       "1     185\n",
       "14    113\n",
       "15     60\n",
       "Name: change_id, dtype: int64"
      ]
     },
     "execution_count": 102,
     "metadata": {},
     "output_type": "execute_result"
    }
   ],
   "source": [
    "user_change.change_id.value_counts()"
   ]
  },
  {
   "cell_type": "code",
   "execution_count": 140,
   "metadata": {},
   "outputs": [],
   "source": [
    "user_change.to_csv('../data/user_change.csv', index=False)"
   ]
  },
  {
   "cell_type": "code",
   "execution_count": 109,
   "metadata": {
    "scrolled": true
   },
   "outputs": [
    {
     "data": {
      "text/plain": [
       "{'age': 48.0,\n",
       " 'divorced': 0.0,\n",
       " 'exp_years': 18.493378995433787,\n",
       " 'good_job': 0.0,\n",
       " 'holiday': 0.0,\n",
       " 'lone_mother': 0.0,\n",
       " 'max_dep_age': 73.0,\n",
       " 'max_dep_exp': 24.42214611872146,\n",
       " 'mean_dep_age': 43.93860147811257,\n",
       " 'mean_dep_exp': 11.181239340534397,\n",
       " 'mean_divorced': 0.11881750994883457,\n",
       " 'mean_good_job': 0.017055144968732235,\n",
       " 'mean_holiday': 0.06083001705514497,\n",
       " 'mean_lone_mother': 0.009664582148948267,\n",
       " 'mean_motivation': 0.0,\n",
       " 'mean_no_mirrage': 0.18078453666856167,\n",
       " 'mean_of_mirrage': 0.6679931779420125,\n",
       " 'mean_prize_1': 0.0,\n",
       " 'mean_prize_2': 0.0,\n",
       " 'mean_prize_3': 0.0,\n",
       " 'mean_prize_4': 0.0,\n",
       " 'mean_prize_5': 0.0,\n",
       " 'mean_prize_6': 0.0,\n",
       " 'mean_prize_7': 0.0,\n",
       " 'mean_unof_mirrage': 0.010801591813530414,\n",
       " 'mean_widow': 0.01137009664582149,\n",
       " 'min_dep_age': 20.0,\n",
       " 'min_dep_exp': 0.03287671232876712,\n",
       " 'motivation': 0.0,\n",
       " 'no_mirrage': 0.0,\n",
       " 'of_mirrage': 1.0,\n",
       " 'opek_child_mean_boy_age': 0.0,\n",
       " 'opek_child_mean_girl_age': 0.0,\n",
       " 'opek_child_num_boy': 0.0,\n",
       " 'opek_child_num_girl': 0.0,\n",
       " 'own_child_mean_boy_age': 17.0,\n",
       " 'own_child_mean_girl_age': 0.0,\n",
       " 'own_child_num_boy': 1.0,\n",
       " 'own_child_num_girl': 0.0,\n",
       " 'p25_dep_age': 35.0,\n",
       " 'p25_dep_exp': 7.355251141552511,\n",
       " 'p50_dep_age': 43.0,\n",
       " 'p50_dep_exp': 14.291095890410961,\n",
       " 'p75_dep_age': 53.0,\n",
       " 'p75_dep_exp': 14.916666666666664,\n",
       " 'prize_1': 0.0,\n",
       " 'prize_2': 0.0,\n",
       " 'prize_3': 0.0,\n",
       " 'prize_4': 0.0,\n",
       " 'prize_5': 0.0,\n",
       " 'prize_6': 0.0,\n",
       " 'prize_7': 0.0,\n",
       " 'std_dep_age': 10.950905195156787,\n",
       " 'std_dep_exp': 4.729112879609488,\n",
       " 'unof_mirrage': 0.0,\n",
       " 'widow': 0.0}"
      ]
     },
     "execution_count": 109,
     "metadata": {},
     "output_type": "execute_result"
    }
   ],
   "source": [
    "user_features['433602817.0']"
   ]
  },
  {
   "cell_type": "code",
   "execution_count": 111,
   "metadata": {},
   "outputs": [],
   "source": [
    "input_df = {}\n",
    "\n",
    "for key in user_features['433602817.0'].keys():\n",
    "    input_df[key] = []\n",
    "    \n",
    "for u in user_change.user_id.values:\n",
    "    for key in input_df.keys():\n",
    "        input_df[key].append(user_features[str(float(u))][key])"
   ]
  },
  {
   "cell_type": "code",
   "execution_count": 112,
   "metadata": {},
   "outputs": [],
   "source": [
    "input_df = pd.DataFrame(input_df)"
   ]
  },
  {
   "cell_type": "code",
   "execution_count": 135,
   "metadata": {},
   "outputs": [],
   "source": [
    "scores_1 = [p[1] for p in big_model_scoring.predict_proba(input_df)]"
   ]
  },
  {
   "cell_type": "code",
   "execution_count": 129,
   "metadata": {},
   "outputs": [],
   "source": [
    "normal_columns = [\n",
    "    'exp_years',\n",
    "    'good_job',\n",
    "    'holiday',\n",
    "    'motivation',\n",
    "    'prize_1',\n",
    "    'prize_2',\n",
    "    'prize_3',\n",
    "    'prize_4',\n",
    "    'prize_5',\n",
    "    'prize_6',\n",
    "    'prize_7'\n",
    "]\n",
    "\n",
    "new_normal_data = {}\n",
    "\n",
    "for c in normal_columns:\n",
    "    new_normal_data[c] = input_df[c].values\n",
    "    \n",
    "new_normal_data = pd.DataFrame(new_normal_data)"
   ]
  },
  {
   "cell_type": "code",
   "execution_count": 131,
   "metadata": {},
   "outputs": [],
   "source": [
    "scores_2 = [p[1] for p in small_model_scoring.predict_proba(new_normal_data)]"
   ]
  },
  {
   "cell_type": "code",
   "execution_count": null,
   "metadata": {},
   "outputs": [],
   "source": []
  }
 ],
 "metadata": {
  "kernelspec": {
   "display_name": "Python 3",
   "language": "python",
   "name": "python3"
  },
  "language_info": {
   "codemirror_mode": {
    "name": "ipython",
    "version": 3
   },
   "file_extension": ".py",
   "mimetype": "text/x-python",
   "name": "python",
   "nbconvert_exporter": "python",
   "pygments_lexer": "ipython3",
   "version": "3.6.4"
  }
 },
 "nbformat": 4,
 "nbformat_minor": 2
}
