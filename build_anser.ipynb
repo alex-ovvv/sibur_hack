{
 "cells": [
  {
   "cell_type": "code",
   "execution_count": 1,
   "metadata": {},
   "outputs": [],
   "source": [
    "import pandas as pd\n",
    "import numpy as np\n",
    "import json\n",
    "import pickle\n",
    "\n",
    "from tqdm import tqdm_notebook\n",
    "\n",
    "from datetime import datetime"
   ]
  },
  {
   "cell_type": "code",
   "execution_count": 2,
   "metadata": {},
   "outputs": [],
   "source": [
    "with open('../data/user_features.json', 'r') as f:\n",
    "    user_features = json.loads(f.read())\n",
    "    \n",
    "with open('../models/big_model_scoring', 'rb') as f:\n",
    "    big_model_scoring = pickle.loads(f.read())\n",
    "    \n",
    "with open('../models/small_model_scoring', 'rb') as f:\n",
    "    small_model_scoring = pickle.loads(f.read())"
   ]
  },
  {
   "cell_type": "code",
   "execution_count": 3,
   "metadata": {},
   "outputs": [],
   "source": [
    "user_change = pd.read_csv('../data/user_change.csv')"
   ]
  },
  {
   "cell_type": "code",
   "execution_count": 4,
   "metadata": {},
   "outputs": [
    {
     "data": {
      "text/html": [
       "<div>\n",
       "<style scoped>\n",
       "    .dataframe tbody tr th:only-of-type {\n",
       "        vertical-align: middle;\n",
       "    }\n",
       "\n",
       "    .dataframe tbody tr th {\n",
       "        vertical-align: top;\n",
       "    }\n",
       "\n",
       "    .dataframe thead th {\n",
       "        text-align: right;\n",
       "    }\n",
       "</style>\n",
       "<table border=\"1\" class=\"dataframe\">\n",
       "  <thead>\n",
       "    <tr style=\"text-align: right;\">\n",
       "      <th></th>\n",
       "      <th>user_id</th>\n",
       "      <th>change_id</th>\n",
       "    </tr>\n",
       "  </thead>\n",
       "  <tbody>\n",
       "    <tr>\n",
       "      <th>0</th>\n",
       "      <td>216667066.0</td>\n",
       "      <td>5</td>\n",
       "    </tr>\n",
       "    <tr>\n",
       "      <th>1</th>\n",
       "      <td>216667249.0</td>\n",
       "      <td>4</td>\n",
       "    </tr>\n",
       "    <tr>\n",
       "      <th>2</th>\n",
       "      <td>216667667.0</td>\n",
       "      <td>4</td>\n",
       "    </tr>\n",
       "    <tr>\n",
       "      <th>3</th>\n",
       "      <td>216668213.0</td>\n",
       "      <td>11</td>\n",
       "    </tr>\n",
       "    <tr>\n",
       "      <th>4</th>\n",
       "      <td>216668899.0</td>\n",
       "      <td>15</td>\n",
       "    </tr>\n",
       "  </tbody>\n",
       "</table>\n",
       "</div>"
      ],
      "text/plain": [
       "       user_id  change_id\n",
       "0  216667066.0          5\n",
       "1  216667249.0          4\n",
       "2  216667667.0          4\n",
       "3  216668213.0         11\n",
       "4  216668899.0         15"
      ]
     },
     "execution_count": 4,
     "metadata": {},
     "output_type": "execute_result"
    }
   ],
   "source": [
    "user_change.head()"
   ]
  },
  {
   "cell_type": "code",
   "execution_count": 5,
   "metadata": {},
   "outputs": [],
   "source": [
    "input_df = {}\n",
    "\n",
    "for key in user_features['433602817.0'].keys():\n",
    "    input_df[key] = []\n",
    "    \n",
    "for u in user_change.user_id.values:\n",
    "    for key in input_df.keys():\n",
    "        input_df[key].append(user_features[str(float(u))][key])"
   ]
  },
  {
   "cell_type": "code",
   "execution_count": 7,
   "metadata": {},
   "outputs": [],
   "source": [
    "input_df = pd.DataFrame(input_df)"
   ]
  },
  {
   "cell_type": "code",
   "execution_count": 8,
   "metadata": {
    "scrolled": true
   },
   "outputs": [
    {
     "data": {
      "text/html": [
       "<div>\n",
       "<style scoped>\n",
       "    .dataframe tbody tr th:only-of-type {\n",
       "        vertical-align: middle;\n",
       "    }\n",
       "\n",
       "    .dataframe tbody tr th {\n",
       "        vertical-align: top;\n",
       "    }\n",
       "\n",
       "    .dataframe thead th {\n",
       "        text-align: right;\n",
       "    }\n",
       "</style>\n",
       "<table border=\"1\" class=\"dataframe\">\n",
       "  <thead>\n",
       "    <tr style=\"text-align: right;\">\n",
       "      <th></th>\n",
       "      <th>exp_years</th>\n",
       "      <th>age</th>\n",
       "      <th>widow</th>\n",
       "      <th>no_mirrage</th>\n",
       "      <th>divorced</th>\n",
       "      <th>of_mirrage</th>\n",
       "      <th>unof_mirrage</th>\n",
       "      <th>lone_mother</th>\n",
       "      <th>good_job</th>\n",
       "      <th>holiday</th>\n",
       "      <th>...</th>\n",
       "      <th>mean_good_job</th>\n",
       "      <th>mean_holiday</th>\n",
       "      <th>mean_motivation</th>\n",
       "      <th>mean_prize_1</th>\n",
       "      <th>mean_prize_2</th>\n",
       "      <th>mean_prize_3</th>\n",
       "      <th>mean_prize_4</th>\n",
       "      <th>mean_prize_5</th>\n",
       "      <th>mean_prize_6</th>\n",
       "      <th>mean_prize_7</th>\n",
       "    </tr>\n",
       "  </thead>\n",
       "  <tbody>\n",
       "    <tr>\n",
       "      <th>0</th>\n",
       "      <td>19.416667</td>\n",
       "      <td>55.0</td>\n",
       "      <td>0.0</td>\n",
       "      <td>0.0</td>\n",
       "      <td>0.0</td>\n",
       "      <td>1.0</td>\n",
       "      <td>0.0</td>\n",
       "      <td>0.0</td>\n",
       "      <td>0.0</td>\n",
       "      <td>0.0</td>\n",
       "      <td>...</td>\n",
       "      <td>0.015529</td>\n",
       "      <td>0.004495</td>\n",
       "      <td>0.0</td>\n",
       "      <td>0.0</td>\n",
       "      <td>0.000409</td>\n",
       "      <td>0.0</td>\n",
       "      <td>0.0</td>\n",
       "      <td>0.0</td>\n",
       "      <td>0.0</td>\n",
       "      <td>0.0</td>\n",
       "    </tr>\n",
       "    <tr>\n",
       "      <th>1</th>\n",
       "      <td>18.416667</td>\n",
       "      <td>48.0</td>\n",
       "      <td>0.0</td>\n",
       "      <td>0.0</td>\n",
       "      <td>0.0</td>\n",
       "      <td>1.0</td>\n",
       "      <td>0.0</td>\n",
       "      <td>0.0</td>\n",
       "      <td>0.0</td>\n",
       "      <td>0.0</td>\n",
       "      <td>...</td>\n",
       "      <td>0.015529</td>\n",
       "      <td>0.004495</td>\n",
       "      <td>0.0</td>\n",
       "      <td>0.0</td>\n",
       "      <td>0.000409</td>\n",
       "      <td>0.0</td>\n",
       "      <td>0.0</td>\n",
       "      <td>0.0</td>\n",
       "      <td>0.0</td>\n",
       "      <td>0.0</td>\n",
       "    </tr>\n",
       "    <tr>\n",
       "      <th>2</th>\n",
       "      <td>18.416667</td>\n",
       "      <td>47.0</td>\n",
       "      <td>0.0</td>\n",
       "      <td>0.0</td>\n",
       "      <td>0.0</td>\n",
       "      <td>1.0</td>\n",
       "      <td>0.0</td>\n",
       "      <td>0.0</td>\n",
       "      <td>0.0</td>\n",
       "      <td>0.0</td>\n",
       "      <td>...</td>\n",
       "      <td>0.015529</td>\n",
       "      <td>0.004495</td>\n",
       "      <td>0.0</td>\n",
       "      <td>0.0</td>\n",
       "      <td>0.000409</td>\n",
       "      <td>0.0</td>\n",
       "      <td>0.0</td>\n",
       "      <td>0.0</td>\n",
       "      <td>0.0</td>\n",
       "      <td>0.0</td>\n",
       "    </tr>\n",
       "    <tr>\n",
       "      <th>3</th>\n",
       "      <td>19.416667</td>\n",
       "      <td>49.0</td>\n",
       "      <td>0.0</td>\n",
       "      <td>0.0</td>\n",
       "      <td>1.0</td>\n",
       "      <td>0.0</td>\n",
       "      <td>0.0</td>\n",
       "      <td>0.0</td>\n",
       "      <td>0.0</td>\n",
       "      <td>0.0</td>\n",
       "      <td>...</td>\n",
       "      <td>0.015529</td>\n",
       "      <td>0.004495</td>\n",
       "      <td>0.0</td>\n",
       "      <td>0.0</td>\n",
       "      <td>0.000409</td>\n",
       "      <td>0.0</td>\n",
       "      <td>0.0</td>\n",
       "      <td>0.0</td>\n",
       "      <td>0.0</td>\n",
       "      <td>0.0</td>\n",
       "    </tr>\n",
       "    <tr>\n",
       "      <th>4</th>\n",
       "      <td>18.416667</td>\n",
       "      <td>46.0</td>\n",
       "      <td>0.0</td>\n",
       "      <td>0.0</td>\n",
       "      <td>0.0</td>\n",
       "      <td>1.0</td>\n",
       "      <td>0.0</td>\n",
       "      <td>0.0</td>\n",
       "      <td>0.0</td>\n",
       "      <td>1.0</td>\n",
       "      <td>...</td>\n",
       "      <td>0.015529</td>\n",
       "      <td>0.004495</td>\n",
       "      <td>0.0</td>\n",
       "      <td>0.0</td>\n",
       "      <td>0.000409</td>\n",
       "      <td>0.0</td>\n",
       "      <td>0.0</td>\n",
       "      <td>0.0</td>\n",
       "      <td>0.0</td>\n",
       "      <td>0.0</td>\n",
       "    </tr>\n",
       "  </tbody>\n",
       "</table>\n",
       "<p>5 rows × 56 columns</p>\n",
       "</div>"
      ],
      "text/plain": [
       "   exp_years   age  widow  no_mirrage  divorced  of_mirrage  unof_mirrage  \\\n",
       "0  19.416667  55.0    0.0         0.0       0.0         1.0           0.0   \n",
       "1  18.416667  48.0    0.0         0.0       0.0         1.0           0.0   \n",
       "2  18.416667  47.0    0.0         0.0       0.0         1.0           0.0   \n",
       "3  19.416667  49.0    0.0         0.0       1.0         0.0           0.0   \n",
       "4  18.416667  46.0    0.0         0.0       0.0         1.0           0.0   \n",
       "\n",
       "   lone_mother  good_job  holiday      ...       mean_good_job  mean_holiday  \\\n",
       "0          0.0       0.0      0.0      ...            0.015529      0.004495   \n",
       "1          0.0       0.0      0.0      ...            0.015529      0.004495   \n",
       "2          0.0       0.0      0.0      ...            0.015529      0.004495   \n",
       "3          0.0       0.0      0.0      ...            0.015529      0.004495   \n",
       "4          0.0       0.0      1.0      ...            0.015529      0.004495   \n",
       "\n",
       "   mean_motivation  mean_prize_1  mean_prize_2  mean_prize_3  mean_prize_4  \\\n",
       "0              0.0           0.0      0.000409           0.0           0.0   \n",
       "1              0.0           0.0      0.000409           0.0           0.0   \n",
       "2              0.0           0.0      0.000409           0.0           0.0   \n",
       "3              0.0           0.0      0.000409           0.0           0.0   \n",
       "4              0.0           0.0      0.000409           0.0           0.0   \n",
       "\n",
       "   mean_prize_5  mean_prize_6  mean_prize_7  \n",
       "0           0.0           0.0           0.0  \n",
       "1           0.0           0.0           0.0  \n",
       "2           0.0           0.0           0.0  \n",
       "3           0.0           0.0           0.0  \n",
       "4           0.0           0.0           0.0  \n",
       "\n",
       "[5 rows x 56 columns]"
      ]
     },
     "execution_count": 8,
     "metadata": {},
     "output_type": "execute_result"
    }
   ],
   "source": [
    "input_df.head()"
   ]
  },
  {
   "cell_type": "code",
   "execution_count": 14,
   "metadata": {},
   "outputs": [
    {
     "data": {
      "text/plain": [
       "(4138, 56)"
      ]
     },
     "execution_count": 14,
     "metadata": {},
     "output_type": "execute_result"
    }
   ],
   "source": [
    "input_df.shape"
   ]
  },
  {
   "cell_type": "code",
   "execution_count": 9,
   "metadata": {},
   "outputs": [],
   "source": [
    "scores_1 = [p[1] for p in big_model_scoring.predict_proba(input_df)]"
   ]
  },
  {
   "cell_type": "code",
   "execution_count": 24,
   "metadata": {},
   "outputs": [],
   "source": [
    "first_score = {}\n",
    "\n",
    "for i in range(len(scores_1)):\n",
    "    first_score[user_change.user_id.values[i]] = scores_1[i]"
   ]
  },
  {
   "cell_type": "code",
   "execution_count": 17,
   "metadata": {},
   "outputs": [],
   "source": [
    "normal_columns = [\n",
    "    'exp_years',\n",
    "    'good_job',\n",
    "    'holiday',\n",
    "    'motivation',\n",
    "    'prize_1',\n",
    "    'prize_2',\n",
    "    'prize_3',\n",
    "    'prize_4',\n",
    "    'prize_5',\n",
    "    'prize_6',\n",
    "    'prize_7'\n",
    "]\n",
    "\n",
    "new_normal_data = {}\n",
    "\n",
    "for c in normal_columns:\n",
    "    new_normal_data[c] = input_df[c].values\n",
    "    \n",
    "new_normal_data = pd.DataFrame(new_normal_data)"
   ]
  },
  {
   "cell_type": "code",
   "execution_count": 18,
   "metadata": {},
   "outputs": [],
   "source": [
    "scores_2 = [p[1] for p in small_model_scoring.predict_proba(new_normal_data)]"
   ]
  },
  {
   "cell_type": "code",
   "execution_count": 25,
   "metadata": {},
   "outputs": [],
   "source": [
    "second_score = {}\n",
    "\n",
    "for i in range(len(scores_2)):\n",
    "    second_score[user_change.user_id.values[i]] = scores_2[i]"
   ]
  },
  {
   "cell_type": "code",
   "execution_count": 28,
   "metadata": {},
   "outputs": [
    {
     "data": {
      "application/vnd.jupyter.widget-view+json": {
       "model_id": "9ff086c702e94ca7a63375cb9c0ee0fd",
       "version_major": 2,
       "version_minor": 0
      },
      "text/html": [
       "<p>Failed to display Jupyter Widget of type <code>HBox</code>.</p>\n",
       "<p>\n",
       "  If you're reading this message in the Jupyter Notebook or JupyterLab Notebook, it may mean\n",
       "  that the widgets JavaScript is still loading. If this message persists, it\n",
       "  likely means that the widgets JavaScript library is either not installed or\n",
       "  not enabled. See the <a href=\"https://ipywidgets.readthedocs.io/en/stable/user_install.html\">Jupyter\n",
       "  Widgets Documentation</a> for setup instructions.\n",
       "</p>\n",
       "<p>\n",
       "  If you're reading this message in another frontend (for example, a static\n",
       "  rendering on GitHub or <a href=\"https://nbviewer.jupyter.org/\">NBViewer</a>),\n",
       "  it may mean that your frontend doesn't currently support widgets.\n",
       "</p>\n"
      ],
      "text/plain": [
       "HBox(children=(IntProgress(value=0, max=14), HTML(value='')))"
      ]
     },
     "metadata": {},
     "output_type": "display_data"
    },
    {
     "name": "stdout",
     "output_type": "stream",
     "text": [
      "\n"
     ]
    }
   ],
   "source": [
    "change_user_scores = {}\n",
    "\n",
    "for change, group in tqdm_notebook(user_change.groupby('change_id')):\n",
    "    change_user_scores[change] = {}\n",
    "    change_user_scores[change]['users'] = group.user_id.values.tolist()\n",
    "    change_user_scores[change]['big_scoring'] = [first_score[u] for u in group.user_id.values.tolist()]\n",
    "    change_user_scores[change]['small_scoring'] = [second_score[u] for u in group.user_id.values.tolist()]"
   ]
  },
  {
   "cell_type": "code",
   "execution_count": 30,
   "metadata": {},
   "outputs": [],
   "source": [
    "with open('../data/answer_scores_for_change.json', 'w') as f:\n",
    "    f.write(json.dumps(change_user_scores))"
   ]
  },
  {
   "cell_type": "code",
   "execution_count": null,
   "metadata": {},
   "outputs": [],
   "source": []
  }
 ],
 "metadata": {
  "kernelspec": {
   "display_name": "Python 3",
   "language": "python",
   "name": "python3"
  },
  "language_info": {
   "codemirror_mode": {
    "name": "ipython",
    "version": 3
   },
   "file_extension": ".py",
   "mimetype": "text/x-python",
   "name": "python",
   "nbconvert_exporter": "python",
   "pygments_lexer": "ipython3",
   "version": "3.6.4"
  }
 },
 "nbformat": 4,
 "nbformat_minor": 2
}
