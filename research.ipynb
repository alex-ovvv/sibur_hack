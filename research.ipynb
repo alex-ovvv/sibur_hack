{
 "cells": [
  {
   "cell_type": "code",
   "execution_count": 1,
   "metadata": {},
   "outputs": [],
   "source": [
    "import pandas as pd"
   ]
  },
  {
   "cell_type": "code",
   "execution_count": 4,
   "metadata": {},
   "outputs": [],
   "source": [
    "best_workers = pd.read_excel('../data/Лучший по профессии.xlsx')"
   ]
  },
  {
   "cell_type": "code",
   "execution_count": 5,
   "metadata": {},
   "outputs": [
    {
     "data": {
      "text/html": [
       "<div>\n",
       "<style scoped>\n",
       "    .dataframe tbody tr th:only-of-type {\n",
       "        vertical-align: middle;\n",
       "    }\n",
       "\n",
       "    .dataframe tbody tr th {\n",
       "        vertical-align: top;\n",
       "    }\n",
       "\n",
       "    .dataframe thead th {\n",
       "        text-align: right;\n",
       "    }\n",
       "</style>\n",
       "<table border=\"1\" class=\"dataframe\">\n",
       "  <thead>\n",
       "    <tr style=\"text-align: right;\">\n",
       "      <th></th>\n",
       "      <th>Табельный номер</th>\n",
       "      <th>ФИО</th>\n",
       "      <th>Мотив для поощрения</th>\n",
       "      <th>Период действия С</th>\n",
       "      <th>Приказ</th>\n",
       "      <th>Доп информация (основание)</th>\n",
       "    </tr>\n",
       "  </thead>\n",
       "  <tbody>\n",
       "    <tr>\n",
       "      <th>0</th>\n",
       "      <td>683342593</td>\n",
       "      <td>Ягодин Мир Матвеевич</td>\n",
       "      <td>NaN</td>\n",
       "      <td>2017</td>\n",
       "      <td>13.11/0001-М</td>\n",
       "      <td>За участие в конкурсе профмастерства на уровне...</td>\n",
       "    </tr>\n",
       "    <tr>\n",
       "      <th>1</th>\n",
       "      <td>683357532</td>\n",
       "      <td>Головнина Василиса Семеновна</td>\n",
       "      <td>NaN</td>\n",
       "      <td>2017</td>\n",
       "      <td>27.10/0001-М</td>\n",
       "      <td>протокол заседания комиссии для проведения кон...</td>\n",
       "    </tr>\n",
       "    <tr>\n",
       "      <th>2</th>\n",
       "      <td>683387247</td>\n",
       "      <td>Глен Кондратий Эрнестович</td>\n",
       "      <td>NaN</td>\n",
       "      <td>2017</td>\n",
       "      <td>27.10/0001-М</td>\n",
       "      <td>протокол заседания комиссии для проведения кон...</td>\n",
       "    </tr>\n",
       "    <tr>\n",
       "      <th>3</th>\n",
       "      <td>683387489</td>\n",
       "      <td>Тихвинский Макар Макарович</td>\n",
       "      <td>NaN</td>\n",
       "      <td>2017</td>\n",
       "      <td>27.10/0001-М</td>\n",
       "      <td>протокол заседания комиссии для проведения кон...</td>\n",
       "    </tr>\n",
       "    <tr>\n",
       "      <th>4</th>\n",
       "      <td>683380914</td>\n",
       "      <td>Баскаков Никанор Кондратович</td>\n",
       "      <td>NaN</td>\n",
       "      <td>2017</td>\n",
       "      <td>27.10/0001-М</td>\n",
       "      <td>протокол заседания комиссии для проведения кон...</td>\n",
       "    </tr>\n",
       "  </tbody>\n",
       "</table>\n",
       "</div>"
      ],
      "text/plain": [
       "   Табельный номер                             ФИО  Мотив для поощрения  \\\n",
       "0        683342593           Ягодин Мир Матвеевич                   NaN   \n",
       "1        683357532   Головнина Василиса Семеновна                   NaN   \n",
       "2        683387247      Глен Кондратий Эрнестович                   NaN   \n",
       "3        683387489     Тихвинский Макар Макарович                   NaN   \n",
       "4        683380914   Баскаков Никанор Кондратович                   NaN   \n",
       "\n",
       "   Период действия С        Приказ   \\\n",
       "0                2017  13.11/0001-М   \n",
       "1                2017  27.10/0001-М   \n",
       "2                2017  27.10/0001-М   \n",
       "3                2017  27.10/0001-М   \n",
       "4                2017  27.10/0001-М   \n",
       "\n",
       "                          Доп информация (основание)  \n",
       "0  За участие в конкурсе профмастерства на уровне...  \n",
       "1  протокол заседания комиссии для проведения кон...  \n",
       "2  протокол заседания комиссии для проведения кон...  \n",
       "3  протокол заседания комиссии для проведения кон...  \n",
       "4  протокол заседания комиссии для проведения кон...  "
      ]
     },
     "execution_count": 5,
     "metadata": {},
     "output_type": "execute_result"
    }
   ],
   "source": [
    "best_workers.head()"
   ]
  },
  {
   "cell_type": "code",
   "execution_count": 8,
   "metadata": {
    "scrolled": true
   },
   "outputs": [
    {
     "data": {
      "text/plain": [
       "(60, 6)"
      ]
     },
     "execution_count": 8,
     "metadata": {},
     "output_type": "execute_result"
    }
   ],
   "source": [
    "best_workers.shape"
   ]
  },
  {
   "cell_type": "code",
   "execution_count": 30,
   "metadata": {},
   "outputs": [
    {
     "data": {
      "text/plain": [
       "array([nan])"
      ]
     },
     "execution_count": 30,
     "metadata": {},
     "output_type": "execute_result"
    }
   ],
   "source": [
    "best_workers['Мотив для поощрения'].unique()"
   ]
  },
  {
   "cell_type": "code",
   "execution_count": 51,
   "metadata": {},
   "outputs": [
    {
     "data": {
      "text/plain": [
       "протоколы работы Комиссии I этапа конкурса проф.мастерства на звание «Лучший по профессии»                                                                                              14\n",
       "ЗСТГ_1 этап КПМ 2018                                                                                                                                                                    14\n",
       "протокол заседания комиссии для проведения конкурса профмастерства среди водителей и машинистов спецтехники от 26.10.2018 01/29/ЗСТГ                                                    10\n",
       "протокол заседания комиссии для проведения конкурса профмастерства среди водителей и машинистов спецтехники от 21.10.2017 01/29/ЗСТГ                                                     9\n",
       "протоколы работы Комиссии II этапа конкурса проф.мастерства на звание «Лучший по профессии» по всем номинациям                                                                           8\n",
       "протокол подведения итогов 1 этапа конкурса профмастерства Лучший трубопроводчик линейный\"                                                                                               3\n",
       "призер чемпионата Worldskills Hi-Tech 2018                                                                                                                                               1\n",
       "За участие в конкурсе профмастерства на уровне Холдинга:\\nучастника номинации «Сварочные технологии», занявшего 3-е – Бурнашева Д.А. \\nСотрудник стал призером конкурса Worldskills.     1\n",
       "Name: Доп информация (основание), dtype: int64"
      ]
     },
     "execution_count": 51,
     "metadata": {},
     "output_type": "execute_result"
    }
   ],
   "source": [
    "best_workers['Доп информация (основание)'].value_counts()"
   ]
  },
  {
   "cell_type": "code",
   "execution_count": 6,
   "metadata": {},
   "outputs": [],
   "source": [
    "many_children = pd.read_excel('../data/Многодетные.xlsx')"
   ]
  },
  {
   "cell_type": "code",
   "execution_count": 7,
   "metadata": {},
   "outputs": [
    {
     "data": {
      "text/html": [
       "<div>\n",
       "<style scoped>\n",
       "    .dataframe tbody tr th:only-of-type {\n",
       "        vertical-align: middle;\n",
       "    }\n",
       "\n",
       "    .dataframe tbody tr th {\n",
       "        vertical-align: top;\n",
       "    }\n",
       "\n",
       "    .dataframe thead th {\n",
       "        text-align: right;\n",
       "    }\n",
       "</style>\n",
       "<table border=\"1\" class=\"dataframe\">\n",
       "  <thead>\n",
       "    <tr style=\"text-align: right;\">\n",
       "      <th></th>\n",
       "      <th>N п/п</th>\n",
       "      <th>Предприятие</th>\n",
       "      <th>Таб. номер</th>\n",
       "      <th>ФИО</th>\n",
       "      <th>Дата рождения</th>\n",
       "      <th>Степень родства</th>\n",
       "      <th>ФИ0 ребенка</th>\n",
       "      <th>Дата рождения ребенка</th>\n",
       "    </tr>\n",
       "  </thead>\n",
       "  <tbody>\n",
       "    <tr>\n",
       "      <th>0</th>\n",
       "      <td>1</td>\n",
       "      <td>Кашкай</td>\n",
       "      <td>NaN</td>\n",
       "      <td>а</td>\n",
       "      <td>01.05.1977</td>\n",
       "      <td>Дочь</td>\n",
       "      <td>а</td>\n",
       "      <td>05.09.2008</td>\n",
       "    </tr>\n",
       "    <tr>\n",
       "      <th>1</th>\n",
       "      <td>2</td>\n",
       "      <td>Кашкай</td>\n",
       "      <td>NaN</td>\n",
       "      <td>а</td>\n",
       "      <td>01.05.1977</td>\n",
       "      <td>Сын</td>\n",
       "      <td>а</td>\n",
       "      <td>21.06.2001</td>\n",
       "    </tr>\n",
       "    <tr>\n",
       "      <th>2</th>\n",
       "      <td>3</td>\n",
       "      <td>Кашкай</td>\n",
       "      <td>NaN</td>\n",
       "      <td>а</td>\n",
       "      <td>01.05.1977</td>\n",
       "      <td>Дочь</td>\n",
       "      <td>а</td>\n",
       "      <td>12.09.2003</td>\n",
       "    </tr>\n",
       "    <tr>\n",
       "      <th>3</th>\n",
       "      <td>4</td>\n",
       "      <td>Кашкай</td>\n",
       "      <td>NaN</td>\n",
       "      <td>а</td>\n",
       "      <td>01.05.1977</td>\n",
       "      <td>Дочь</td>\n",
       "      <td>а</td>\n",
       "      <td>10.01.2018</td>\n",
       "    </tr>\n",
       "    <tr>\n",
       "      <th>4</th>\n",
       "      <td>5</td>\n",
       "      <td>Кашкай</td>\n",
       "      <td>NaN</td>\n",
       "      <td>а</td>\n",
       "      <td>02.12.1980</td>\n",
       "      <td>Сын</td>\n",
       "      <td>а</td>\n",
       "      <td>24.12.2003</td>\n",
       "    </tr>\n",
       "  </tbody>\n",
       "</table>\n",
       "</div>"
      ],
      "text/plain": [
       "   N п/п Предприятие  Таб. номер ФИО Дата рождения Степень родства  \\\n",
       "0      1      Кашкай         NaN   а    01.05.1977            Дочь   \n",
       "1      2      Кашкай         NaN   а    01.05.1977             Сын   \n",
       "2      3      Кашкай         NaN   а    01.05.1977            Дочь   \n",
       "3      4      Кашкай         NaN   а    01.05.1977            Дочь   \n",
       "4      5      Кашкай         NaN   а    02.12.1980             Сын   \n",
       "\n",
       "  ФИ0 ребенка Дата рождения ребенка  \n",
       "0         а              05.09.2008  \n",
       "1         а              21.06.2001  \n",
       "2         а              12.09.2003  \n",
       "3         а              10.01.2018  \n",
       "4         а              24.12.2003  "
      ]
     },
     "execution_count": 7,
     "metadata": {},
     "output_type": "execute_result"
    }
   ],
   "source": [
    "many_children.head()"
   ]
  },
  {
   "cell_type": "code",
   "execution_count": 9,
   "metadata": {},
   "outputs": [
    {
     "data": {
      "text/plain": [
       "(34387, 8)"
      ]
     },
     "execution_count": 9,
     "metadata": {},
     "output_type": "execute_result"
    }
   ],
   "source": [
    "many_children.shape"
   ]
  },
  {
   "cell_type": "code",
   "execution_count": 37,
   "metadata": {},
   "outputs": [
    {
     "data": {
      "text/plain": [
       "(34,)"
      ]
     },
     "execution_count": 37,
     "metadata": {},
     "output_type": "execute_result"
    }
   ],
   "source": [
    "many_children['Предприятие'].unique().shape"
   ]
  },
  {
   "cell_type": "code",
   "execution_count": 10,
   "metadata": {},
   "outputs": [],
   "source": [
    "opekuns = pd.read_excel('../data/Опекуны.xlsx')"
   ]
  },
  {
   "cell_type": "code",
   "execution_count": 11,
   "metadata": {},
   "outputs": [
    {
     "data": {
      "text/html": [
       "<div>\n",
       "<style scoped>\n",
       "    .dataframe tbody tr th:only-of-type {\n",
       "        vertical-align: middle;\n",
       "    }\n",
       "\n",
       "    .dataframe tbody tr th {\n",
       "        vertical-align: top;\n",
       "    }\n",
       "\n",
       "    .dataframe thead th {\n",
       "        text-align: right;\n",
       "    }\n",
       "</style>\n",
       "<table border=\"1\" class=\"dataframe\">\n",
       "  <thead>\n",
       "    <tr style=\"text-align: right;\">\n",
       "      <th></th>\n",
       "      <th>N п/п</th>\n",
       "      <th>Предприятие</th>\n",
       "      <th>Таб. номер</th>\n",
       "      <th>ФИО</th>\n",
       "      <th>Дата рождения</th>\n",
       "      <th>Степень родства</th>\n",
       "      <th>ФИ0 ребенка</th>\n",
       "      <th>Дата рождения ребенка</th>\n",
       "    </tr>\n",
       "  </thead>\n",
       "  <tbody>\n",
       "    <tr>\n",
       "      <th>0</th>\n",
       "      <td>171</td>\n",
       "      <td>Кашкай</td>\n",
       "      <td>NaN</td>\n",
       "      <td>а</td>\n",
       "      <td>1976-06-09</td>\n",
       "      <td>Подопечный</td>\n",
       "      <td>Тукай Жанна Геннадиевна</td>\n",
       "      <td>2001-06-21</td>\n",
       "    </tr>\n",
       "    <tr>\n",
       "      <th>1</th>\n",
       "      <td>2669</td>\n",
       "      <td>Ба́мблби</td>\n",
       "      <td>633380234.0</td>\n",
       "      <td>Никоненко Агафья Данииловна</td>\n",
       "      <td>1977-02-17</td>\n",
       "      <td>Подопечный</td>\n",
       "      <td>Шурупов Викентий Эмилевич</td>\n",
       "      <td>2008-12-11</td>\n",
       "    </tr>\n",
       "    <tr>\n",
       "      <th>2</th>\n",
       "      <td>2670</td>\n",
       "      <td>Ба́мблби</td>\n",
       "      <td>633380234.0</td>\n",
       "      <td>Никоненко Агафья Данииловна</td>\n",
       "      <td>1977-02-17</td>\n",
       "      <td>Подопечный</td>\n",
       "      <td>Веселова Эмма Серафимовна</td>\n",
       "      <td>2015-09-27</td>\n",
       "    </tr>\n",
       "    <tr>\n",
       "      <th>3</th>\n",
       "      <td>6026</td>\n",
       "      <td>Лориэн</td>\n",
       "      <td>217207880.0</td>\n",
       "      <td>Валуева Рената Ильевна</td>\n",
       "      <td>1961-04-16</td>\n",
       "      <td>Подопечный</td>\n",
       "      <td>Тимирёва Ираида Игнатиевна</td>\n",
       "      <td>2013-03-24</td>\n",
       "    </tr>\n",
       "    <tr>\n",
       "      <th>4</th>\n",
       "      <td>6027</td>\n",
       "      <td>Лориэн</td>\n",
       "      <td>217207880.0</td>\n",
       "      <td>Валуева Рената Ильевна</td>\n",
       "      <td>1961-04-16</td>\n",
       "      <td>Подопечный</td>\n",
       "      <td>Сукачёв Никита Эмилевич</td>\n",
       "      <td>2002-08-17</td>\n",
       "    </tr>\n",
       "  </tbody>\n",
       "</table>\n",
       "</div>"
      ],
      "text/plain": [
       "   N п/п Предприятие   Таб. номер                            ФИО  \\\n",
       "0    171      Кашкай          NaN                              а   \n",
       "1   2669    Ба́мблби  633380234.0   Никоненко Агафья Данииловна    \n",
       "2   2670    Ба́мблби  633380234.0   Никоненко Агафья Данииловна    \n",
       "3   6026      Лориэн  217207880.0        Валуева Рената Ильевна    \n",
       "4   6027      Лориэн  217207880.0        Валуева Рената Ильевна    \n",
       "\n",
       "  Дата рождения Степень родства                   ФИ0 ребенка  \\\n",
       "0    1976-06-09      Подопечный      Тукай Жанна Геннадиевна    \n",
       "1    1977-02-17      Подопечный    Шурупов Викентий Эмилевич    \n",
       "2    1977-02-17      Подопечный    Веселова Эмма Серафимовна    \n",
       "3    1961-04-16      Подопечный   Тимирёва Ираида Игнатиевна    \n",
       "4    1961-04-16      Подопечный      Сукачёв Никита Эмилевич    \n",
       "\n",
       "  Дата рождения ребенка  \n",
       "0            2001-06-21  \n",
       "1            2008-12-11  \n",
       "2            2015-09-27  \n",
       "3            2013-03-24  \n",
       "4            2002-08-17  "
      ]
     },
     "execution_count": 11,
     "metadata": {},
     "output_type": "execute_result"
    }
   ],
   "source": [
    "opekuns.head()"
   ]
  },
  {
   "cell_type": "code",
   "execution_count": 12,
   "metadata": {},
   "outputs": [
    {
     "data": {
      "text/plain": [
       "(50, 8)"
      ]
     },
     "execution_count": 12,
     "metadata": {},
     "output_type": "execute_result"
    }
   ],
   "source": [
    "opekuns.shape"
   ]
  },
  {
   "cell_type": "code",
   "execution_count": 36,
   "metadata": {},
   "outputs": [
    {
     "data": {
      "text/plain": [
       "(13,)"
      ]
     },
     "execution_count": 36,
     "metadata": {},
     "output_type": "execute_result"
    }
   ],
   "source": [
    "opekuns['Предприятие'].unique().shape"
   ]
  },
  {
   "cell_type": "code",
   "execution_count": 13,
   "metadata": {},
   "outputs": [],
   "source": [
    "benefits = pd.read_excel('../data/Поощрения.xlsx')"
   ]
  },
  {
   "cell_type": "code",
   "execution_count": 14,
   "metadata": {},
   "outputs": [
    {
     "data": {
      "text/html": [
       "<div>\n",
       "<style scoped>\n",
       "    .dataframe tbody tr th:only-of-type {\n",
       "        vertical-align: middle;\n",
       "    }\n",
       "\n",
       "    .dataframe tbody tr th {\n",
       "        vertical-align: top;\n",
       "    }\n",
       "\n",
       "    .dataframe thead th {\n",
       "        text-align: right;\n",
       "    }\n",
       "</style>\n",
       "<table border=\"1\" class=\"dataframe\">\n",
       "  <thead>\n",
       "    <tr style=\"text-align: right;\">\n",
       "      <th></th>\n",
       "      <th>N п/п</th>\n",
       "      <th>Предприятие</th>\n",
       "      <th>Таб №</th>\n",
       "      <th>ФИО</th>\n",
       "      <th>Дата рождения</th>\n",
       "      <th>Подразделение</th>\n",
       "      <th>Статус</th>\n",
       "      <th>Должность</th>\n",
       "      <th>Код функции</th>\n",
       "      <th>Наименование функции</th>\n",
       "      <th>...</th>\n",
       "      <th>Статья КЗОТ</th>\n",
       "      <th>причина</th>\n",
       "      <th>причина уточн.</th>\n",
       "      <th>Кратко</th>\n",
       "      <th>Название ставки</th>\n",
       "      <th>Категория</th>\n",
       "      <th>Поощрение От</th>\n",
       "      <th>Поощрение До</th>\n",
       "      <th>Уточнение</th>\n",
       "      <th>Основание</th>\n",
       "    </tr>\n",
       "  </thead>\n",
       "  <tbody>\n",
       "    <tr>\n",
       "      <th>0</th>\n",
       "      <td>1723</td>\n",
       "      <td>ТВЭЛ</td>\n",
       "      <td>733338293</td>\n",
       "      <td>Подшивалова Наталья Романовна</td>\n",
       "      <td>1985-12-14</td>\n",
       "      <td>Finance and IT</td>\n",
       "      <td>Срочный договор</td>\n",
       "      <td>Head of Planning and Analysis Department</td>\n",
       "      <td>111.06</td>\n",
       "      <td>Планирование, анализ и отчетность  на предприя...</td>\n",
       "      <td>...</td>\n",
       "      <td>NaN</td>\n",
       "      <td>NaN</td>\n",
       "      <td>NaN</td>\n",
       "      <td>NaN</td>\n",
       "      <td>Администрация</td>\n",
       "      <td>руководители</td>\n",
       "      <td>2017-07-21</td>\n",
       "      <td>2099-01-01</td>\n",
       "      <td>NaN</td>\n",
       "      <td>За высокие результаты работы</td>\n",
       "    </tr>\n",
       "    <tr>\n",
       "      <th>1</th>\n",
       "      <td>1724</td>\n",
       "      <td>ТВЭЛ</td>\n",
       "      <td>733335140</td>\n",
       "      <td>Дорохова Каролина Германовна</td>\n",
       "      <td>1985-01-18</td>\n",
       "      <td>Hydrocarbon Feedstock Division</td>\n",
       "      <td>Срочный договор</td>\n",
       "      <td>Sales Operations Manager</td>\n",
       "      <td>108.05</td>\n",
       "      <td>Поддержка продаж</td>\n",
       "      <td>...</td>\n",
       "      <td>NaN</td>\n",
       "      <td>NaN</td>\n",
       "      <td>NaN</td>\n",
       "      <td>NaN</td>\n",
       "      <td>Администрация</td>\n",
       "      <td>специалисты</td>\n",
       "      <td>2017-07-21</td>\n",
       "      <td>2099-01-01</td>\n",
       "      <td>NaN</td>\n",
       "      <td>За высокие результаты работы</td>\n",
       "    </tr>\n",
       "    <tr>\n",
       "      <th>2</th>\n",
       "      <td>1725</td>\n",
       "      <td>ТВЭЛ</td>\n",
       "      <td>733336916</td>\n",
       "      <td>Афанасьева Алиса Антониновна</td>\n",
       "      <td>1972-10-27</td>\n",
       "      <td>Basic Polymers Division</td>\n",
       "      <td>Срочный договор</td>\n",
       "      <td>Sales Manager</td>\n",
       "      <td>108.03</td>\n",
       "      <td>Продажи</td>\n",
       "      <td>...</td>\n",
       "      <td>NaN</td>\n",
       "      <td>NaN</td>\n",
       "      <td>NaN</td>\n",
       "      <td>NaN</td>\n",
       "      <td>NaN</td>\n",
       "      <td>специалисты</td>\n",
       "      <td>2017-07-21</td>\n",
       "      <td>2099-01-01</td>\n",
       "      <td>NaN</td>\n",
       "      <td>За высокие результаты работы</td>\n",
       "    </tr>\n",
       "    <tr>\n",
       "      <th>3</th>\n",
       "      <td>1</td>\n",
       "      <td>Группа ГАЗ</td>\n",
       "      <td>1</td>\n",
       "      <td>а</td>\n",
       "      <td>1985-12-27</td>\n",
       "      <td>Аналитический центр</td>\n",
       "      <td>Постоянно</td>\n",
       "      <td>Главный эксперт</td>\n",
       "      <td>143.01</td>\n",
       "      <td>Аналитический центр/ Аналитический центр</td>\n",
       "      <td>...</td>\n",
       "      <td>NaN</td>\n",
       "      <td>NaN</td>\n",
       "      <td>NaN</td>\n",
       "      <td>NaN</td>\n",
       "      <td>Администрация</td>\n",
       "      <td>специалисты</td>\n",
       "      <td>2017-07-21</td>\n",
       "      <td>2099-01-01</td>\n",
       "      <td>NaN</td>\n",
       "      <td>За высокие результаты работы</td>\n",
       "    </tr>\n",
       "    <tr>\n",
       "      <th>4</th>\n",
       "      <td>2</td>\n",
       "      <td>Группа ГАЗ</td>\n",
       "      <td>1</td>\n",
       "      <td>а</td>\n",
       "      <td>1974-09-25</td>\n",
       "      <td>NaN</td>\n",
       "      <td>NaN</td>\n",
       "      <td>NaN</td>\n",
       "      <td>NaN</td>\n",
       "      <td>NaN</td>\n",
       "      <td>...</td>\n",
       "      <td>п 1ч 1 ст 77 ТК РФ</td>\n",
       "      <td>по соглашению сторон, пункт 1 части первой ста...</td>\n",
       "      <td>по инициативе Работодателя</td>\n",
       "      <td>Текучесть-инициатива_Компании</td>\n",
       "      <td>NaN</td>\n",
       "      <td>NaN</td>\n",
       "      <td>2017-09-05</td>\n",
       "      <td>2099-01-01</td>\n",
       "      <td>NaN</td>\n",
       "      <td>За эффективное выстраивание процессов и выполн...</td>\n",
       "    </tr>\n",
       "  </tbody>\n",
       "</table>\n",
       "<p>5 rows × 22 columns</p>\n",
       "</div>"
      ],
      "text/plain": [
       "   N п/п Предприятие      Таб №                              ФИО  \\\n",
       "0   1723        ТВЭЛ  733338293   Подшивалова Наталья Романовна    \n",
       "1   1724        ТВЭЛ  733335140    Дорохова Каролина Германовна    \n",
       "2   1725        ТВЭЛ  733336916    Афанасьева Алиса Антониновна    \n",
       "3      1  Группа ГАЗ          1                                а   \n",
       "4      2  Группа ГАЗ          1                                а   \n",
       "\n",
       "  Дата рождения                   Подразделение           Статус  \\\n",
       "0    1985-12-14                  Finance and IT  Срочный договор   \n",
       "1    1985-01-18  Hydrocarbon Feedstock Division  Срочный договор   \n",
       "2    1972-10-27         Basic Polymers Division  Срочный договор   \n",
       "3    1985-12-27             Аналитический центр        Постоянно   \n",
       "4    1974-09-25                             NaN              NaN   \n",
       "\n",
       "                                  Должность  Код функции  \\\n",
       "0  Head of Planning and Analysis Department       111.06   \n",
       "1                  Sales Operations Manager       108.05   \n",
       "2                             Sales Manager       108.03   \n",
       "3                           Главный эксперт       143.01   \n",
       "4                                       NaN          NaN   \n",
       "\n",
       "                                Наименование функции  \\\n",
       "0  Планирование, анализ и отчетность  на предприя...   \n",
       "1                                   Поддержка продаж   \n",
       "2                                            Продажи   \n",
       "3           Аналитический центр/ Аналитический центр   \n",
       "4                                                NaN   \n",
       "\n",
       "                         ...                                 Статья КЗОТ  \\\n",
       "0                        ...                                         NaN   \n",
       "1                        ...                                         NaN   \n",
       "2                        ...                                         NaN   \n",
       "3                        ...                                         NaN   \n",
       "4                        ...                          п 1ч 1 ст 77 ТК РФ   \n",
       "\n",
       "                                             причина  \\\n",
       "0                                                NaN   \n",
       "1                                                NaN   \n",
       "2                                                NaN   \n",
       "3                                                NaN   \n",
       "4  по соглашению сторон, пункт 1 части первой ста...   \n",
       "\n",
       "               причина уточн.                         Кратко Название ставки  \\\n",
       "0                         NaN                            NaN   Администрация   \n",
       "1                         NaN                            NaN   Администрация   \n",
       "2                         NaN                            NaN             NaN   \n",
       "3                         NaN                            NaN   Администрация   \n",
       "4  по инициативе Работодателя  Текучесть-инициатива_Компании             NaN   \n",
       "\n",
       "      Категория Поощрение От Поощрение До Уточнение  \\\n",
       "0  руководители   2017-07-21   2099-01-01       NaN   \n",
       "1   специалисты   2017-07-21   2099-01-01       NaN   \n",
       "2   специалисты   2017-07-21   2099-01-01       NaN   \n",
       "3   специалисты   2017-07-21   2099-01-01       NaN   \n",
       "4           NaN   2017-09-05   2099-01-01       NaN   \n",
       "\n",
       "                                           Основание  \n",
       "0                       За высокие результаты работы  \n",
       "1                       За высокие результаты работы  \n",
       "2                       За высокие результаты работы  \n",
       "3                       За высокие результаты работы  \n",
       "4  За эффективное выстраивание процессов и выполн...  \n",
       "\n",
       "[5 rows x 22 columns]"
      ]
     },
     "execution_count": 14,
     "metadata": {},
     "output_type": "execute_result"
    }
   ],
   "source": [
    "benefits.head()"
   ]
  },
  {
   "cell_type": "code",
   "execution_count": 15,
   "metadata": {},
   "outputs": [
    {
     "data": {
      "text/plain": [
       "(1878, 22)"
      ]
     },
     "execution_count": 15,
     "metadata": {},
     "output_type": "execute_result"
    }
   ],
   "source": [
    "benefits.shape"
   ]
  },
  {
   "cell_type": "code",
   "execution_count": 38,
   "metadata": {},
   "outputs": [
    {
     "data": {
      "text/plain": [
       "Index(['N п/п', 'Предприятие', 'Таб №', 'ФИО', 'Дата рождения',\n",
       "       'Подразделение', 'Статус', 'Должность', 'Код функции',\n",
       "       'Наименование функции', 'Дата приема', 'Дата увольнения', 'Статья КЗОТ',\n",
       "       'причина', 'причина уточн.', 'Кратко', 'Название ставки', 'Категория',\n",
       "       'Поощрение От', 'Поощрение До', 'Уточнение', 'Основание'],\n",
       "      dtype='object')"
      ]
     },
     "execution_count": 38,
     "metadata": {},
     "output_type": "execute_result"
    }
   ],
   "source": [
    "benefits.columns"
   ]
  },
  {
   "cell_type": "code",
   "execution_count": 46,
   "metadata": {},
   "outputs": [
    {
     "data": {
      "text/plain": [
       "По инициативе работника, в связи с уходом на пенсию, пункт 3 части первой статьи 77 Трудового кодекса Российской Федерации                                                                                          87\n",
       "по инициативе работника, пункт 3 части первой статьи 77 Трудового кодекса Российской Федерации                                                                                                                      77\n",
       "в связи с переводом работника по его просьбе на работу к другому работодателю, пункт 5 части первой статьи 77 Трудового кодекса Российской Федерации                                                                52\n",
       "по соглашению сторон, пункт 1 части первой статьи 77 Трудового кодекса Российской Федерации                                                                                                                         44\n",
       "в связи с истечением срока трудового договора, пункт 2 части первой статьи 77 Трудового кодекса Российской Федерации                                                                                                18\n",
       "в связи с переводом работника с его согласия на работу к другому работодателю, пункт 5 части первой статьи 77 Трудового кодекса Российской Федерации                                                                15\n",
       "по инициативе работодателя в связи с сокращением численности или штата работников организации, пункт 2 части первой статьи 81 Трудового кодекса Российской Федерации                                                 3\n",
       "по обстоятельствам, не зависящим от воли сторон, в связи со смертью работника, пункт 6 части первой статьи 83 Трудового кодекса Российской Федерации                                                                 2\n",
       "по инициативе работодателя в связи с появлением работника на работе в состоянии алкогольного, наркотического и др.опьянения, подпункт \"б\" пункта 6 части первой статьи 81 Трудового кодекса Российской Федерации     2\n",
       "по обстоятельствам, не зависящим от воли сторон, в связи с призывом работника на военную службу, пункт 1 части первой статьи 83 Трудового кодекса Российской Федерации                                               1\n",
       "В связи с отсутствием у работодателя соответствующей работы, необходимой работнику в соответствии с медицинским заключением, пункт 8 части первой статьи 77 Трудового кодекса Российской Федерации                   1\n",
       "Name: причина, dtype: int64"
      ]
     },
     "execution_count": 46,
     "metadata": {},
     "output_type": "execute_result"
    }
   ],
   "source": [
    "benefits['причина'].value_counts()"
   ]
  },
  {
   "cell_type": "code",
   "execution_count": null,
   "metadata": {},
   "outputs": [],
   "source": []
  },
  {
   "cell_type": "code",
   "execution_count": null,
   "metadata": {},
   "outputs": [],
   "source": []
  },
  {
   "cell_type": "code",
   "execution_count": 16,
   "metadata": {},
   "outputs": [],
   "source": [
    "quotas = pd.read_excel('../data/Распределение квот (2018).xlsx')"
   ]
  },
  {
   "cell_type": "code",
   "execution_count": 17,
   "metadata": {},
   "outputs": [
    {
     "data": {
      "text/html": [
       "<div>\n",
       "<style scoped>\n",
       "    .dataframe tbody tr th:only-of-type {\n",
       "        vertical-align: middle;\n",
       "    }\n",
       "\n",
       "    .dataframe tbody tr th {\n",
       "        vertical-align: top;\n",
       "    }\n",
       "\n",
       "    .dataframe thead th {\n",
       "        text-align: right;\n",
       "    }\n",
       "</style>\n",
       "<table border=\"1\" class=\"dataframe\">\n",
       "  <thead>\n",
       "    <tr style=\"text-align: right;\">\n",
       "      <th></th>\n",
       "      <th>Unnamed: 0</th>\n",
       "      <th>Unnamed: 1</th>\n",
       "      <th>для 1-8 заездов СКЛ/РВЛ</th>\n",
       "      <th>Unnamed: 3</th>\n",
       "      <th>Unnamed: 4</th>\n",
       "      <th>Unnamed: 5</th>\n",
       "      <th>Unnamed: 6</th>\n",
       "      <th>Unnamed: 7</th>\n",
       "      <th>Unnamed: 8</th>\n",
       "      <th>Unnamed: 9</th>\n",
       "      <th>...</th>\n",
       "      <th>Unnamed: 54</th>\n",
       "      <th>Unnamed: 55</th>\n",
       "      <th>Unnamed: 56</th>\n",
       "      <th>Unnamed: 57</th>\n",
       "      <th>Unnamed: 58</th>\n",
       "      <th>Unnamed: 59</th>\n",
       "      <th>Unnamed: 60</th>\n",
       "      <th>Unnamed: 61</th>\n",
       "      <th>Unnamed: 62</th>\n",
       "      <th>Unnamed: 63</th>\n",
       "    </tr>\n",
       "  </thead>\n",
       "  <tbody>\n",
       "    <tr>\n",
       "      <th>0</th>\n",
       "      <td>Предприятия</td>\n",
       "      <td>Численность 2017, чел.</td>\n",
       "      <td>Номера в корпусах, шт.</td>\n",
       "      <td>NaN</td>\n",
       "      <td>NaN</td>\n",
       "      <td>NaN</td>\n",
       "      <td>Общ. кол-во квот Семейный отдых ,          шт</td>\n",
       "      <td>Сотрудник, чел.</td>\n",
       "      <td>Ребенок, чел.</td>\n",
       "      <td>Член семьи, чел.</td>\n",
       "      <td>...</td>\n",
       "      <td>NaN</td>\n",
       "      <td>NaN</td>\n",
       "      <td>8 заезд                                       ...</td>\n",
       "      <td>NaN</td>\n",
       "      <td>NaN</td>\n",
       "      <td>NaN</td>\n",
       "      <td>9 заезд                                       ...</td>\n",
       "      <td>NaN</td>\n",
       "      <td>NaN</td>\n",
       "      <td>NaN</td>\n",
       "    </tr>\n",
       "    <tr>\n",
       "      <th>1</th>\n",
       "      <td>NaN</td>\n",
       "      <td>NaN</td>\n",
       "      <td>1мест</td>\n",
       "      <td>2мест</td>\n",
       "      <td>3мест</td>\n",
       "      <td>4мест</td>\n",
       "      <td>NaN</td>\n",
       "      <td>NaN</td>\n",
       "      <td>NaN</td>\n",
       "      <td>NaN</td>\n",
       "      <td>...</td>\n",
       "      <td>NaN</td>\n",
       "      <td>NaN</td>\n",
       "      <td>NaN</td>\n",
       "      <td>NaN</td>\n",
       "      <td>NaN</td>\n",
       "      <td>NaN</td>\n",
       "      <td>NaN</td>\n",
       "      <td>NaN</td>\n",
       "      <td>NaN</td>\n",
       "      <td>NaN</td>\n",
       "    </tr>\n",
       "    <tr>\n",
       "      <th>2</th>\n",
       "      <td>NaN</td>\n",
       "      <td>NaN</td>\n",
       "      <td>NaN</td>\n",
       "      <td>NaN</td>\n",
       "      <td>NaN</td>\n",
       "      <td>NaN</td>\n",
       "      <td>NaN</td>\n",
       "      <td>NaN</td>\n",
       "      <td>NaN</td>\n",
       "      <td>NaN</td>\n",
       "      <td>...</td>\n",
       "      <td>3мест</td>\n",
       "      <td>4мест</td>\n",
       "      <td>1мест</td>\n",
       "      <td>2мест</td>\n",
       "      <td>3мест</td>\n",
       "      <td>4мест</td>\n",
       "      <td>1мест</td>\n",
       "      <td>2мест</td>\n",
       "      <td>3мест</td>\n",
       "      <td>4мест</td>\n",
       "    </tr>\n",
       "    <tr>\n",
       "      <th>3</th>\n",
       "      <td>Синие горы</td>\n",
       "      <td>3286</td>\n",
       "      <td>28</td>\n",
       "      <td>98</td>\n",
       "      <td>53</td>\n",
       "      <td>16</td>\n",
       "      <td>447</td>\n",
       "      <td>195</td>\n",
       "      <td>140</td>\n",
       "      <td>112</td>\n",
       "      <td>...</td>\n",
       "      <td>7</td>\n",
       "      <td>2</td>\n",
       "      <td>3</td>\n",
       "      <td>12</td>\n",
       "      <td>7</td>\n",
       "      <td>2</td>\n",
       "      <td>2</td>\n",
       "      <td>9</td>\n",
       "      <td>5</td>\n",
       "      <td>2</td>\n",
       "    </tr>\n",
       "    <tr>\n",
       "      <th>4</th>\n",
       "      <td>Мглистые горы</td>\n",
       "      <td>1006</td>\n",
       "      <td>8</td>\n",
       "      <td>20</td>\n",
       "      <td>9</td>\n",
       "      <td>5</td>\n",
       "      <td>95</td>\n",
       "      <td>42</td>\n",
       "      <td>29</td>\n",
       "      <td>24</td>\n",
       "      <td>...</td>\n",
       "      <td>1</td>\n",
       "      <td>1</td>\n",
       "      <td>1</td>\n",
       "      <td>3</td>\n",
       "      <td>1</td>\n",
       "      <td>1</td>\n",
       "      <td>1</td>\n",
       "      <td>3</td>\n",
       "      <td>1</td>\n",
       "      <td>0</td>\n",
       "    </tr>\n",
       "  </tbody>\n",
       "</table>\n",
       "<p>5 rows × 64 columns</p>\n",
       "</div>"
      ],
      "text/plain": [
       "      Unnamed: 0              Unnamed: 1  для 1-8 заездов СКЛ/РВЛ Unnamed: 3  \\\n",
       "0    Предприятия  Численность 2017, чел.  Номера в корпусах, шт.         NaN   \n",
       "1            NaN                     NaN                    1мест      2мест   \n",
       "2            NaN                     NaN                      NaN        NaN   \n",
       "3     Синие горы                    3286                       28         98   \n",
       "4  Мглистые горы                    1006                        8         20   \n",
       "\n",
       "  Unnamed: 4 Unnamed: 5                                     Unnamed: 6  \\\n",
       "0        NaN        NaN  Общ. кол-во квот Семейный отдых ,          шт   \n",
       "1      3мест      4мест                                            NaN   \n",
       "2        NaN        NaN                                            NaN   \n",
       "3         53         16                                            447   \n",
       "4          9          5                                             95   \n",
       "\n",
       "         Unnamed: 7      Unnamed: 8         Unnamed: 9     ...       \\\n",
       "0  Сотрудник, чел.   Ребенок, чел.   Член семьи, чел.      ...        \n",
       "1               NaN             NaN                NaN     ...        \n",
       "2               NaN             NaN                NaN     ...        \n",
       "3               195             140                112     ...        \n",
       "4                42              29                 24     ...        \n",
       "\n",
       "  Unnamed: 54 Unnamed: 55                                        Unnamed: 56  \\\n",
       "0         NaN         NaN  8 заезд                                       ...   \n",
       "1         NaN         NaN                                                NaN   \n",
       "2       3мест       4мест                                              1мест   \n",
       "3           7           2                                                  3   \n",
       "4           1           1                                                  1   \n",
       "\n",
       "  Unnamed: 57 Unnamed: 58 Unnamed: 59  \\\n",
       "0         NaN         NaN         NaN   \n",
       "1         NaN         NaN         NaN   \n",
       "2       2мест       3мест       4мест   \n",
       "3          12           7           2   \n",
       "4           3           1           1   \n",
       "\n",
       "                                         Unnamed: 60 Unnamed: 61 Unnamed: 62  \\\n",
       "0  9 заезд                                       ...         NaN         NaN   \n",
       "1                                                NaN         NaN         NaN   \n",
       "2                                              1мест       2мест       3мест   \n",
       "3                                                  2           9           5   \n",
       "4                                                  1           3           1   \n",
       "\n",
       "   Unnamed: 63  \n",
       "0          NaN  \n",
       "1          NaN  \n",
       "2        4мест  \n",
       "3            2  \n",
       "4            0  \n",
       "\n",
       "[5 rows x 64 columns]"
      ]
     },
     "execution_count": 17,
     "metadata": {},
     "output_type": "execute_result"
    }
   ],
   "source": [
    "quotas.head()"
   ]
  },
  {
   "cell_type": "code",
   "execution_count": 18,
   "metadata": {},
   "outputs": [
    {
     "data": {
      "text/plain": [
       "(11, 64)"
      ]
     },
     "execution_count": 18,
     "metadata": {},
     "output_type": "execute_result"
    }
   ],
   "source": [
    "quotas.shape"
   ]
  },
  {
   "cell_type": "code",
   "execution_count": 19,
   "metadata": {},
   "outputs": [],
   "source": [
    "skl_dol = pd.read_excel('../data/Реестр СКЛ_ДОЛ.xlsx')"
   ]
  },
  {
   "cell_type": "code",
   "execution_count": 20,
   "metadata": {
    "scrolled": false
   },
   "outputs": [
    {
     "data": {
      "text/html": [
       "<div>\n",
       "<style scoped>\n",
       "    .dataframe tbody tr th:only-of-type {\n",
       "        vertical-align: middle;\n",
       "    }\n",
       "\n",
       "    .dataframe tbody tr th {\n",
       "        vertical-align: top;\n",
       "    }\n",
       "\n",
       "    .dataframe thead th {\n",
       "        text-align: right;\n",
       "    }\n",
       "</style>\n",
       "<table border=\"1\" class=\"dataframe\">\n",
       "  <thead>\n",
       "    <tr style=\"text-align: right;\">\n",
       "      <th></th>\n",
       "      <th>№ п/п</th>\n",
       "      <th>Вид путевки</th>\n",
       "      <th>Предприятие</th>\n",
       "      <th>Таб. номер (заявителя)</th>\n",
       "      <th>ФИО сотрудника (заявителя)</th>\n",
       "      <th>Должность</th>\n",
       "      <th>Подразделение</th>\n",
       "      <th>Город вылета/возвращения</th>\n",
       "      <th>Дисциплинарные взыскания</th>\n",
       "      <th>ФИО гостя</th>\n",
       "      <th>Пол  (м, ж)</th>\n",
       "      <th>Дата рождения</th>\n",
       "      <th>Дата заезда</th>\n",
       "      <th>Дата выезда</th>\n",
       "      <th>№ заявки</th>\n",
       "      <th>Дата подачи</th>\n",
       "    </tr>\n",
       "  </thead>\n",
       "  <tbody>\n",
       "    <tr>\n",
       "      <th>0</th>\n",
       "      <td>1</td>\n",
       "      <td>ДОЛ</td>\n",
       "      <td>Синие горы</td>\n",
       "      <td>3.335899e+08</td>\n",
       "      <td>Сюсин Макар Сократович</td>\n",
       "      <td>Ведущий инженер</td>\n",
       "      <td>Участок по эксплуатации водоподготовительной у...</td>\n",
       "      <td>Тобольск</td>\n",
       "      <td>1</td>\n",
       "      <td>NaN</td>\n",
       "      <td>NaN</td>\n",
       "      <td>NaN</td>\n",
       "      <td>24.06.2019</td>\n",
       "      <td>14.07.2019</td>\n",
       "      <td>174932.0</td>\n",
       "      <td>2018-12-10</td>\n",
       "    </tr>\n",
       "    <tr>\n",
       "      <th>1</th>\n",
       "      <td>2</td>\n",
       "      <td>ДОЛ</td>\n",
       "      <td>Гундабад</td>\n",
       "      <td>1.050101e+09</td>\n",
       "      <td>Задкова Яна Данииловна</td>\n",
       "      <td>Ведущий инженер-проектировщик</td>\n",
       "      <td>Отдел строительного проектирования</td>\n",
       "      <td>Тюмень</td>\n",
       "      <td>0</td>\n",
       "      <td>Задкова Никита Эдуардович</td>\n",
       "      <td>М</td>\n",
       "      <td>2006-12-14 00:00:00</td>\n",
       "      <td>01.06.2019</td>\n",
       "      <td>21.06.2019</td>\n",
       "      <td>175272.0</td>\n",
       "      <td>2018-12-10</td>\n",
       "    </tr>\n",
       "    <tr>\n",
       "      <th>2</th>\n",
       "      <td>3</td>\n",
       "      <td>ДОЛ</td>\n",
       "      <td>Лесные эдьфы</td>\n",
       "      <td>4.000460e+08</td>\n",
       "      <td>Максимушкина Аза Филипповна</td>\n",
       "      <td>Начальник производства</td>\n",
       "      <td>Руководители</td>\n",
       "      <td>Красноярск</td>\n",
       "      <td>0</td>\n",
       "      <td>Максимушкина Владимир Денисович</td>\n",
       "      <td>М</td>\n",
       "      <td>2006-04-05 00:00:00</td>\n",
       "      <td>17.07.2019</td>\n",
       "      <td>06.08.2019</td>\n",
       "      <td>175352.0</td>\n",
       "      <td>2018-12-10</td>\n",
       "    </tr>\n",
       "    <tr>\n",
       "      <th>3</th>\n",
       "      <td>4</td>\n",
       "      <td>ДОЛ</td>\n",
       "      <td>Лесные эдьфы</td>\n",
       "      <td>4.000460e+08</td>\n",
       "      <td>Максимушкина Аза Филипповна</td>\n",
       "      <td>NaN</td>\n",
       "      <td>NaN</td>\n",
       "      <td>NaN</td>\n",
       "      <td>0</td>\n",
       "      <td>Максимушкина Дмитрий Денисович</td>\n",
       "      <td>М</td>\n",
       "      <td>2007-12-08 00:00:00</td>\n",
       "      <td>17.07.2019</td>\n",
       "      <td>06.08.2019</td>\n",
       "      <td>175352.0</td>\n",
       "      <td>2018-12-10</td>\n",
       "    </tr>\n",
       "    <tr>\n",
       "      <th>4</th>\n",
       "      <td>5</td>\n",
       "      <td>ДОЛ</td>\n",
       "      <td>Одинокая гора</td>\n",
       "      <td>3.002830e+08</td>\n",
       "      <td>Погодин Парфен Проклович</td>\n",
       "      <td>Ведущий инженер</td>\n",
       "      <td>Отдел капитального строительства и ремонтов зд...</td>\n",
       "      <td>Нижний Новгород</td>\n",
       "      <td>0</td>\n",
       "      <td>Погодин Юлия Александровна</td>\n",
       "      <td>Ж</td>\n",
       "      <td>2004-11-17 00:00:00</td>\n",
       "      <td>17.07.2019</td>\n",
       "      <td>06.08.2019</td>\n",
       "      <td>175647.0</td>\n",
       "      <td>2018-12-11</td>\n",
       "    </tr>\n",
       "  </tbody>\n",
       "</table>\n",
       "</div>"
      ],
      "text/plain": [
       "   № п/п Вид путевки    Предприятие  Таб. номер (заявителя)  \\\n",
       "0      1         ДОЛ     Синие горы            3.335899e+08   \n",
       "1      2         ДОЛ       Гундабад            1.050101e+09   \n",
       "2      3         ДОЛ   Лесные эдьфы            4.000460e+08   \n",
       "3      4         ДОЛ   Лесные эдьфы            4.000460e+08   \n",
       "4      5         ДОЛ  Одинокая гора            3.002830e+08   \n",
       "\n",
       "      ФИО сотрудника (заявителя)                      Должность  \\\n",
       "0        Сюсин Макар Сократович                 Ведущий инженер   \n",
       "1        Задкова Яна Данииловна   Ведущий инженер-проектировщик   \n",
       "2   Максимушкина Аза Филипповна          Начальник производства   \n",
       "3   Максимушкина Аза Филипповна                             NaN   \n",
       "4      Погодин Парфен Проклович                 Ведущий инженер   \n",
       "\n",
       "                                       Подразделение Город вылета/возвращения  \\\n",
       "0  Участок по эксплуатации водоподготовительной у...                 Тобольск   \n",
       "1                 Отдел строительного проектирования                   Тюмень   \n",
       "2                                       Руководители               Красноярск   \n",
       "3                                                NaN                      NaN   \n",
       "4  Отдел капитального строительства и ремонтов зд...          Нижний Новгород   \n",
       "\n",
       "   Дисциплинарные взыскания                        ФИО гостя Пол  (м, ж)  \\\n",
       "0                         1                              NaN         NaN   \n",
       "1                         0        Задкова Никита Эдуардович           М   \n",
       "2                         0  Максимушкина Владимир Денисович           М   \n",
       "3                         0   Максимушкина Дмитрий Денисович           М   \n",
       "4                         0       Погодин Юлия Александровна           Ж   \n",
       "\n",
       "         Дата рождения Дата заезда  Дата выезда  № заявки Дата подачи  \n",
       "0                  NaN  24.06.2019   14.07.2019  174932.0  2018-12-10  \n",
       "1  2006-12-14 00:00:00  01.06.2019   21.06.2019  175272.0  2018-12-10  \n",
       "2  2006-04-05 00:00:00  17.07.2019   06.08.2019  175352.0  2018-12-10  \n",
       "3  2007-12-08 00:00:00  17.07.2019   06.08.2019  175352.0  2018-12-10  \n",
       "4  2004-11-17 00:00:00  17.07.2019   06.08.2019  175647.0  2018-12-11  "
      ]
     },
     "execution_count": 20,
     "metadata": {},
     "output_type": "execute_result"
    }
   ],
   "source": [
    "skl_dol.head()"
   ]
  },
  {
   "cell_type": "code",
   "execution_count": 56,
   "metadata": {},
   "outputs": [
    {
     "data": {
      "text/plain": [
       "2019-09-07 00:00:00    2963\n",
       "2019-05-05 00:00:00    1847\n",
       "2019-08-01 00:00:00    1587\n",
       "2019-08-16 00:00:00    1037\n",
       "2019-07-17 00:00:00     999\n",
       "2019-07-02 00:00:00     968\n",
       "2019-06-16 00:00:00     912\n",
       "2019-06-01 00:00:00     897\n",
       "24.06.2019              893\n",
       "2019-09-22 00:00:00     823\n",
       "17.07.2019              818\n",
       "2019-10-07 00:00:00     809\n",
       "2019-04-20 00:00:00     760\n",
       "2019-03-21 00:00:00     607\n",
       "2019-04-05 00:00:00     554\n",
       "01.06.2019              471\n",
       "2019-10-22 00:00:00     409\n",
       "09.08.2019              398\n",
       "2019-11-06 00:00:00     194\n",
       "2018-11-07 00:00:00       5\n",
       "2019-08-09 00:00:00       2\n",
       "Name: Дата заезда, dtype: int64"
      ]
     },
     "execution_count": 56,
     "metadata": {},
     "output_type": "execute_result"
    }
   ],
   "source": [
    "skl_dol['Дата заезда'].value_counts()"
   ]
  },
  {
   "cell_type": "code",
   "execution_count": 28,
   "metadata": {},
   "outputs": [
    {
     "data": {
      "text/plain": [
       "array(['За участие в конкурсе профмастерства на уровне Холдинга:\\nучастника номинации «Сварочные технологии», занявшего 3-е – Бурнашева Д.А. \\nСотрудник стал призером конкурса Worldskills.',\n",
       "       'протокол заседания комиссии для проведения конкурса профмастерства среди водителей и машинистов спецтехники от 21.10.2017 01/29/ЗСТГ',\n",
       "       'протокол заседания комиссии для проведения конкурса профмастерства среди водителей и машинистов спецтехники от 21.10.2017 01/29/ЗСТГ',\n",
       "       'протокол заседания комиссии для проведения конкурса профмастерства среди водителей и машинистов спецтехники от 21.10.2017 01/29/ЗСТГ',\n",
       "       'протокол заседания комиссии для проведения конкурса профмастерства среди водителей и машинистов спецтехники от 21.10.2017 01/29/ЗСТГ',\n",
       "       'протокол заседания комиссии для проведения конкурса профмастерства среди водителей и машинистов спецтехники от 21.10.2017 01/29/ЗСТГ',\n",
       "       'протокол заседания комиссии для проведения конкурса профмастерства среди водителей и машинистов спецтехники от 21.10.2017 01/29/ЗСТГ',\n",
       "       'протокол заседания комиссии для проведения конкурса профмастерства среди водителей и машинистов спецтехники от 21.10.2017 01/29/ЗСТГ',\n",
       "       'протокол заседания комиссии для проведения конкурса профмастерства среди водителей и машинистов спецтехники от 21.10.2017 01/29/ЗСТГ',\n",
       "       'протокол заседания комиссии для проведения конкурса профмастерства среди водителей и машинистов спецтехники от 21.10.2017 01/29/ЗСТГ',\n",
       "       'протокол подведения итогов 1 этапа конкурса профмастерства Лучший трубопроводчик линейный\"',\n",
       "       'протокол подведения итогов 1 этапа конкурса профмастерства Лучший трубопроводчик линейный\"',\n",
       "       'протокол подведения итогов 1 этапа конкурса профмастерства Лучший трубопроводчик линейный\"',\n",
       "       'протоколы работы Комиссии II этапа конкурса проф.мастерства на звание «Лучший по профессии» по всем номинациям ',\n",
       "       'протоколы работы Комиссии II этапа конкурса проф.мастерства на звание «Лучший по профессии» по всем номинациям ',\n",
       "       'протоколы работы Комиссии II этапа конкурса проф.мастерства на звание «Лучший по профессии» по всем номинациям ',\n",
       "       'протоколы работы Комиссии II этапа конкурса проф.мастерства на звание «Лучший по профессии» по всем номинациям ',\n",
       "       'протоколы работы Комиссии II этапа конкурса проф.мастерства на звание «Лучший по профессии» по всем номинациям ',\n",
       "       'протоколы работы Комиссии I этапа конкурса проф.мастерства на звание «Лучший по профессии» ',\n",
       "       'протоколы работы Комиссии I этапа конкурса проф.мастерства на звание «Лучший по профессии» ',\n",
       "       'протоколы работы Комиссии I этапа конкурса проф.мастерства на звание «Лучший по профессии» ',\n",
       "       'протоколы работы Комиссии I этапа конкурса проф.мастерства на звание «Лучший по профессии» ',\n",
       "       'протоколы работы Комиссии I этапа конкурса проф.мастерства на звание «Лучший по профессии» ',\n",
       "       'протоколы работы Комиссии I этапа конкурса проф.мастерства на звание «Лучший по профессии» ',\n",
       "       'протоколы работы Комиссии I этапа конкурса проф.мастерства на звание «Лучший по профессии» ',\n",
       "       'протоколы работы Комиссии I этапа конкурса проф.мастерства на звание «Лучший по профессии» ',\n",
       "       'протоколы работы Комиссии I этапа конкурса проф.мастерства на звание «Лучший по профессии» ',\n",
       "       'протоколы работы Комиссии I этапа конкурса проф.мастерства на звание «Лучший по профессии» ',\n",
       "       'протоколы работы Комиссии I этапа конкурса проф.мастерства на звание «Лучший по профессии» ',\n",
       "       'протоколы работы Комиссии I этапа конкурса проф.мастерства на звание «Лучший по профессии» ',\n",
       "       'протоколы работы Комиссии I этапа конкурса проф.мастерства на звание «Лучший по профессии» ',\n",
       "       'протоколы работы Комиссии I этапа конкурса проф.мастерства на звание «Лучший по профессии» ',\n",
       "       'призер чемпионата Worldskills Hi-Tech 2018',\n",
       "       'протокол заседания комиссии для проведения конкурса профмастерства среди водителей и машинистов спецтехники от 26.10.2018 01/29/ЗСТГ',\n",
       "       'протокол заседания комиссии для проведения конкурса профмастерства среди водителей и машинистов спецтехники от 26.10.2018 01/29/ЗСТГ',\n",
       "       'протокол заседания комиссии для проведения конкурса профмастерства среди водителей и машинистов спецтехники от 26.10.2018 01/29/ЗСТГ',\n",
       "       'протокол заседания комиссии для проведения конкурса профмастерства среди водителей и машинистов спецтехники от 26.10.2018 01/29/ЗСТГ',\n",
       "       'протокол заседания комиссии для проведения конкурса профмастерства среди водителей и машинистов спецтехники от 26.10.2018 01/29/ЗСТГ',\n",
       "       'протокол заседания комиссии для проведения конкурса профмастерства среди водителей и машинистов спецтехники от 26.10.2018 01/29/ЗСТГ',\n",
       "       'протокол заседания комиссии для проведения конкурса профмастерства среди водителей и машинистов спецтехники от 26.10.2018 01/29/ЗСТГ',\n",
       "       'протокол заседания комиссии для проведения конкурса профмастерства среди водителей и машинистов спецтехники от 26.10.2018 01/29/ЗСТГ',\n",
       "       'протокол заседания комиссии для проведения конкурса профмастерства среди водителей и машинистов спецтехники от 26.10.2018 01/29/ЗСТГ',\n",
       "       'протокол заседания комиссии для проведения конкурса профмастерства среди водителей и машинистов спецтехники от 26.10.2018 01/29/ЗСТГ',\n",
       "       'ЗСТГ_1 этап КПМ 2018', 'ЗСТГ_1 этап КПМ 2018',\n",
       "       'ЗСТГ_1 этап КПМ 2018', 'ЗСТГ_1 этап КПМ 2018',\n",
       "       'ЗСТГ_1 этап КПМ 2018', 'ЗСТГ_1 этап КПМ 2018',\n",
       "       'ЗСТГ_1 этап КПМ 2018', 'ЗСТГ_1 этап КПМ 2018',\n",
       "       'ЗСТГ_1 этап КПМ 2018', 'ЗСТГ_1 этап КПМ 2018',\n",
       "       'ЗСТГ_1 этап КПМ 2018', 'ЗСТГ_1 этап КПМ 2018',\n",
       "       'ЗСТГ_1 этап КПМ 2018', 'ЗСТГ_1 этап КПМ 2018',\n",
       "       'протоколы работы Комиссии II этапа конкурса проф.мастерства на звание «Лучший по профессии» по всем номинациям ',\n",
       "       'протоколы работы Комиссии II этапа конкурса проф.мастерства на звание «Лучший по профессии» по всем номинациям ',\n",
       "       'протоколы работы Комиссии II этапа конкурса проф.мастерства на звание «Лучший по профессии» по всем номинациям '],\n",
       "      dtype=object)"
      ]
     },
     "execution_count": 28,
     "metadata": {},
     "output_type": "execute_result"
    }
   ],
   "source": [
    "best_workers['Доп информация (основание)'].values"
   ]
  },
  {
   "cell_type": "code",
   "execution_count": 21,
   "metadata": {},
   "outputs": [
    {
     "data": {
      "text/plain": [
       "(18168, 16)"
      ]
     },
     "execution_count": 21,
     "metadata": {},
     "output_type": "execute_result"
    }
   ],
   "source": [
    "skl_dol.shape"
   ]
  },
  {
   "cell_type": "code",
   "execution_count": 47,
   "metadata": {},
   "outputs": [
    {
     "data": {
      "text/plain": [
       "(658,)"
      ]
     },
     "execution_count": 47,
     "metadata": {},
     "output_type": "execute_result"
    }
   ],
   "source": [
    "skl_dol['Должность'].unique().shape"
   ]
  },
  {
   "cell_type": "code",
   "execution_count": 22,
   "metadata": {},
   "outputs": [],
   "source": [
    "exp_years = pd.read_excel('../data/Стажи и одинокие родители.xlsx')"
   ]
  },
  {
   "cell_type": "code",
   "execution_count": 23,
   "metadata": {},
   "outputs": [
    {
     "data": {
      "text/html": [
       "<div>\n",
       "<style scoped>\n",
       "    .dataframe tbody tr th:only-of-type {\n",
       "        vertical-align: middle;\n",
       "    }\n",
       "\n",
       "    .dataframe tbody tr th {\n",
       "        vertical-align: top;\n",
       "    }\n",
       "\n",
       "    .dataframe thead th {\n",
       "        text-align: right;\n",
       "    }\n",
       "</style>\n",
       "<table border=\"1\" class=\"dataframe\">\n",
       "  <thead>\n",
       "    <tr style=\"text-align: right;\">\n",
       "      <th></th>\n",
       "      <th>Предприятие</th>\n",
       "      <th>Табельный  №</th>\n",
       "      <th>ФИО</th>\n",
       "      <th>Дата рождения</th>\n",
       "      <th>Семейное положение</th>\n",
       "      <th>Стаж работы в СИБУР</th>\n",
       "    </tr>\n",
       "  </thead>\n",
       "  <tbody>\n",
       "    <tr>\n",
       "      <th>0</th>\n",
       "      <td>Озерный город</td>\n",
       "      <td>433602817.0</td>\n",
       "      <td>Саламатова Алла Иосифовна</td>\n",
       "      <td>1971-08-19 00:00:00</td>\n",
       "      <td>Состоит в зарегистрированном браке</td>\n",
       "      <td>лет: 18 мес: 5 дн:28</td>\n",
       "    </tr>\n",
       "    <tr>\n",
       "      <th>1</th>\n",
       "      <td>Озерный город</td>\n",
       "      <td>433350763.0</td>\n",
       "      <td>Немов Игорь Ипатиевич</td>\n",
       "      <td>1957-01-30 00:00:00</td>\n",
       "      <td>Состоит в зарегистрированном браке</td>\n",
       "      <td>лет: 14 мес:11 дн: 0</td>\n",
       "    </tr>\n",
       "    <tr>\n",
       "      <th>2</th>\n",
       "      <td>Озерный город</td>\n",
       "      <td>433579962.0</td>\n",
       "      <td>Воропаев Никон Демьянович</td>\n",
       "      <td>1984-10-25 00:00:00</td>\n",
       "      <td>Состоит в зарегистрированном браке</td>\n",
       "      <td>лет:  7 мес:10 дн: 1</td>\n",
       "    </tr>\n",
       "    <tr>\n",
       "      <th>3</th>\n",
       "      <td>Озерный город</td>\n",
       "      <td>NaN</td>\n",
       "      <td>Вакансия</td>\n",
       "      <td>NaN</td>\n",
       "      <td>NaN</td>\n",
       "      <td>лет:  0 мес: 0 дн: 0</td>\n",
       "    </tr>\n",
       "    <tr>\n",
       "      <th>4</th>\n",
       "      <td>Озерный город</td>\n",
       "      <td>433602516.0</td>\n",
       "      <td>Шуличенко Каролина Анатолиевна</td>\n",
       "      <td>1970-06-12 00:00:00</td>\n",
       "      <td>Состоит в зарегистрированном браке</td>\n",
       "      <td>лет:  0 мес: 1 дн:21</td>\n",
       "    </tr>\n",
       "  </tbody>\n",
       "</table>\n",
       "</div>"
      ],
      "text/plain": [
       "     Предприятие  Табельный  №                               ФИО  \\\n",
       "0  Озерный город   433602817.0        Саламатова Алла Иосифовна    \n",
       "1  Озерный город   433350763.0            Немов Игорь Ипатиевич    \n",
       "2  Озерный город   433579962.0        Воропаев Никон Демьянович    \n",
       "3  Озерный город           NaN                          Вакансия   \n",
       "4  Озерный город   433602516.0   Шуличенко Каролина Анатолиевна    \n",
       "\n",
       "         Дата рождения                  Семейное положение  \\\n",
       "0  1971-08-19 00:00:00  Состоит в зарегистрированном браке   \n",
       "1  1957-01-30 00:00:00  Состоит в зарегистрированном браке   \n",
       "2  1984-10-25 00:00:00  Состоит в зарегистрированном браке   \n",
       "3                  NaN                                 NaN   \n",
       "4  1970-06-12 00:00:00  Состоит в зарегистрированном браке   \n",
       "\n",
       "    Стаж работы в СИБУР  \n",
       "0  лет: 18 мес: 5 дн:28  \n",
       "1  лет: 14 мес:11 дн: 0  \n",
       "2  лет:  7 мес:10 дн: 1  \n",
       "3  лет:  0 мес: 0 дн: 0  \n",
       "4  лет:  0 мес: 1 дн:21  "
      ]
     },
     "execution_count": 23,
     "metadata": {},
     "output_type": "execute_result"
    }
   ],
   "source": [
    "exp_years.head()"
   ]
  },
  {
   "cell_type": "code",
   "execution_count": 52,
   "metadata": {},
   "outputs": [
    {
     "data": {
      "text/plain": [
       "(26754,)"
      ]
     },
     "execution_count": 52,
     "metadata": {},
     "output_type": "execute_result"
    }
   ],
   "source": [
    "exp_years['Табельный  №'].unique().shape"
   ]
  },
  {
   "cell_type": "code",
   "execution_count": null,
   "metadata": {},
   "outputs": [],
   "source": []
  }
 ],
 "metadata": {
  "kernelspec": {
   "display_name": "Python 3",
   "language": "python",
   "name": "python3"
  },
  "language_info": {
   "codemirror_mode": {
    "name": "ipython",
    "version": 3
   },
   "file_extension": ".py",
   "mimetype": "text/x-python",
   "name": "python",
   "nbconvert_exporter": "python",
   "pygments_lexer": "ipython3",
   "version": "3.6.4"
  }
 },
 "nbformat": 4,
 "nbformat_minor": 2
}
