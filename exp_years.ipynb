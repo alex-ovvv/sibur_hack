{
 "cells": [
  {
   "cell_type": "code",
   "execution_count": 1,
   "metadata": {},
   "outputs": [],
   "source": [
    "import pandas as pd\n",
    "import numpy as np"
   ]
  },
  {
   "cell_type": "code",
   "execution_count": 2,
   "metadata": {},
   "outputs": [],
   "source": [
    "exp_years = pd.read_excel('../data/Стажи и одинокие родители.xlsx')"
   ]
  },
  {
   "cell_type": "code",
   "execution_count": 3,
   "metadata": {},
   "outputs": [
    {
     "data": {
      "text/html": [
       "<div>\n",
       "<style scoped>\n",
       "    .dataframe tbody tr th:only-of-type {\n",
       "        vertical-align: middle;\n",
       "    }\n",
       "\n",
       "    .dataframe tbody tr th {\n",
       "        vertical-align: top;\n",
       "    }\n",
       "\n",
       "    .dataframe thead th {\n",
       "        text-align: right;\n",
       "    }\n",
       "</style>\n",
       "<table border=\"1\" class=\"dataframe\">\n",
       "  <thead>\n",
       "    <tr style=\"text-align: right;\">\n",
       "      <th></th>\n",
       "      <th>Предприятие</th>\n",
       "      <th>Табельный  №</th>\n",
       "      <th>ФИО</th>\n",
       "      <th>Дата рождения</th>\n",
       "      <th>Семейное положение</th>\n",
       "      <th>Стаж работы в СИБУР</th>\n",
       "    </tr>\n",
       "  </thead>\n",
       "  <tbody>\n",
       "    <tr>\n",
       "      <th>0</th>\n",
       "      <td>Озерный город</td>\n",
       "      <td>433602817.0</td>\n",
       "      <td>Саламатова Алла Иосифовна</td>\n",
       "      <td>1971-08-19 00:00:00</td>\n",
       "      <td>Состоит в зарегистрированном браке</td>\n",
       "      <td>лет: 18 мес: 5 дн:28</td>\n",
       "    </tr>\n",
       "    <tr>\n",
       "      <th>1</th>\n",
       "      <td>Озерный город</td>\n",
       "      <td>433350763.0</td>\n",
       "      <td>Немов Игорь Ипатиевич</td>\n",
       "      <td>1957-01-30 00:00:00</td>\n",
       "      <td>Состоит в зарегистрированном браке</td>\n",
       "      <td>лет: 14 мес:11 дн: 0</td>\n",
       "    </tr>\n",
       "    <tr>\n",
       "      <th>2</th>\n",
       "      <td>Озерный город</td>\n",
       "      <td>433579962.0</td>\n",
       "      <td>Воропаев Никон Демьянович</td>\n",
       "      <td>1984-10-25 00:00:00</td>\n",
       "      <td>Состоит в зарегистрированном браке</td>\n",
       "      <td>лет:  7 мес:10 дн: 1</td>\n",
       "    </tr>\n",
       "    <tr>\n",
       "      <th>3</th>\n",
       "      <td>Озерный город</td>\n",
       "      <td>NaN</td>\n",
       "      <td>Вакансия</td>\n",
       "      <td>NaN</td>\n",
       "      <td>NaN</td>\n",
       "      <td>лет:  0 мес: 0 дн: 0</td>\n",
       "    </tr>\n",
       "    <tr>\n",
       "      <th>4</th>\n",
       "      <td>Озерный город</td>\n",
       "      <td>433602516.0</td>\n",
       "      <td>Шуличенко Каролина Анатолиевна</td>\n",
       "      <td>1970-06-12 00:00:00</td>\n",
       "      <td>Состоит в зарегистрированном браке</td>\n",
       "      <td>лет:  0 мес: 1 дн:21</td>\n",
       "    </tr>\n",
       "  </tbody>\n",
       "</table>\n",
       "</div>"
      ],
      "text/plain": [
       "     Предприятие  Табельный  №                               ФИО  \\\n",
       "0  Озерный город   433602817.0        Саламатова Алла Иосифовна    \n",
       "1  Озерный город   433350763.0            Немов Игорь Ипатиевич    \n",
       "2  Озерный город   433579962.0        Воропаев Никон Демьянович    \n",
       "3  Озерный город           NaN                          Вакансия   \n",
       "4  Озерный город   433602516.0   Шуличенко Каролина Анатолиевна    \n",
       "\n",
       "         Дата рождения                  Семейное положение  \\\n",
       "0  1971-08-19 00:00:00  Состоит в зарегистрированном браке   \n",
       "1  1957-01-30 00:00:00  Состоит в зарегистрированном браке   \n",
       "2  1984-10-25 00:00:00  Состоит в зарегистрированном браке   \n",
       "3                  NaN                                 NaN   \n",
       "4  1970-06-12 00:00:00  Состоит в зарегистрированном браке   \n",
       "\n",
       "    Стаж работы в СИБУР  \n",
       "0  лет: 18 мес: 5 дн:28  \n",
       "1  лет: 14 мес:11 дн: 0  \n",
       "2  лет:  7 мес:10 дн: 1  \n",
       "3  лет:  0 мес: 0 дн: 0  \n",
       "4  лет:  0 мес: 1 дн:21  "
      ]
     },
     "execution_count": 3,
     "metadata": {},
     "output_type": "execute_result"
    }
   ],
   "source": [
    "exp_years.head()"
   ]
  },
  {
   "cell_type": "code",
   "execution_count": 8,
   "metadata": {},
   "outputs": [
    {
     "data": {
      "text/plain": [
       "array(['Озерный город', 'Империя сов Илопса', 'Изенгард', 'Ривенделл',\n",
       "       'Флориш и Блоттс', 'Лориэн', 'Лихолесье', 'Лесные эдьфы',\n",
       "       'Одинокая гора', 'Мория', 'Хельмова Падь', 'Рохан',\n",
       "       'Площадь Гриммо', 'Мглистые горы', 'Кашкай', 'Гундабад',\n",
       "       'Гринготтс', 'Вайс-Сити', 'Сайлент Хилл', 'Сен-Мартен', 'Татуин',\n",
       "       'Суллуст ', 'Данстар', 'Минас-Тирит', 'Сингапур', 'Дальние врата',\n",
       "       'Квохор', 'Фангорн', 'Бухта Погибших кораблей', 'Шир', 'Альдераан',\n",
       "       'Вьюн', 'Дантуин', 'Набу', 'О́птимус Пра́йм', 'Ба́мблби',\n",
       "       'Хоббитон', 'Синие горы'], dtype=object)"
      ]
     },
     "execution_count": 8,
     "metadata": {},
     "output_type": "execute_result"
    }
   ],
   "source": [
    "exp_years['Предприятие'].unique()"
   ]
  },
  {
   "cell_type": "code",
   "execution_count": 7,
   "metadata": {},
   "outputs": [
    {
     "data": {
      "text/plain": [
       "array(['Состоит в зарегистрированном браке', nan,\n",
       "       'Никогда не состоял (не состояла) в браке', 'Разведен (разведена)',\n",
       "       'Вдовец (вдова)', 'одинокая мать',\n",
       "       'Состоит в незарегистрированном браке',\n",
       "       'состоит в зарегистрированном браке', 'вдовец (вдова)',\n",
       "       'разведен (разведена)', 'никогда не состоял (не состояла) в браке'],\n",
       "      dtype=object)"
      ]
     },
     "execution_count": 7,
     "metadata": {},
     "output_type": "execute_result"
    }
   ],
   "source": [
    "exp_years['Семейное положение'].unique()"
   ]
  },
  {
   "cell_type": "code",
   "execution_count": 43,
   "metadata": {},
   "outputs": [],
   "source": [
    "def change_exp_years(a):\n",
    "    a = str(a).replace(':', ': ').split(' ')\n",
    "    a = list(filter(lambda x: x != '', a))\n",
    "    \n",
    "    try:\n",
    "        return (int(a[1]) + (int(a[3]) / 12) + (int(a[5]) / 365))\n",
    "    except:\n",
    "        return -1"
   ]
  },
  {
   "cell_type": "code",
   "execution_count": 44,
   "metadata": {},
   "outputs": [],
   "source": [
    "exp_years['sibur_exp_years'] = np.array([change_exp_years(v) for v in exp_years['Стаж работы в СИБУР']])"
   ]
  },
  {
   "cell_type": "code",
   "execution_count": 49,
   "metadata": {},
   "outputs": [],
   "source": [
    "exp_years[exp_years['sibur_exp_years'] == -1] = exp_years[exp_years['sibur_exp_years'] != -1]['sibur_exp_years'].median()"
   ]
  },
  {
   "cell_type": "code",
   "execution_count": 52,
   "metadata": {},
   "outputs": [
    {
     "data": {
      "text/html": [
       "<div>\n",
       "<style scoped>\n",
       "    .dataframe tbody tr th:only-of-type {\n",
       "        vertical-align: middle;\n",
       "    }\n",
       "\n",
       "    .dataframe tbody tr th {\n",
       "        vertical-align: top;\n",
       "    }\n",
       "\n",
       "    .dataframe thead th {\n",
       "        text-align: right;\n",
       "    }\n",
       "</style>\n",
       "<table border=\"1\" class=\"dataframe\">\n",
       "  <thead>\n",
       "    <tr style=\"text-align: right;\">\n",
       "      <th></th>\n",
       "      <th>Предприятие</th>\n",
       "      <th>Табельный  №</th>\n",
       "      <th>ФИО</th>\n",
       "      <th>Дата рождения</th>\n",
       "      <th>Семейное положение</th>\n",
       "      <th>Стаж работы в СИБУР</th>\n",
       "      <th>sibur_exp_years</th>\n",
       "    </tr>\n",
       "  </thead>\n",
       "  <tbody>\n",
       "    <tr>\n",
       "      <th>0</th>\n",
       "      <td>Озерный город</td>\n",
       "      <td>433602817.0</td>\n",
       "      <td>Саламатова Алла Иосифовна</td>\n",
       "      <td>1971-08-19 00:00:00</td>\n",
       "      <td>Состоит в зарегистрированном браке</td>\n",
       "      <td>лет: 18 мес: 5 дн:28</td>\n",
       "      <td>18.493379</td>\n",
       "    </tr>\n",
       "    <tr>\n",
       "      <th>1</th>\n",
       "      <td>Озерный город</td>\n",
       "      <td>433350763.0</td>\n",
       "      <td>Немов Игорь Ипатиевич</td>\n",
       "      <td>1957-01-30 00:00:00</td>\n",
       "      <td>Состоит в зарегистрированном браке</td>\n",
       "      <td>лет: 14 мес:11 дн: 0</td>\n",
       "      <td>14.916667</td>\n",
       "    </tr>\n",
       "    <tr>\n",
       "      <th>2</th>\n",
       "      <td>Озерный город</td>\n",
       "      <td>433579962.0</td>\n",
       "      <td>Воропаев Никон Демьянович</td>\n",
       "      <td>1984-10-25 00:00:00</td>\n",
       "      <td>Состоит в зарегистрированном браке</td>\n",
       "      <td>лет:  7 мес:10 дн: 1</td>\n",
       "      <td>7.836073</td>\n",
       "    </tr>\n",
       "    <tr>\n",
       "      <th>3</th>\n",
       "      <td>Озерный город</td>\n",
       "      <td>NaN</td>\n",
       "      <td>Вакансия</td>\n",
       "      <td>NaN</td>\n",
       "      <td>NaN</td>\n",
       "      <td>лет:  0 мес: 0 дн: 0</td>\n",
       "      <td>0.000000</td>\n",
       "    </tr>\n",
       "    <tr>\n",
       "      <th>4</th>\n",
       "      <td>Озерный город</td>\n",
       "      <td>433602516.0</td>\n",
       "      <td>Шуличенко Каролина Анатолиевна</td>\n",
       "      <td>1970-06-12 00:00:00</td>\n",
       "      <td>Состоит в зарегистрированном браке</td>\n",
       "      <td>лет:  0 мес: 1 дн:21</td>\n",
       "      <td>0.140868</td>\n",
       "    </tr>\n",
       "  </tbody>\n",
       "</table>\n",
       "</div>"
      ],
      "text/plain": [
       "     Предприятие  Табельный  №                               ФИО  \\\n",
       "0  Озерный город   433602817.0        Саламатова Алла Иосифовна    \n",
       "1  Озерный город   433350763.0            Немов Игорь Ипатиевич    \n",
       "2  Озерный город   433579962.0        Воропаев Никон Демьянович    \n",
       "3  Озерный город           NaN                          Вакансия   \n",
       "4  Озерный город   433602516.0   Шуличенко Каролина Анатолиевна    \n",
       "\n",
       "         Дата рождения                  Семейное положение  \\\n",
       "0  1971-08-19 00:00:00  Состоит в зарегистрированном браке   \n",
       "1  1957-01-30 00:00:00  Состоит в зарегистрированном браке   \n",
       "2  1984-10-25 00:00:00  Состоит в зарегистрированном браке   \n",
       "3                  NaN                                 NaN   \n",
       "4  1970-06-12 00:00:00  Состоит в зарегистрированном браке   \n",
       "\n",
       "    Стаж работы в СИБУР  sibur_exp_years  \n",
       "0  лет: 18 мес: 5 дн:28        18.493379  \n",
       "1  лет: 14 мес:11 дн: 0        14.916667  \n",
       "2  лет:  7 мес:10 дн: 1         7.836073  \n",
       "3  лет:  0 мес: 0 дн: 0         0.000000  \n",
       "4  лет:  0 мес: 1 дн:21         0.140868  "
      ]
     },
     "execution_count": 52,
     "metadata": {},
     "output_type": "execute_result"
    }
   ],
   "source": [
    "exp_years.head()"
   ]
  },
  {
   "cell_type": "code",
   "execution_count": 59,
   "metadata": {},
   "outputs": [],
   "source": [
    "exp_years = exp_years[~np.isnan(exp_years['Табельный  №'])]"
   ]
  },
  {
   "cell_type": "code",
   "execution_count": 60,
   "metadata": {},
   "outputs": [],
   "source": [
    "exp_years['department'] = exp_years['Предприятие']\n",
    "del exp_years['Предприятие']"
   ]
  },
  {
   "cell_type": "code",
   "execution_count": 61,
   "metadata": {},
   "outputs": [],
   "source": [
    "exp_years['user_id'] = exp_years['Табельный  №']\n",
    "del exp_years['Табельный  №']"
   ]
  },
  {
   "cell_type": "code",
   "execution_count": 62,
   "metadata": {},
   "outputs": [],
   "source": [
    "del exp_years['ФИО']"
   ]
  },
  {
   "cell_type": "code",
   "execution_count": 64,
   "metadata": {},
   "outputs": [],
   "source": [
    "del exp_years['Стаж работы в СИБУР']"
   ]
  },
  {
   "cell_type": "code",
   "execution_count": 66,
   "metadata": {},
   "outputs": [],
   "source": [
    "exp_years['birthday'] = exp_years['Дата рождения']\n",
    "del exp_years['Дата рождения']"
   ]
  },
  {
   "cell_type": "code",
   "execution_count": 68,
   "metadata": {},
   "outputs": [
    {
     "data": {
      "text/html": [
       "<div>\n",
       "<style scoped>\n",
       "    .dataframe tbody tr th:only-of-type {\n",
       "        vertical-align: middle;\n",
       "    }\n",
       "\n",
       "    .dataframe tbody tr th {\n",
       "        vertical-align: top;\n",
       "    }\n",
       "\n",
       "    .dataframe thead th {\n",
       "        text-align: right;\n",
       "    }\n",
       "</style>\n",
       "<table border=\"1\" class=\"dataframe\">\n",
       "  <thead>\n",
       "    <tr style=\"text-align: right;\">\n",
       "      <th></th>\n",
       "      <th>Семейное положение</th>\n",
       "      <th>sibur_exp_years</th>\n",
       "      <th>department</th>\n",
       "      <th>user_id</th>\n",
       "      <th>birthday</th>\n",
       "    </tr>\n",
       "  </thead>\n",
       "  <tbody>\n",
       "    <tr>\n",
       "      <th>0</th>\n",
       "      <td>Состоит в зарегистрированном браке</td>\n",
       "      <td>18.493379</td>\n",
       "      <td>Озерный город</td>\n",
       "      <td>433602817.0</td>\n",
       "      <td>1971-08-19 00:00:00</td>\n",
       "    </tr>\n",
       "    <tr>\n",
       "      <th>1</th>\n",
       "      <td>Состоит в зарегистрированном браке</td>\n",
       "      <td>14.916667</td>\n",
       "      <td>Озерный город</td>\n",
       "      <td>433350763.0</td>\n",
       "      <td>1957-01-30 00:00:00</td>\n",
       "    </tr>\n",
       "    <tr>\n",
       "      <th>2</th>\n",
       "      <td>Состоит в зарегистрированном браке</td>\n",
       "      <td>7.836073</td>\n",
       "      <td>Озерный город</td>\n",
       "      <td>433579962.0</td>\n",
       "      <td>1984-10-25 00:00:00</td>\n",
       "    </tr>\n",
       "    <tr>\n",
       "      <th>4</th>\n",
       "      <td>Состоит в зарегистрированном браке</td>\n",
       "      <td>0.140868</td>\n",
       "      <td>Озерный город</td>\n",
       "      <td>433602516.0</td>\n",
       "      <td>1970-06-12 00:00:00</td>\n",
       "    </tr>\n",
       "    <tr>\n",
       "      <th>5</th>\n",
       "      <td>Никогда не состоял (не состояла) в браке</td>\n",
       "      <td>14.916667</td>\n",
       "      <td>Озерный город</td>\n",
       "      <td>433417399.0</td>\n",
       "      <td>1975-03-23 00:00:00</td>\n",
       "    </tr>\n",
       "  </tbody>\n",
       "</table>\n",
       "</div>"
      ],
      "text/plain": [
       "                         Семейное положение  sibur_exp_years     department  \\\n",
       "0        Состоит в зарегистрированном браке        18.493379  Озерный город   \n",
       "1        Состоит в зарегистрированном браке        14.916667  Озерный город   \n",
       "2        Состоит в зарегистрированном браке         7.836073  Озерный город   \n",
       "4        Состоит в зарегистрированном браке         0.140868  Озерный город   \n",
       "5  Никогда не состоял (не состояла) в браке        14.916667  Озерный город   \n",
       "\n",
       "       user_id             birthday  \n",
       "0  433602817.0  1971-08-19 00:00:00  \n",
       "1  433350763.0  1957-01-30 00:00:00  \n",
       "2  433579962.0  1984-10-25 00:00:00  \n",
       "4  433602516.0  1970-06-12 00:00:00  \n",
       "5  433417399.0  1975-03-23 00:00:00  "
      ]
     },
     "execution_count": 68,
     "metadata": {},
     "output_type": "execute_result"
    }
   ],
   "source": [
    "exp_years.head()"
   ]
  },
  {
   "cell_type": "code",
   "execution_count": 76,
   "metadata": {},
   "outputs": [],
   "source": [
    "exp_years = exp_years[exp_years['Семейное положение'] != 4.74337899543379]"
   ]
  },
  {
   "cell_type": "code",
   "execution_count": 77,
   "metadata": {},
   "outputs": [],
   "source": [
    "exp_years.reset_index(inplace=True)"
   ]
  },
  {
   "cell_type": "code",
   "execution_count": 72,
   "metadata": {},
   "outputs": [
    {
     "data": {
      "text/plain": [
       "array(['Состоит в зарегистрированном браке',\n",
       "       'Никогда не состоял (не состояла) в браке', 'Разведен (разведена)',\n",
       "       'Вдовец (вдова)', 'одинокая мать',\n",
       "       'Состоит в незарегистрированном браке', nan, 4.74337899543379],\n",
       "      dtype=object)"
      ]
     },
     "execution_count": 72,
     "metadata": {},
     "output_type": "execute_result"
    }
   ],
   "source": [
    "exp_years['Семейное положение'].unique()"
   ]
  },
  {
   "cell_type": "code",
   "execution_count": 82,
   "metadata": {},
   "outputs": [
    {
     "data": {
      "text/plain": [
       "(26576, 6)"
      ]
     },
     "execution_count": 82,
     "metadata": {},
     "output_type": "execute_result"
    }
   ],
   "source": [
    "exp_years.shape"
   ]
  },
  {
   "cell_type": "code",
   "execution_count": 85,
   "metadata": {},
   "outputs": [],
   "source": [
    "exp_years = pd.concat([exp_years, pd.get_dummies(exp_years['Семейное положение'])], axis=1) "
   ]
  },
  {
   "cell_type": "code",
   "execution_count": 86,
   "metadata": {},
   "outputs": [],
   "source": [
    "del exp_years['Семейное положение']"
   ]
  },
  {
   "cell_type": "code",
   "execution_count": null,
   "metadata": {},
   "outputs": [],
   "source": []
  }
 ],
 "metadata": {
  "kernelspec": {
   "display_name": "Python 3",
   "language": "python",
   "name": "python3"
  },
  "language_info": {
   "codemirror_mode": {
    "name": "ipython",
    "version": 3
   },
   "file_extension": ".py",
   "mimetype": "text/x-python",
   "name": "python",
   "nbconvert_exporter": "python",
   "pygments_lexer": "ipython3",
   "version": "3.6.4"
  }
 },
 "nbformat": 4,
 "nbformat_minor": 2
}
